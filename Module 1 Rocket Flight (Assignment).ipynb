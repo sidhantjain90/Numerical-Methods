{
 "cells": [
  {
   "cell_type": "code",
   "execution_count": 31,
   "metadata": {},
   "outputs": [],
   "source": [
    "import math\n",
    "import numpy as np"
   ]
  },
  {
   "cell_type": "code",
   "execution_count": 32,
   "metadata": {},
   "outputs": [],
   "source": [
    "import matplotlib.pyplot as plt"
   ]
  },
  {
   "cell_type": "code",
   "execution_count": 33,
   "metadata": {},
   "outputs": [],
   "source": [
    "%matplotlib inline"
   ]
  },
  {
   "cell_type": "code",
   "execution_count": 105,
   "metadata": {},
   "outputs": [],
   "source": [
    "# Set parameters.\n",
    "Ms = 50.0 # weight of rocket shell (kg)\n",
    "g = 9.81 # acceleration due to gravity (m.s^{-2})\n",
    "rho = 1.091 # Average air density (kg.m^{-3})\n",
    "r = 0.5 # radius (m)\n",
    "A = math.pi * r**2 # Maximum cross sectional area of the rocket (m^2)\n",
    "ve = 325 # exhaust speed (m.s^{-1})\n",
    "CD = 0.15 # drag coefficient\n",
    "\n",
    "# Set initial conditions.\n",
    "Mpo = 100.0 # initial weight of the rocket propellant (kg)\n",
    "Mp_dot = 0.0 # burning rate at t=0\n",
    "v0 = 0.0 # intial velocity\n",
    "h0 = 0.0 # initial height"
   ]
  },
  {
   "cell_type": "code",
   "execution_count": 106,
   "metadata": {},
   "outputs": [],
   "source": [
    "def rhs_rocket(u, g, ve, A, CD, rho, Mp_dot, Ms):\n",
    "    h, v, Mp = u\n",
    "    rhs = np.array([v,\n",
    "                    -g + Mp_dot * ve / (Ms + Mp) - 0.5 * rho * v**2 * A * CD / (Ms + Mp),\n",
    "                    -Mp_dot])\n",
    "    return rhs"
   ]
  },
  {
   "cell_type": "code",
   "execution_count": 107,
   "metadata": {},
   "outputs": [],
   "source": [
    "def euler_step(u, f, dt, *args):\n",
    "    u_new = u + dt * f(u, *args)\n",
    "    return u_new"
   ]
  },
  {
   "cell_type": "code",
   "execution_count": 200,
   "metadata": {},
   "outputs": [],
   "source": [
    "T = 28.2  # length of the time interval\n",
    "dt = 0.1  # time-step size\n",
    "N = int(T / dt) + 1  # number of time steps\n",
    "t = np.linspace(0.0, T, num=N)\n",
    "\n",
    "# Burning rate for first 5 seconds.\n",
    "Mp_dot = 20.0\n",
    "\n",
    "# Create array to store the solution at each time step.\n",
    "u = np.empty((N, 3))\n",
    "\n",
    "# Set the initial conditions.\n",
    "u[0] = np.array([h0, v0, Mpo])\n",
    "\n",
    "# Time integration using Euler's method.\n",
    "for n in range(N - 1):\n",
    "    if n > 49:\n",
    "        Mp_dot = 0.0\n",
    "    u[n + 1] = euler_step(u[n], rhs_rocket, dt, g, ve, A, CD, rho, Mp_dot, Ms)"
   ]
  },
  {
   "cell_type": "code",
   "execution_count": 202,
   "metadata": {},
   "outputs": [
    {
     "data": {
      "text/plain": [
       "[<matplotlib.lines.Line2D at 0x7f9f84076198>]"
      ]
     },
     "execution_count": 202,
     "metadata": {},
     "output_type": "execute_result"
    },
    {
     "data": {
      "image/png": "[encoded data removed]",
      "text/plain": [
       "<Figure size 432x432 with 1 Axes>"
      ]
     },
     "metadata": {
      "needs_background": "light"
     },
     "output_type": "display_data"
    }
   ],
   "source": [
    "plt.figure(figsize=(6.0, 6.0))\n",
    "plt.grid()\n",
    "plt.plot(t, u[:,0])"
   ]
  },
  {
   "cell_type": "code",
   "execution_count": 225,
   "metadata": {},
   "outputs": [
    {
     "data": {
      "text/plain": [
       "282"
      ]
     },
     "execution_count": 225,
     "metadata": {},
     "output_type": "execute_result"
    }
   ],
   "source": [
    "# Time at which rocket hits the ground\n",
    "np.where(u[:,0] <= 0)[0][2]"
   ]
  },
  {
   "cell_type": "code",
   "execution_count": 177,
   "metadata": {},
   "outputs": [
    {
     "data": {
      "text/plain": [
       "232.1061334126179"
      ]
     },
     "execution_count": 177,
     "metadata": {},
     "output_type": "execute_result"
    }
   ],
   "source": [
    "# Maximum velocity achieved\n",
    "np.max(u[:,1])"
   ]
  },
  {
   "cell_type": "code",
   "execution_count": 178,
   "metadata": {},
   "outputs": [
    {
     "data": {
      "text/plain": [
       "1334.1829454303067"
      ]
     },
     "execution_count": 178,
     "metadata": {},
     "output_type": "execute_result"
    }
   ],
   "source": [
    "# Maximum altitude\n",
    "u[157,0]"
   ]
  },
  {
   "cell_type": "code",
   "execution_count": 179,
   "metadata": {},
   "outputs": [
    {
     "data": {
      "text/plain": [
       "15.700000000000001"
      ]
     },
     "execution_count": 179,
     "metadata": {},
     "output_type": "execute_result"
    }
   ],
   "source": [
    "# Time at which rocket reaches maximum altitude\n",
    "tmax = 157 * 0.1\n",
    "tmax"
   ]
  }
 ],
 "metadata": {
  "kernelspec": {
   "display_name": "Python 3",
   "language": "python",
   "name": "python3"
  },
  "language_info": {
   "codemirror_mode": {
    "name": "ipython",
    "version": 3
   },
   "file_extension": ".py",
   "mimetype": "text/x-python",
   "name": "python",
   "nbconvert_exporter": "python",
   "pygments_lexer": "ipython3",
   "version": "3.7.3"
  }
 },
 "nbformat": 4,
 "nbformat_minor": 2
}
