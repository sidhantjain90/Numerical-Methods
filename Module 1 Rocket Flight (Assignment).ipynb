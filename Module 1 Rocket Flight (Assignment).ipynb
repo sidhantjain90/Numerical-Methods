{
 "cells": [
  {
   "cell_type": "code",
   "execution_count": 31,
   "metadata": {},
   "outputs": [],
   "source": [
    "import math\n",
    "import numpy as np"
   ]
  },
  {
   "cell_type": "code",
   "execution_count": 32,
   "metadata": {},
   "outputs": [],
   "source": [
    "import matplotlib.pyplot as plt"
   ]
  },
  {
   "cell_type": "code",
   "execution_count": 33,
   "metadata": {},
   "outputs": [],
   "source": [
    "%matplotlib inline"
   ]
  },
  {
   "cell_type": "code",
   "execution_count": 105,
   "metadata": {},
   "outputs": [],
   "source": [
    "# Set parameters.\n",
    "Ms = 50.0 # weight of rocket shell (kg)\n",
    "g = 9.81 # acceleration due to gravity (m.s^{-2})\n",
    "rho = 1.091 # Average air density (kg.m^{-3})\n",
    "r = 0.5 # radius (m)\n",
    "A = math.pi * r**2 # Maximum cross sectional area of the rocket (m^2)\n",
    "ve = 325 # exhaust speed (m.s^{-1})\n",
    "CD = 0.15 # drag coefficient\n",
    "\n",
    "# Set initial conditions.\n",
    "Mpo = 100.0 # initial weight of the rocket propellant (kg)\n",
    "Mp_dot = 0.0 # burning rate at t=0\n",
    "v0 = 0.0 # intial velocity\n",
    "h0 = 0.0 # initial height"
   ]
  },
  {
   "cell_type": "code",
   "execution_count": 106,
   "metadata": {},
   "outputs": [],
   "source": [
    "def rhs_rocket(u, g, ve, A, CD, rho, Mp_dot, Ms):\n",
    "    h, v, Mp = u\n",
    "    rhs = np.array([v,\n",
    "                    -g + Mp_dot * ve / (Ms + Mp) - 0.5 * rho * v**2 * A * CD / (Ms + Mp),\n",
    "                    -Mp_dot])\n",
    "    return rhs"
   ]
  },
  {
   "cell_type": "code",
   "execution_count": 107,
   "metadata": {},
   "outputs": [],
   "source": [
    "def euler_step(u, f, dt, *args):\n",
    "    u_new = u + dt * f(u, *args)\n",
    "    return u_new"
   ]
  },
  {
   "cell_type": "code",
   "execution_count": 200,
   "metadata": {},
   "outputs": [],
   "source": [
    "T = 28.2  # length of the time interval\n",
    "dt = 0.1  # time-step size\n",
    "N = int(T / dt) + 1  # number of time steps\n",
    "t = np.linspace(0.0, T, num=N)\n",
    "\n",
    "# Burning rate for first 5 seconds.\n",
    "Mp_dot = 20.0\n",
    "\n",
    "# Create array to store the solution at each time step.\n",
    "u = np.empty((N, 3))\n",
    "\n",
    "# Set the initial conditions.\n",
    "u[0] = np.array([h0, v0, Mpo])\n",
    "\n",
    "# Time integration using Euler's method.\n",
    "for n in range(N - 1):\n",
    "    if n > 49:\n",
    "        Mp_dot = 0.0\n",
    "    u[n + 1] = euler_step(u[n], rhs_rocket, dt, g, ve, A, CD, rho, Mp_dot, Ms)"
   ]
  },
  {
   "cell_type": "code",
   "execution_count": 201,
   "metadata": {},
   "outputs": [
    {
     "data": {
      "text/plain": [
       "array([[ 0.00000000e+00,  0.00000000e+00,  1.00000000e+02],\n",
       "       [ 0.00000000e+00,  3.35233333e+00,  9.80000000e+01],\n",
       "       [ 3.35233333e-01,  6.76273724e+00,  9.60000000e+01],\n",
       "       [ 1.01150706e+00,  1.02317789e+01,  9.40000000e+01],\n",
       "       [ 2.03468495e+00,  1.37599957e+01,  9.20000000e+01],\n",
       "       [ 3.41068452e+00,  1.73478916e+01,  9.00000000e+01],\n",
       "       [ 5.14547367e+00,  2.09959340e+01,  8.80000000e+01],\n",
       "       [ 7.24506708e+00,  2.47045500e+01,  8.60000000e+01],\n",
       "       [ 9.71552207e+00,  2.84741220e+01,  8.40000000e+01],\n",
       "       [ 1.25629343e+01,  3.23049842e+01,  8.20000000e+01],\n",
       "       [ 1.57934327e+01,  3.61974176e+01,  8.00000000e+01],\n",
       "       [ 1.94131745e+01,  4.01516455e+01,  7.80000000e+01],\n",
       "       [ 2.34283390e+01,  4.41678288e+01,  7.60000000e+01],\n",
       "       [ 2.78451219e+01,  4.82460602e+01,  7.40000000e+01],\n",
       "       [ 3.26697279e+01,  5.23863594e+01,  7.20000000e+01],\n",
       "       [ 3.79083639e+01,  5.65886668e+01,  7.00000000e+01],\n",
       "       [ 4.35672306e+01,  6.08528377e+01,  6.80000000e+01],\n",
       "       [ 4.96525143e+01,  6.51786356e+01,  6.60000000e+01],\n",
       "       [ 5.61703779e+01,  6.95657262e+01,  6.40000000e+01],\n",
       "       [ 6.31269505e+01,  7.40136697e+01,  6.20000000e+01],\n",
       "       [ 7.05283175e+01,  7.85219141e+01,  6.00000000e+01],\n",
       "       [ 7.83805089e+01,  8.30897874e+01,  5.80000000e+01],\n",
       "       [ 8.66894876e+01,  8.77164898e+01,  5.60000000e+01],\n",
       "       [ 9.54611366e+01,  9.24010858e+01,  5.40000000e+01],\n",
       "       [ 1.04701245e+02,  9.71424956e+01,  5.20000000e+01],\n",
       "       [ 1.14415495e+02,  1.01939487e+02,  5.00000000e+01],\n",
       "       [ 1.24609443e+02,  1.06790665e+02,  4.80000000e+01],\n",
       "       [ 1.35288510e+02,  1.11694464e+02,  4.60000000e+01],\n",
       "       [ 1.46457956e+02,  1.16649141e+02,  4.40000000e+01],\n",
       "       [ 1.58122870e+02,  1.21652760e+02,  4.20000000e+01],\n",
       "       [ 1.70288146e+02,  1.26703188e+02,  4.00000000e+01],\n",
       "       [ 1.82958465e+02,  1.31798084e+02,  3.80000000e+01],\n",
       "       [ 1.96138274e+02,  1.36934886e+02,  3.60000000e+01],\n",
       "       [ 2.09831762e+02,  1.42110808e+02,  3.40000000e+01],\n",
       "       [ 2.24042843e+02,  1.47322824e+02,  3.20000000e+01],\n",
       "       [ 2.38775125e+02,  1.52567661e+02,  3.00000000e+01],\n",
       "       [ 2.54031891e+02,  1.57841794e+02,  2.80000000e+01],\n",
       "       [ 2.69816071e+02,  1.63141428e+02,  2.60000000e+01],\n",
       "       [ 2.86130214e+02,  1.68462498e+02,  2.40000000e+01],\n",
       "       [ 3.02976463e+02,  1.73800658e+02,  2.20000000e+01],\n",
       "       [ 3.20356529e+02,  1.79151272e+02,  2.00000000e+01],\n",
       "       [ 3.38271657e+02,  1.84509411e+02,  1.80000000e+01],\n",
       "       [ 3.56722598e+02,  1.89869842e+02,  1.60000000e+01],\n",
       "       [ 3.75709582e+02,  1.95227029e+02,  1.40000000e+01],\n",
       "       [ 3.95232285e+02,  2.00575126e+02,  1.20000000e+01],\n",
       "       [ 4.15289797e+02,  2.05907975e+02,  1.00000000e+01],\n",
       "       [ 4.35880595e+02,  2.11219105e+02,  8.00000000e+00],\n",
       "       [ 4.57002505e+02,  2.16501732e+02,  6.00000000e+00],\n",
       "       [ 4.78652678e+02,  2.21748762e+02,  4.00000000e+00],\n",
       "       [ 5.00827555e+02,  2.26952796e+02,  2.00000000e+00],\n",
       "       [ 5.23522834e+02,  2.32106133e+02,  0.00000000e+00],\n",
       "       [ 5.46733448e+02,  2.24200782e+02,  0.00000000e+00],\n",
       "       [ 5.69153526e+02,  2.16759073e+02,  0.00000000e+00],\n",
       "       [ 5.90829433e+02,  2.09739137e+02,  0.00000000e+00],\n",
       "       [ 6.11803347e+02,  2.03104019e+02,  0.00000000e+00],\n",
       "       [ 6.32113749e+02,  1.96820980e+02,  0.00000000e+00],\n",
       "       [ 6.51795847e+02,  1.90860905e+02,  0.00000000e+00],\n",
       "       [ 6.70881937e+02,  1.85197814e+02,  0.00000000e+00],\n",
       "       [ 6.89401719e+02,  1.79808448e+02,  0.00000000e+00],\n",
       "       [ 7.07382563e+02,  1.74671922e+02,  0.00000000e+00],\n",
       "       [ 7.24849756e+02,  1.69769423e+02,  0.00000000e+00],\n",
       "       [ 7.41826698e+02,  1.65083964e+02,  0.00000000e+00],\n",
       "       [ 7.58335094e+02,  1.60600161e+02,  0.00000000e+00],\n",
       "       [ 7.74395110e+02,  1.56304052e+02,  0.00000000e+00],\n",
       "       [ 7.90025516e+02,  1.52182931e+02,  0.00000000e+00],\n",
       "       [ 8.05243809e+02,  1.48225212e+02,  0.00000000e+00],\n",
       "       [ 8.20066330e+02,  1.44420307e+02,  0.00000000e+00],\n",
       "       [ 8.34508361e+02,  1.40758520e+02,  0.00000000e+00],\n",
       "       [ 8.48584213e+02,  1.37230952e+02,  0.00000000e+00],\n",
       "       [ 8.62307308e+02,  1.33829424e+02,  0.00000000e+00],\n",
       "       [ 8.75690250e+02,  1.30546404e+02,  0.00000000e+00],\n",
       "       [ 8.88744891e+02,  1.27374942e+02,  0.00000000e+00],\n",
       "       [ 9.01482385e+02,  1.24308616e+02,  0.00000000e+00],\n",
       "       [ 9.13913246e+02,  1.21341483e+02,  0.00000000e+00],\n",
       "       [ 9.26047395e+02,  1.18468033e+02,  0.00000000e+00],\n",
       "       [ 9.37894198e+02,  1.15683150e+02,  0.00000000e+00],\n",
       "       [ 9.49462513e+02,  1.12982081e+02,  0.00000000e+00],\n",
       "       [ 9.60760721e+02,  1.10360396e+02,  0.00000000e+00],\n",
       "       [ 9.71796761e+02,  1.07813971e+02,  0.00000000e+00],\n",
       "       [ 9.82578158e+02,  1.05338952e+02,  0.00000000e+00],\n",
       "       [ 9.93112053e+02,  1.02931741e+02,  0.00000000e+00],\n",
       "       [ 1.00340523e+03,  1.00588969e+02,  0.00000000e+00],\n",
       "       [ 1.01346412e+03,  9.83074798e+01,  0.00000000e+00],\n",
       "       [ 1.02329487e+03,  9.60843155e+01,  0.00000000e+00],\n",
       "       [ 1.03290330e+03,  9.39166976e+01,  0.00000000e+00],\n",
       "       [ 1.04229497e+03,  9.18020150e+01,  0.00000000e+00],\n",
       "       [ 1.05147517e+03,  8.97378108e+01,  0.00000000e+00],\n",
       "       [ 1.06044896e+03,  8.77217715e+01,  0.00000000e+00],\n",
       "       [ 1.06922113e+03,  8.57517160e+01,  0.00000000e+00],\n",
       "       [ 1.07779630e+03,  8.38255860e+01,  0.00000000e+00],\n",
       "       [ 1.08617886e+03,  8.19414377e+01,  0.00000000e+00],\n",
       "       [ 1.09437301e+03,  8.00974332e+01,  0.00000000e+00],\n",
       "       [ 1.10238275e+03,  7.82918337e+01,  0.00000000e+00],\n",
       "       [ 1.11021193e+03,  7.65229922e+01,  0.00000000e+00],\n",
       "       [ 1.11786423e+03,  7.47893479e+01,  0.00000000e+00],\n",
       "       [ 1.12534317e+03,  7.30894199e+01,  0.00000000e+00],\n",
       "       [ 1.13265211e+03,  7.14218024e+01,  0.00000000e+00],\n",
       "       [ 1.13979429e+03,  6.97851592e+01,  0.00000000e+00],\n",
       "       [ 1.14677281e+03,  6.81782202e+01,  0.00000000e+00],\n",
       "       [ 1.15359063e+03,  6.65997762e+01,  0.00000000e+00],\n",
       "       [ 1.16025061e+03,  6.50486757e+01,  0.00000000e+00],\n",
       "       [ 1.16675547e+03,  6.35238211e+01,  0.00000000e+00],\n",
       "       [ 1.17310786e+03,  6.20241654e+01,  0.00000000e+00],\n",
       "       [ 1.17931027e+03,  6.05487093e+01,  0.00000000e+00],\n",
       "       [ 1.18536514e+03,  5.90964980e+01,  0.00000000e+00],\n",
       "       [ 1.19127479e+03,  5.76666189e+01,  0.00000000e+00],\n",
       "       [ 1.19704145e+03,  5.62581989e+01,  0.00000000e+00],\n",
       "       [ 1.20266727e+03,  5.48704021e+01,  0.00000000e+00],\n",
       "       [ 1.20815431e+03,  5.35024278e+01,  0.00000000e+00],\n",
       "       [ 1.21350456e+03,  5.21535082e+01,  0.00000000e+00],\n",
       "       [ 1.21871991e+03,  5.08229070e+01,  0.00000000e+00],\n",
       "       [ 1.22380220e+03,  4.95099171e+01,  0.00000000e+00],\n",
       "       [ 1.22875319e+03,  4.82138592e+01,  0.00000000e+00],\n",
       "       [ 1.23357458e+03,  4.69340805e+01,  0.00000000e+00],\n",
       "       [ 1.23826798e+03,  4.56699527e+01,  0.00000000e+00],\n",
       "       [ 1.24283498e+03,  4.44208711e+01,  0.00000000e+00],\n",
       "       [ 1.24727707e+03,  4.31862531e+01,  0.00000000e+00],\n",
       "       [ 1.25159569e+03,  4.19655371e+01,  0.00000000e+00],\n",
       "       [ 1.25579225e+03,  4.07581814e+01,  0.00000000e+00],\n",
       "       [ 1.25986806e+03,  3.95636629e+01,  0.00000000e+00],\n",
       "       [ 1.26382443e+03,  3.83814764e+01,  0.00000000e+00],\n",
       "       [ 1.26766258e+03,  3.72111334e+01,  0.00000000e+00],\n",
       "       [ 1.27138369e+03,  3.60521614e+01,  0.00000000e+00],\n",
       "       [ 1.27498891e+03,  3.49041030e+01,  0.00000000e+00],\n",
       "       [ 1.27847932e+03,  3.37665148e+01,  0.00000000e+00],\n",
       "       [ 1.28185597e+03,  3.26389673e+01,  0.00000000e+00],\n",
       "       [ 1.28511987e+03,  3.15210436e+01,  0.00000000e+00],\n",
       "       [ 1.28827197e+03,  3.04123389e+01,  0.00000000e+00],\n",
       "       [ 1.29131320e+03,  2.93124597e+01,  0.00000000e+00],\n",
       "       [ 1.29424445e+03,  2.82210238e+01,  0.00000000e+00],\n",
       "       [ 1.29706655e+03,  2.71376588e+01,  0.00000000e+00],\n",
       "       [ 1.29978032e+03,  2.60620023e+01,  0.00000000e+00],\n",
       "       [ 1.30238652e+03,  2.49937008e+01,  0.00000000e+00],\n",
       "       [ 1.30488589e+03,  2.39324098e+01,  0.00000000e+00],\n",
       "       [ 1.30727913e+03,  2.28777927e+01,  0.00000000e+00],\n",
       "       [ 1.30956691e+03,  2.18295207e+01,  0.00000000e+00],\n",
       "       [ 1.31174986e+03,  2.07872724e+01,  0.00000000e+00],\n",
       "       [ 1.31382859e+03,  1.97507330e+01,  0.00000000e+00],\n",
       "       [ 1.31580366e+03,  1.87195944e+01,  0.00000000e+00],\n",
       "       [ 1.31767562e+03,  1.76935544e+01,  0.00000000e+00],\n",
       "       [ 1.31944498e+03,  1.66723164e+01,  0.00000000e+00],\n",
       "       [ 1.32111221e+03,  1.56555893e+01,  0.00000000e+00],\n",
       "       [ 1.32267777e+03,  1.46430868e+01,  0.00000000e+00],\n",
       "       [ 1.32414208e+03,  1.36345273e+01,  0.00000000e+00],\n",
       "       [ 1.32550553e+03,  1.26296335e+01,  0.00000000e+00],\n",
       "       [ 1.32676849e+03,  1.16281319e+01,  0.00000000e+00],\n",
       "       [ 1.32793130e+03,  1.06297529e+01,  0.00000000e+00],\n",
       "       [ 1.32899428e+03,  9.63423000e+00,  0.00000000e+00],\n",
       "       [ 1.32995770e+03,  8.64130002e+00,  0.00000000e+00],\n",
       "       [ 1.33082183e+03,  7.65070239e+00,  0.00000000e+00],\n",
       "       [ 1.33158690e+03,  6.66217909e+00,  0.00000000e+00],\n",
       "       [ 1.33225312e+03,  5.67547431e+00,  0.00000000e+00],\n",
       "       [ 1.33282067e+03,  4.69033422e+00,  0.00000000e+00],\n",
       "       [ 1.33328970e+03,  3.70650665e+00,  0.00000000e+00],\n",
       "       [ 1.33366035e+03,  2.72374087e+00,  0.00000000e+00],\n",
       "       [ 1.33393273e+03,  1.74178733e+00,  0.00000000e+00],\n",
       "       [ 1.33410691e+03,  7.60397396e-01,  0.00000000e+00],\n",
       "       [ 1.33418295e+03, -2.20676921e-01,  0.00000000e+00],\n",
       "       [ 1.33416088e+03, -1.20168318e+00,  0.00000000e+00],\n",
       "       [ 1.33404071e+03, -2.18286878e+00,  0.00000000e+00],\n",
       "       [ 1.33382242e+03, -3.16448122e+00,  0.00000000e+00],\n",
       "       [ 1.33350597e+03, -4.14676832e+00,  0.00000000e+00],\n",
       "       [ 1.33309130e+03, -5.12997848e+00,  0.00000000e+00],\n",
       "       [ 1.33257830e+03, -6.11436098e+00,  0.00000000e+00],\n",
       "       [ 1.33196686e+03, -7.10016614e+00,  0.00000000e+00],\n",
       "       [ 1.33125685e+03, -8.08764566e+00,  0.00000000e+00],\n",
       "       [ 1.33044808e+03, -9.07705284e+00,  0.00000000e+00],\n",
       "       [ 1.32954038e+03, -1.00686428e+01,  0.00000000e+00],\n",
       "       [ 1.32853351e+03, -1.10626729e+01,  0.00000000e+00],\n",
       "       [ 1.32742725e+03, -1.20594028e+01,  0.00000000e+00],\n",
       "       [ 1.32622131e+03, -1.30590949e+01,  0.00000000e+00],\n",
       "       [ 1.32491540e+03, -1.40620145e+01,  0.00000000e+00],\n",
       "       [ 1.32350919e+03, -1.50684301e+01,  0.00000000e+00],\n",
       "       [ 1.32200235e+03, -1.60786139e+01,  0.00000000e+00],\n",
       "       [ 1.32039449e+03, -1.70928418e+01,  0.00000000e+00],\n",
       "       [ 1.31868521e+03, -1.81113940e+01,  0.00000000e+00],\n",
       "       [ 1.31687407e+03, -1.91345548e+01,  0.00000000e+00],\n",
       "       [ 1.31496061e+03, -2.01626138e+01,  0.00000000e+00],\n",
       "       [ 1.31294435e+03, -2.11958654e+01,  0.00000000e+00],\n",
       "       [ 1.31082476e+03, -2.22346096e+01,  0.00000000e+00],\n",
       "       [ 1.30860130e+03, -2.32791522e+01,  0.00000000e+00],\n",
       "       [ 1.30627339e+03, -2.43298052e+01,  0.00000000e+00],\n",
       "       [ 1.30384041e+03, -2.53868875e+01,  0.00000000e+00],\n",
       "       [ 1.30130172e+03, -2.64507245e+01,  0.00000000e+00],\n",
       "       [ 1.29865665e+03, -2.75216497e+01,  0.00000000e+00],\n",
       "       [ 1.29590448e+03, -2.86000039e+01,  0.00000000e+00],\n",
       "       [ 1.29304448e+03, -2.96861367e+01,  0.00000000e+00],\n",
       "       [ 1.29007587e+03, -3.07804062e+01,  0.00000000e+00],\n",
       "       [ 1.28699783e+03, -3.18831802e+01,  0.00000000e+00],\n",
       "       [ 1.28380951e+03, -3.29948362e+01,  0.00000000e+00],\n",
       "       [ 1.28051002e+03, -3.41157620e+01,  0.00000000e+00],\n",
       "       [ 1.27709845e+03, -3.52463566e+01,  0.00000000e+00],\n",
       "       [ 1.27357381e+03, -3.63870307e+01,  0.00000000e+00],\n",
       "       [ 1.26993511e+03, -3.75382070e+01,  0.00000000e+00],\n",
       "       [ 1.26618129e+03, -3.87003214e+01,  0.00000000e+00],\n",
       "       [ 1.26231126e+03, -3.98738233e+01,  0.00000000e+00],\n",
       "       [ 1.25832387e+03, -4.10591766e+01,  0.00000000e+00],\n",
       "       [ 1.25421796e+03, -4.22568604e+01,  0.00000000e+00],\n",
       "       [ 1.24999227e+03, -4.34673697e+01,  0.00000000e+00],\n",
       "       [ 1.24564553e+03, -4.46912166e+01,  0.00000000e+00],\n",
       "       [ 1.24117641e+03, -4.59289310e+01,  0.00000000e+00],\n",
       "       [ 1.23658352e+03, -4.71810616e+01,  0.00000000e+00],\n",
       "       [ 1.23186541e+03, -4.84481771e+01,  0.00000000e+00],\n",
       "       [ 1.22702059e+03, -4.97308670e+01,  0.00000000e+00],\n",
       "       [ 1.22204751e+03, -5.10297431e+01,  0.00000000e+00],\n",
       "       [ 1.21694453e+03, -5.23454408e+01,  0.00000000e+00],\n",
       "       [ 1.21170999e+03, -5.36786199e+01,  0.00000000e+00],\n",
       "       [ 1.20634213e+03, -5.50299667e+01,  0.00000000e+00],\n",
       "       [ 1.20083913e+03, -5.64001950e+01,  0.00000000e+00],\n",
       "       [ 1.19519911e+03, -5.77900479e+01,  0.00000000e+00],\n",
       "       [ 1.18942011e+03, -5.92002996e+01,  0.00000000e+00],\n",
       "       [ 1.18350008e+03, -6.06317569e+01,  0.00000000e+00],\n",
       "       [ 1.17743690e+03, -6.20852617e+01,  0.00000000e+00],\n",
       "       [ 1.17122837e+03, -6.35616924e+01,  0.00000000e+00],\n",
       "       [ 1.16487221e+03, -6.50619667e+01,  0.00000000e+00],\n",
       "       [ 1.15836601e+03, -6.65870436e+01,  0.00000000e+00],\n",
       "       [ 1.15170730e+03, -6.81379261e+01,  0.00000000e+00],\n",
       "       [ 1.14489351e+03, -6.97156641e+01,  0.00000000e+00],\n",
       "       [ 1.13792195e+03, -7.13213571e+01,  0.00000000e+00],\n",
       "       [ 1.13078981e+03, -7.29561574e+01,  0.00000000e+00],\n",
       "       [ 1.12349419e+03, -7.46212734e+01,  0.00000000e+00],\n",
       "       [ 1.11603207e+03, -7.63179738e+01,  0.00000000e+00],\n",
       "       [ 1.10840027e+03, -7.80475905e+01,  0.00000000e+00],\n",
       "       [ 1.10059551e+03, -7.98115241e+01,  0.00000000e+00],\n",
       "       [ 1.09261436e+03, -8.16112473e+01,  0.00000000e+00],\n",
       "       [ 1.08445323e+03, -8.34483106e+01,  0.00000000e+00],\n",
       "       [ 1.07610840e+03, -8.53243476e+01,  0.00000000e+00],\n",
       "       [ 1.06757597e+03, -8.72410804e+01,  0.00000000e+00],\n",
       "       [ 1.05885186e+03, -8.92003262e+01,  0.00000000e+00],\n",
       "       [ 1.04993183e+03, -9.12040038e+01,  0.00000000e+00],\n",
       "       [ 1.04081143e+03, -9.32541417e+01,  0.00000000e+00],\n",
       "       [ 1.03148601e+03, -9.53528852e+01,  0.00000000e+00],\n",
       "       [ 1.02195072e+03, -9.75025058e+01,  0.00000000e+00],\n",
       "       [ 1.01220047e+03, -9.97054108e+01,  0.00000000e+00],\n",
       "       [ 1.00222993e+03, -1.01964153e+02,  0.00000000e+00],\n",
       "       [ 9.92033516e+02, -1.04281444e+02,  0.00000000e+00],\n",
       "       [ 9.81605372e+02, -1.06660163e+02,  0.00000000e+00],\n",
       "       [ 9.70939356e+02, -1.09103375e+02,  0.00000000e+00],\n",
       "       [ 9.60029018e+02, -1.11614343e+02,  0.00000000e+00],\n",
       "       [ 9.48867584e+02, -1.14196544e+02,  0.00000000e+00],\n",
       "       [ 9.37447929e+02, -1.16853690e+02,  0.00000000e+00],\n",
       "       [ 9.25762560e+02, -1.19589745e+02,  0.00000000e+00],\n",
       "       [ 9.13803586e+02, -1.22408950e+02,  0.00000000e+00],\n",
       "       [ 9.01562691e+02, -1.25315843e+02,  0.00000000e+00],\n",
       "       [ 8.89031107e+02, -1.28315292e+02,  0.00000000e+00],\n",
       "       [ 8.76199577e+02, -1.31412522e+02,  0.00000000e+00],\n",
       "       [ 8.63058325e+02, -1.34613145e+02,  0.00000000e+00],\n",
       "       [ 8.49597011e+02, -1.37923206e+02,  0.00000000e+00],\n",
       "       [ 8.35804690e+02, -1.41349216e+02,  0.00000000e+00],\n",
       "       [ 8.21669768e+02, -1.44898202e+02,  0.00000000e+00],\n",
       "       [ 8.07179948e+02, -1.48577761e+02,  0.00000000e+00],\n",
       "       [ 7.92322172e+02, -1.52396115e+02,  0.00000000e+00],\n",
       "       [ 7.77082561e+02, -1.56362179e+02,  0.00000000e+00],\n",
       "       [ 7.61446343e+02, -1.60485636e+02,  0.00000000e+00],\n",
       "       [ 7.45397779e+02, -1.64777019e+02,  0.00000000e+00],\n",
       "       [ 7.28920077e+02, -1.69247808e+02,  0.00000000e+00],\n",
       "       [ 7.11995296e+02, -1.73910538e+02,  0.00000000e+00],\n",
       "       [ 6.94604242e+02, -1.78778925e+02,  0.00000000e+00],\n",
       "       [ 6.76726350e+02, -1.83868001e+02,  0.00000000e+00],\n",
       "       [ 6.58339550e+02, -1.89194286e+02,  0.00000000e+00],\n",
       "       [ 6.39420121e+02, -1.94775965e+02,  0.00000000e+00],\n",
       "       [ 6.19942525e+02, -2.00633110e+02,  0.00000000e+00],\n",
       "       [ 5.99879214e+02, -2.06787927e+02,  0.00000000e+00],\n",
       "       [ 5.79200421e+02, -2.13265048e+02,  0.00000000e+00],\n",
       "       [ 5.57873916e+02, -2.20091865e+02,  0.00000000e+00],\n",
       "       [ 5.35864730e+02, -2.27298933e+02,  0.00000000e+00],\n",
       "       [ 5.13134837e+02, -2.34920432e+02,  0.00000000e+00],\n",
       "       [ 4.89642793e+02, -2.42994718e+02,  0.00000000e+00],\n",
       "       [ 4.65343322e+02, -2.51564980e+02,  0.00000000e+00],\n",
       "       [ 4.40186824e+02, -2.60680019e+02,  0.00000000e+00],\n",
       "       [ 4.14118822e+02, -2.70395184e+02,  0.00000000e+00],\n",
       "       [ 3.87079303e+02, -2.80773499e+02,  0.00000000e+00],\n",
       "       [ 3.59001953e+02, -2.91887034e+02,  0.00000000e+00],\n",
       "       [ 3.29813250e+02, -3.03818573e+02,  0.00000000e+00],\n",
       "       [ 2.99431393e+02, -3.16663666e+02,  0.00000000e+00],\n",
       "       [ 2.67765026e+02, -3.30533166e+02,  0.00000000e+00],\n",
       "       [ 2.34711709e+02, -3.45556392e+02,  0.00000000e+00],\n",
       "       [ 2.00156070e+02, -3.61885108e+02,  0.00000000e+00],\n",
       "       [ 1.63967559e+02, -3.79698558e+02,  0.00000000e+00],\n",
       "       [ 1.25997704e+02, -3.99209915e+02,  0.00000000e+00],\n",
       "       [ 8.60767121e+01, -4.20674620e+02,  0.00000000e+00],\n",
       "       [ 4.40092500e+01, -4.44401279e+02,  0.00000000e+00],\n",
       "       [-4.30877878e-01, -4.70766070e+02,  0.00000000e+00]])"
      ]
     },
     "execution_count": 201,
     "metadata": {},
     "output_type": "execute_result"
    }
   ],
   "source": [
    "u"
   ]
  },
  {
   "cell_type": "code",
   "execution_count": 202,
   "metadata": {},
   "outputs": [
    {
     "data": {
      "text/plain": [
       "[<matplotlib.lines.Line2D at 0x7f9f84076198>]"
      ]
     },
     "execution_count": 202,
     "metadata": {},
     "output_type": "execute_result"
    },
    {
     "data": {
      "image/png": "[encoded data removed]",
      "text/plain": [
       "<Figure size 432x432 with 1 Axes>"
      ]
     },
     "metadata": {
      "needs_background": "light"
     },
     "output_type": "display_data"
    }
   ],
   "source": [
    "plt.figure(figsize=(6.0, 6.0))\n",
    "plt.grid()\n",
    "plt.plot(t, u[:,0])"
   ]
  },
  {
   "cell_type": "code",
   "execution_count": 225,
   "metadata": {},
   "outputs": [
    {
     "data": {
      "text/plain": [
       "282"
      ]
     },
     "execution_count": 225,
     "metadata": {},
     "output_type": "execute_result"
    }
   ],
   "source": [
    "# Time at which rocket hits the ground\n",
    "np.where(u[:,0] <= 0)[0][2]"
   ]
  },
  {
   "cell_type": "code",
   "execution_count": 177,
   "metadata": {},
   "outputs": [
    {
     "data": {
      "text/plain": [
       "232.1061334126179"
      ]
     },
     "execution_count": 177,
     "metadata": {},
     "output_type": "execute_result"
    }
   ],
   "source": [
    "# Maximum velocity achieved\n",
    "np.max(u[:,1])"
   ]
  },
  {
   "cell_type": "code",
   "execution_count": 178,
   "metadata": {},
   "outputs": [
    {
     "data": {
      "text/plain": [
       "1334.1829454303067"
      ]
     },
     "execution_count": 178,
     "metadata": {},
     "output_type": "execute_result"
    }
   ],
   "source": [
    "# Maximum altitude\n",
    "u[157,0]"
   ]
  },
  {
   "cell_type": "code",
   "execution_count": 179,
   "metadata": {},
   "outputs": [
    {
     "data": {
      "text/plain": [
       "15.700000000000001"
      ]
     },
     "execution_count": 179,
     "metadata": {},
     "output_type": "execute_result"
    }
   ],
   "source": [
    "# Time at which rocket reaches maximum altitude\n",
    "tmax = 157 * 0.1\n",
    "tmax"
   ]
  }
 ],
 "metadata": {
  "kernelspec": {
   "display_name": "Python 3",
   "language": "python",
   "name": "python3"
  },
  "language_info": {
   "codemirror_mode": {
    "name": "ipython",
    "version": 3
   },
   "file_extension": ".py",
   "mimetype": "text/x-python",
   "name": "python",
   "nbconvert_exporter": "python",
   "pygments_lexer": "ipython3",
   "version": "3.7.3"
  }
 },
 "nbformat": 4,
 "nbformat_minor": 2
}
