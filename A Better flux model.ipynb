{
 "cells": [
  {
   "cell_type": "code",
   "execution_count": 1,
   "metadata": {},
   "outputs": [],
   "source": [
    "import sympy as sym"
   ]
  },
  {
   "cell_type": "code",
   "execution_count": 2,
   "metadata": {},
   "outputs": [],
   "source": [
    "sym.init_printing()\n",
    "\n",
    "(u_max, u_star, rho_max,\n",
    " rho_star, A, B) = sym.symbols('u_max u_star rho_max rho_star A B')"
   ]
  },
  {
   "cell_type": "code",
   "execution_count": 3,
   "metadata": {},
   "outputs": [],
   "source": [
    "eq1 = sym.Eq(0, u_max * rho_max * (1 - A * rho_max - B * rho_max**2))\n",
    "eq2 = sym.Eq(0, u_max * (1 - 2 * A * rho_star - 3 * B * rho_star**2))\n",
    "eq3 = sym.Eq(u_star, u_max * (1 - A * rho_star - B * rho_star**2))"
   ]
  },
  {
   "cell_type": "code",
   "execution_count": 4,
   "metadata": {},
   "outputs": [
    {
     "data": {
      "image/png": "[encoded data removed]",
      "text/latex": [
       "$$0 = \\rho_{max} u_{max} \\left(- A \\rho_{max} - B \\rho_{max}^{2} + 1\\right)$$"
      ],
      "text/plain": [
       "              ⎛                2    ⎞\n",
       "0 = ρₘₐₓ⋅uₘₐₓ⋅⎝-A⋅ρₘₐₓ - B⋅ρₘₐₓ  + 1⎠"
      ]
     },
     "execution_count": 4,
     "metadata": {},
     "output_type": "execute_result"
    }
   ],
   "source": [
    "eq1"
   ]
  },
  {
   "cell_type": "code",
   "execution_count": 5,
   "metadata": {},
   "outputs": [
    {
     "data": {
      "image/png": "[encoded data removed]",
      "text/latex": [
       "$$0 = u_{max} \\left(- 2 A \\rho_{star} - 3 B \\rho_{star}^{2} + 1\\right)$$"
      ],
      "text/plain": [
       "         ⎛                      2    ⎞\n",
       "0 = uₘₐₓ⋅⎝-2⋅A⋅ρₛₜₐᵣ - 3⋅B⋅ρₛₜₐᵣ  + 1⎠"
      ]
     },
     "execution_count": 5,
     "metadata": {},
     "output_type": "execute_result"
    }
   ],
   "source": [
    "eq2"
   ]
  },
  {
   "cell_type": "code",
   "execution_count": 6,
   "metadata": {},
   "outputs": [
    {
     "data": {
      "image/png": "[encoded data removed]",
      "text/latex": [
       "$$u_{star} = u_{max} \\left(- A \\rho_{star} - B \\rho_{star}^{2} + 1\\right)$$"
      ],
      "text/plain": [
       "             ⎛                  2    ⎞\n",
       "uₛₜₐᵣ = uₘₐₓ⋅⎝-A⋅ρₛₜₐᵣ - B⋅ρₛₜₐᵣ  + 1⎠"
      ]
     },
     "execution_count": 6,
     "metadata": {},
     "output_type": "execute_result"
    }
   ],
   "source": [
    "eq3"
   ]
  },
  {
   "cell_type": "code",
   "execution_count": 7,
   "metadata": {},
   "outputs": [
    {
     "data": {
      "image/png": "[encoded data removed]",
      "text/latex": [
       "$$\\left(0 = u_{max} \\left(- 2 A \\rho_{star} - 3 B \\rho_{star}^{2} + 1\\right)\\right) - 3 \\left(u_{star} = u_{max} \\left(- A \\rho_{star} - B \\rho_{star}^{2} + 1\\right)\\right)$$"
      ],
      "text/plain": [
       "⎛         ⎛                      2    ⎞⎞     ⎛             ⎛                  \n",
       "⎝0 = uₘₐₓ⋅⎝-2⋅A⋅ρₛₜₐᵣ - 3⋅B⋅ρₛₜₐᵣ  + 1⎠⎠ - 3⋅⎝uₛₜₐᵣ = uₘₐₓ⋅⎝-A⋅ρₛₜₐᵣ - B⋅ρₛₜₐᵣ\n",
       "\n",
       "2    ⎞⎞\n",
       "  + 1⎠⎠"
      ]
     },
     "execution_count": 7,
     "metadata": {},
     "output_type": "execute_result"
    }
   ],
   "source": [
    "eq2 - 3 * eq3"
   ]
  },
  {
   "cell_type": "code",
   "execution_count": 8,
   "metadata": {},
   "outputs": [],
   "source": [
    "eq4 = sym.Eq(eq2.lhs - 3 * eq3.lhs, eq2.rhs - 3 * eq3.rhs)"
   ]
  },
  {
   "cell_type": "code",
   "execution_count": 9,
   "metadata": {},
   "outputs": [
    {
     "data": {
      "image/png": "[encoded data removed]",
      "text/latex": [
       "$$- 3 u_{star} = u_{max} \\left(- 2 A \\rho_{star} - 3 B \\rho_{star}^{2} + 1\\right) - 3 u_{max} \\left(- A \\rho_{star} - B \\rho_{star}^{2} + 1\\right)$$"
      ],
      "text/plain": [
       "                ⎛                      2    ⎞          ⎛                  2   \n",
       "-3⋅uₛₜₐᵣ = uₘₐₓ⋅⎝-2⋅A⋅ρₛₜₐᵣ - 3⋅B⋅ρₛₜₐᵣ  + 1⎠ - 3⋅uₘₐₓ⋅⎝-A⋅ρₛₜₐᵣ - B⋅ρₛₜₐᵣ  + \n",
       "\n",
       " ⎞\n",
       "1⎠"
      ]
     },
     "execution_count": 9,
     "metadata": {},
     "output_type": "execute_result"
    }
   ],
   "source": [
    "eq4"
   ]
  },
  {
   "cell_type": "code",
   "execution_count": 10,
   "metadata": {},
   "outputs": [
    {
     "data": {
      "image/png": "[encoded data removed]",
      "text/latex": [
       "$$- 3 u_{star} = u_{max} \\left(A \\rho_{star} - 2\\right)$$"
      ],
      "text/plain": [
       "-3⋅uₛₜₐᵣ = uₘₐₓ⋅(A⋅ρₛₜₐᵣ - 2)"
      ]
     },
     "execution_count": 10,
     "metadata": {},
     "output_type": "execute_result"
    }
   ],
   "source": [
    "eq4.simplify()"
   ]
  },
  {
   "cell_type": "code",
   "execution_count": 11,
   "metadata": {},
   "outputs": [
    {
     "data": {
      "image/png": "[encoded data removed]",
      "text/latex": [
       "$$- 3 u_{star} = u_{max} \\left(- 2 A \\rho_{star} - 3 B \\rho_{star}^{2} + 1\\right) - 3 u_{max} \\left(- A \\rho_{star} - B \\rho_{star}^{2} + 1\\right)$$"
      ],
      "text/plain": [
       "                ⎛                      2    ⎞          ⎛                  2   \n",
       "-3⋅uₛₜₐᵣ = uₘₐₓ⋅⎝-2⋅A⋅ρₛₜₐᵣ - 3⋅B⋅ρₛₜₐᵣ  + 1⎠ - 3⋅uₘₐₓ⋅⎝-A⋅ρₛₜₐᵣ - B⋅ρₛₜₐᵣ  + \n",
       "\n",
       " ⎞\n",
       "1⎠"
      ]
     },
     "execution_count": 11,
     "metadata": {},
     "output_type": "execute_result"
    }
   ],
   "source": [
    "eq4"
   ]
  },
  {
   "cell_type": "code",
   "execution_count": 12,
   "metadata": {},
   "outputs": [
    {
     "data": {
      "image/png": "[encoded data removed]",
      "text/latex": [
       "$$- 3 u_{star} = A \\rho_{star} u_{max} - 2 u_{max}$$"
      ],
      "text/plain": [
       "-3⋅uₛₜₐᵣ = A⋅ρₛₜₐᵣ⋅uₘₐₓ - 2⋅uₘₐₓ"
      ]
     },
     "execution_count": 12,
     "metadata": {},
     "output_type": "execute_result"
    }
   ],
   "source": [
    "eq4.expand()"
   ]
  },
  {
   "cell_type": "code",
   "execution_count": 13,
   "metadata": {},
   "outputs": [
    {
     "data": {
      "image/png": "[encoded data removed]",
      "text/latex": [
       "$$\\frac{2 u_{max} - 3 u_{star}}{A u_{max}}$$"
      ],
      "text/plain": [
       "2⋅uₘₐₓ - 3⋅uₛₜₐᵣ\n",
       "────────────────\n",
       "     A⋅uₘₐₓ     "
      ]
     },
     "execution_count": 13,
     "metadata": {},
     "output_type": "execute_result"
    }
   ],
   "source": [
    "rho_sol = sym.solve(eq4, rho_star)[0]\n",
    "rho_sol"
   ]
  },
  {
   "cell_type": "code",
   "execution_count": 14,
   "metadata": {},
   "outputs": [
    {
     "data": {
      "image/png": "[encoded data removed]",
      "text/latex": [
       "$$\\frac{- A \\rho_{max} + 1}{\\rho_{max}^{2}}$$"
      ],
      "text/plain": [
       "-A⋅ρₘₐₓ + 1\n",
       "───────────\n",
       "       2   \n",
       "   ρₘₐₓ    "
      ]
     },
     "execution_count": 14,
     "metadata": {},
     "output_type": "execute_result"
    }
   ],
   "source": [
    "B_sol = sym.solve(eq1, B)[0]\n",
    "B_sol"
   ]
  },
  {
   "cell_type": "code",
   "execution_count": 15,
   "metadata": {},
   "outputs": [
    {
     "data": {
      "image/png": "[encoded data removed]",
      "text/latex": [
       "$$0 = u_{max} \\left(1 - \\frac{2 \\left(2 u_{max} - 3 u_{star}\\right)}{u_{max}} - \\frac{3 \\left(2 u_{max} - 3 u_{star}\\right)^{2} \\left(- A \\rho_{max} + 1\\right)}{A^{2} \\rho_{max}^{2} u_{max}^{2}}\\right)$$"
      ],
      "text/plain": [
       "         ⎛                                               2              ⎞\n",
       "         ⎜    2⋅(2⋅uₘₐₓ - 3⋅uₛₜₐᵣ)   3⋅(2⋅uₘₐₓ - 3⋅uₛₜₐᵣ) ⋅(-A⋅ρₘₐₓ + 1)⎟\n",
       "0 = uₘₐₓ⋅⎜1 - ──────────────────── - ───────────────────────────────────⎟\n",
       "         ⎜            uₘₐₓ                       2     2     2          ⎟\n",
       "         ⎝                                      A ⋅ρₘₐₓ ⋅uₘₐₓ           ⎠"
      ]
     },
     "execution_count": 15,
     "metadata": {},
     "output_type": "execute_result"
    }
   ],
   "source": [
    "quadA = eq2.subs([(rho_star, rho_sol), (B, B_sol)])\n",
    "quadA"
   ]
  },
  {
   "cell_type": "code",
   "execution_count": 16,
   "metadata": {},
   "outputs": [
    {
     "data": {
      "image/png": "[encoded data removed]",
      "text/latex": [
       "$$- 3 u_{max} + 6 u_{star} + \\frac{3 \\left(2 u_{max} - 3 u_{star}\\right)^{2}}{A \\rho_{max} u_{max}} - \\frac{3 \\left(2 u_{max} - 3 u_{star}\\right)^{2}}{A^{2} \\rho_{max}^{2} u_{max}} = 0$$"
      ],
      "text/plain": [
       "                                        2                       2    \n",
       "                    3⋅(2⋅uₘₐₓ - 3⋅uₛₜₐᵣ)    3⋅(2⋅uₘₐₓ - 3⋅uₛₜₐᵣ)     \n",
       "-3⋅uₘₐₓ + 6⋅uₛₜₐᵣ + ───────────────────── - ───────────────────── = 0\n",
       "                         A⋅ρₘₐₓ⋅uₘₐₓ             2     2             \n",
       "                                                A ⋅ρₘₐₓ ⋅uₘₐₓ        "
      ]
     },
     "execution_count": 16,
     "metadata": {},
     "output_type": "execute_result"
    }
   ],
   "source": [
    "quadA.simplify()"
   ]
  },
  {
   "cell_type": "code",
   "execution_count": 17,
   "metadata": {},
   "outputs": [],
   "source": [
    "A_sol = sym.solve(quadA, A)"
   ]
  },
  {
   "cell_type": "code",
   "execution_count": 18,
   "metadata": {},
   "outputs": [
    {
     "data": {
      "image/png": "[encoded data removed]",
      "text/latex": [
       "$$\\frac{\\sqrt{- u_{star} \\left(4 u_{max} - 9 u_{star}\\right)} \\left(- 2 u_{max} + 3 u_{star}\\right) + \\left(2 u_{max} - 3 u_{star}\\right)^{2}}{2 \\rho_{max} u_{max} \\left(u_{max} - 2 u_{star}\\right)}$$"
      ],
      "text/plain": [
       "  ___________________________                                         2\n",
       "╲╱ -uₛₜₐᵣ⋅(4⋅uₘₐₓ - 9⋅uₛₜₐᵣ) ⋅(-2⋅uₘₐₓ + 3⋅uₛₜₐᵣ) + (2⋅uₘₐₓ - 3⋅uₛₜₐᵣ) \n",
       "───────────────────────────────────────────────────────────────────────\n",
       "                      2⋅ρₘₐₓ⋅uₘₐₓ⋅(uₘₐₓ - 2⋅uₛₜₐᵣ)                     "
      ]
     },
     "execution_count": 18,
     "metadata": {},
     "output_type": "execute_result"
    }
   ],
   "source": [
    "A_sol[0]"
   ]
  },
  {
   "cell_type": "code",
   "execution_count": 19,
   "metadata": {},
   "outputs": [
    {
     "data": {
      "image/png": "[encoded data removed]",
      "text/latex": [
       "$$\\frac{\\left(2 u_{max} - 3 u_{star}\\right) \\left(2 u_{max} - 3 u_{star} + \\sqrt{- u_{star} \\left(4 u_{max} - 9 u_{star}\\right)}\\right)}{2 \\rho_{max} u_{max} \\left(u_{max} - 2 u_{star}\\right)}$$"
      ],
      "text/plain": [
       "                   ⎛                     ___________________________⎞\n",
       "(2⋅uₘₐₓ - 3⋅uₛₜₐᵣ)⋅⎝2⋅uₘₐₓ - 3⋅uₛₜₐᵣ + ╲╱ -uₛₜₐᵣ⋅(4⋅uₘₐₓ - 9⋅uₛₜₐᵣ) ⎠\n",
       "─────────────────────────────────────────────────────────────────────\n",
       "                     2⋅ρₘₐₓ⋅uₘₐₓ⋅(uₘₐₓ - 2⋅uₛₜₐᵣ)                    "
      ]
     },
     "execution_count": 19,
     "metadata": {},
     "output_type": "execute_result"
    }
   ],
   "source": [
    "A_sol[1]"
   ]
  },
  {
   "cell_type": "code",
   "execution_count": 20,
   "metadata": {},
   "outputs": [
    {
     "data": {
      "image/png": "[encoded data removed]",
      "text/latex": [
       "$$-0.0171107219255619$$"
      ],
      "text/plain": [
       "-0.0171107219255619"
      ]
     },
     "execution_count": 20,
     "metadata": {},
     "output_type": "execute_result"
    }
   ],
   "source": [
    "# Evaluating new flux equation\n",
    "\n",
    "A_val_0 = A_sol[0].evalf(subs={u_star: 0.7, u_max: 1.0, rho_max: 10.0})\n",
    "A_val_0"
   ]
  },
  {
   "cell_type": "code",
   "execution_count": 21,
   "metadata": {},
   "outputs": [
    {
     "data": {
      "image/png": "[encoded data removed]",
      "text/latex": [
       "$$0.0146107219255619$$"
      ],
      "text/plain": [
       "0.0146107219255619"
      ]
     },
     "execution_count": 21,
     "metadata": {},
     "output_type": "execute_result"
    }
   ],
   "source": [
    "A_val_1 = A_sol[1].evalf(subs={u_star: 0.7, u_max: 1.0, rho_max: 10.0})\n",
    "A_val_1"
   ]
  },
  {
   "cell_type": "code",
   "execution_count": 22,
   "metadata": {},
   "outputs": [
    {
     "data": {
      "image/png": "[encoded data removed]",
      "text/latex": [
       "$$0.0146107219255619$$"
      ],
      "text/plain": [
       "0.0146107219255619"
      ]
     },
     "execution_count": 22,
     "metadata": {},
     "output_type": "execute_result"
    }
   ],
   "source": [
    "A_val = max(A_val_0, A_val_1)\n",
    "A_val"
   ]
  },
  {
   "cell_type": "code",
   "execution_count": 23,
   "metadata": {},
   "outputs": [
    {
     "data": {
      "image/png": "[encoded data removed]",
      "text/latex": [
       "$$0.00853892780744381$$"
      ],
      "text/plain": [
       "0.00853892780744381"
      ]
     },
     "execution_count": 23,
     "metadata": {},
     "output_type": "execute_result"
    }
   ],
   "source": [
    "B_val = B_sol.evalf(subs={rho_max: 10.0, A: A_val})\n",
    "B_val"
   ]
  },
  {
   "cell_type": "code",
   "execution_count": 24,
   "metadata": {},
   "outputs": [],
   "source": [
    "sym.init_printing(use_latex=False)"
   ]
  },
  {
   "cell_type": "code",
   "execution_count": 25,
   "metadata": {},
   "outputs": [
    {
     "name": "stdout",
     "output_type": "stream",
     "text": [
      "<class 'sympy.core.symbol.Symbol'> <class 'sympy.core.symbol.Symbol'>\n"
     ]
    }
   ],
   "source": [
    "print(type(rho_max), type(u_max))"
   ]
  },
  {
   "cell_type": "code",
   "execution_count": 26,
   "metadata": {},
   "outputs": [],
   "source": [
    "rho_max = 10.0\n",
    "u_max = 1.0"
   ]
  },
  {
   "cell_type": "code",
   "execution_count": 27,
   "metadata": {},
   "outputs": [],
   "source": [
    "def flux(rho, u_max, A, B):\n",
    "    \"\"\"\n",
    "    Computes the traffic flux for the better model.\n",
    "    \n",
    "    Parameters\n",
    "    ----------\n",
    "    rho : numpy.ndarray\n",
    "       Traffic density along the road as a 1D array of floats.\n",
    "    u_max : float\n",
    "        Maximum speed allowed on the road.\n",
    "    A : float\n",
    "        Scaling coefficient for rho.\n",
    "    B : float\n",
    "        Scaling coefficient for rho squared.\n",
    "    \n",
    "    Returns\n",
    "    -------\n",
    "    F : numpy.ndarray\n",
    "        The traffic flux along the road as a 1D array of floats.\n",
    "    \"\"\"\n",
    "    F = rho * u_max * (1.0 - A * rho - B * rho**2)\n",
    "    return F"
   ]
  },
  {
   "cell_type": "code",
   "execution_count": 28,
   "metadata": {},
   "outputs": [],
   "source": [
    "import numpy as np"
   ]
  },
  {
   "cell_type": "code",
   "execution_count": 29,
   "metadata": {},
   "outputs": [],
   "source": [
    "import matplotlib.pyplot as plt"
   ]
  },
  {
   "cell_type": "code",
   "execution_count": 30,
   "metadata": {},
   "outputs": [],
   "source": [
    "%matplotlib inline"
   ]
  },
  {
   "cell_type": "code",
   "execution_count": 31,
   "metadata": {},
   "outputs": [],
   "source": [
    "# Set the font family and size to use for Matplotlib figures.\n",
    "plt.rcParams['font.family'] = 'serif'\n",
    "plt.rcParams['font.size'] = 16"
   ]
  },
  {
   "cell_type": "code",
   "execution_count": 32,
   "metadata": {},
   "outputs": [],
   "source": [
    "def rho_green_light(x, rho_light):\n",
    "    \"\"\"\n",
    "    Computes the \"green light\" initial condition.\n",
    "    It consists of a shock with a linear distribution behind it.\n",
    "    \n",
    "    Parameters\n",
    "    ----------\n",
    "    x : numpy.ndarray\n",
    "        Locations on the road as a 1D array of floats.\n",
    "    rho_light : float\n",
    "        Car density at the stoplight.\n",
    "    \n",
    "    Returns\n",
    "    -------\n",
    "    rho : numpy.ndarray\n",
    "        The initial car density along the road\n",
    "        as a 1D array of floats.\n",
    "    \"\"\"\n",
    "    rho = np.zeros_like(x)\n",
    "    mask = np.where(x < 2.0)\n",
    "    rho[mask] = rho_light * x[mask] / 2.0\n",
    "    return rho"
   ]
  },
  {
   "cell_type": "code",
   "execution_count": 33,
   "metadata": {},
   "outputs": [],
   "source": [
    "# Set the parameters.\n",
    "nx = 81 # number of locations on the road\n",
    "L = 4.0 # length of the road\n",
    "dx = L / (nx - 1) # distance between two consecutive locations\n",
    "nt = 30 # number of time steps to compute\n",
    "rho_light = 5.0 # car density at the traffic light.\n",
    "\n",
    "# Define the locaions on the road.\n",
    "x = np.linspace(0.0, L, num=nx)\n",
    "\n",
    "# Compute the initial traffic density.\n",
    "rho0 = rho_green_light(x, rho_light)"
   ]
  },
  {
   "cell_type": "code",
   "execution_count": 34,
   "metadata": {},
   "outputs": [
    {
     "data": {
      "image/png": "[encoded data removed]",
      "text/plain": [
       "<Figure size 432x288 with 1 Axes>"
      ]
     },
     "metadata": {
      "needs_background": "light"
     },
     "output_type": "display_data"
    }
   ],
   "source": [
    "# Plot the initial car density on the road.\n",
    "fig = plt.figure(figsize=(6.0, 4.0))\n",
    "plt.xlabel(r'$x$')\n",
    "plt.ylabel(r'$\\rho$')\n",
    "plt.grid()\n",
    "line = plt.plot(x, rho0, \n",
    "                color='C0', linestyle='-', linewidth=2)[0]\n",
    "plt.xlim(0.0, L)\n",
    "plt.ylim(-0.5, 6.0)\n",
    "plt.tight_layout();"
   ]
  },
  {
   "cell_type": "code",
   "execution_count": 35,
   "metadata": {},
   "outputs": [],
   "source": [
    "def ftbs(rho0, nt, dt, dx, bc_value, *args):\n",
    "    \"\"\"\n",
    "    Computes the traffic density on the road \n",
    "    at a certain time given the initial traffic density.\n",
    "    \n",
    "    Parameters\n",
    "    ----------\n",
    "    rho0 : numpy.ndarray\n",
    "        The initial car density along the road\n",
    "        as a 1D array of floats.\n",
    "    nt : integer\n",
    "        The number of time steps to compute.\n",
    "    dt : float\n",
    "        The time-step size to integrate.\n",
    "    dx : float\n",
    "        The distance between two consecutive locations.\n",
    "    bc_value : float\n",
    "        The constant density at the first station.\n",
    "    args : list or tuple\n",
    "        Positional arguments to be passed to the flux function.\n",
    "    \n",
    "    Returns\n",
    "    -------\n",
    "    rho_hist : list of numpy.ndarray objects\n",
    "        The history of the car density along the road.\n",
    "    \"\"\"\n",
    "    rho_hist = [rho0.copy()]\n",
    "    rho = rho0.copy()\n",
    "    for n in range(nt):\n",
    "        # Compute the flux.\n",
    "        F = flux(rho, *args)\n",
    "        # Advance in time.\n",
    "        rho[1:] = rho[1:] - dt / dx * (F[1:] - F[:-1])\n",
    "        # Set the left boundary condition.\n",
    "        rho[0] = bc_value\n",
    "        # Record the time-step solution.\n",
    "        rho_hist.append(rho.copy())\n",
    "    return rho_hist"
   ]
  },
  {
   "cell_type": "code",
   "execution_count": 36,
   "metadata": {},
   "outputs": [],
   "source": [
    "# Set the time-step size based on CFL limit.\n",
    "sigma = 1.0\n",
    "dt = sigma * dx / u_max # time-step size\n",
    "\n",
    "# Compute the traffic density at all time steps.\n",
    "rho_hist = ftbs(rho0, nt, dt, dx, rho0[0], u_max, A_val, B_val)"
   ]
  },
  {
   "cell_type": "code",
   "execution_count": 37,
   "metadata": {},
   "outputs": [],
   "source": [
    "from matplotlib import animation\n",
    "from IPython.display import HTML"
   ]
  },
  {
   "cell_type": "code",
   "execution_count": 38,
   "metadata": {},
   "outputs": [],
   "source": [
    "def update_plot(n, rho_hist):\n",
    "    \"\"\"\n",
    "    Update the line y-data of the Matplotlib figure.\n",
    "    \n",
    "    Parameters\n",
    "    ----------\n",
    "    n : integer\n",
    "        The time-step index.\n",
    "    rho_hist : list of numpy.ndarray objects\n",
    "        The history of the numerical solution.\n",
    "    \"\"\"\n",
    "    fig.suptitle('Time step {:0>2}'.format(n))\n",
    "    line.set_ydata(rho_hist[n])"
   ]
  },
  {
   "cell_type": "code",
   "execution_count": 39,
   "metadata": {},
   "outputs": [
    {
     "data": {
      "text/html": [
       "<video width=\"432\" height=\"288\" controls autoplay loop>\n",
       "  <source type=\"video/mp4\" src=\"data:video/mp4;base64,AAAAHGZ0eXBNNFYgAAACAGlzb21pc28yYXZjMQAAAAhmcmVlAABKO21kYXQAAAKgBgX//5zcRem9\n",
       "5tlIt5Ys2CDZI+7veDI2NCAtIGNvcmUgMTUyIC0gSC4yNjQvTVBFRy00IEFWQyBjb2RlYyAtIENv\n",
       "cHlsZWZ0IDIwMDMtMjAxNyAtIGh0dHA6Ly93d3cudmlkZW9sYW4ub3JnL3gyNjQuaHRtbCAtIG9w\n",
       "dGlvbnM6IGNhYmFjPTEgcmVmPTMgZGVibG9jaz0xOjA6MCBhbmFseXNlPTB4MzoweDExMyBtZT1o\n",
       "ZXggc3VibWU9NyBwc3k9MSBwc3lfcmQ9MS4wMDowLjAwIG1peGVkX3JlZj0xIG1lX3JhbmdlPTE2\n",
       "IGNocm9tYV9tZT0xIHRyZWxsaXM9MSA4eDhkY3Q9MSBjcW09MCBkZWFkem9uZT0yMSwxMSBmYXN0\n",
       "X3Bza2lwPTEgY2hyb21hX3FwX29mZnNldD0tMiB0aHJlYWRzPTYgbG9va2FoZWFkX3RocmVhZHM9\n",
       "MSBzbGljZWRfdGhyZWFkcz0wIG5yPTAgZGVjaW1hdGU9MSBpbnRlcmxhY2VkPTAgYmx1cmF5X2Nv\n",
       "bXBhdD0wIGNvbnN0cmFpbmVkX2ludHJhPTAgYmZyYW1lcz0zIGJfcHlyYW1pZD0yIGJfYWRhcHQ9\n",
       "MSBiX2JpYXM9MCBkaXJlY3Q9MSB3ZWlnaHRiPTEgb3Blbl9nb3A9MCB3ZWlnaHRwPTIga2V5aW50\n",
       "PTI1MCBrZXlpbnRfbWluPTEwIHNjZW5lY3V0PTQwIGludHJhX3JlZnJlc2g9MCByY19sb29rYWhl\n",
       "YWQ9NDAgcmM9Y3JmIG1idHJlZT0xIGNyZj0yMy4wIHFjb21wPTAuNjAgcXBtaW49MCBxcG1heD02\n",
       "OSBxcHN0ZXA9NCBpcF9yYXRpbz0xLjQwIGFxPTE6MS4wMACAAAARN2WIhAAQ//73gb8yy18iuslx\n",
       "+ed9LKzPPORdft/nuP8wCgiJLprSIZ0kCrNAtypVaue8ZCmM4WXp2VB9R5Gy0sccY95yXD5p3Fha\n",
       "O/mH92r0AKVrRM9fkv9jf0ekOFxMAQt6UgLPNLlZUbcH8UhzVulW2lJlXX8hnJnTlkHMli4SSYHh\n",
       "bnhz2F5ch1pgF7ZTLtEKsw+Ys+AO5ZiIBLaJuGxoDkW9pQJEjl7lKAhZFB7CHt+hachbOIEJ1Ibu\n",
       "tCqigyj2Bpzt3b7hUjGp4u90jgYmhZqG+o23mYRrFYUQ63FM3bz4OwzOptpXya+8IF17535J1X0e\n",
       "Ebm4O7mDMLHXbXCKv04oSxsA4eZuamfrcYjrA7V+6c/k6Dces6MPe4F89fwN+7GD86qIwziiGJIK\n",
       "hN8LQiazSB0zcW3tM4V9fGaz9pqwPaK8Y++Zqgx48F9ggsFvxcbnwTn3q+JwlazsX5v8NN4k3une\n",
       "+OZdTxpYc/Xs9mAaaFEl5FWNZcstQpcGr+B8rKGjYpUJGpvAmNnEKlgkDGGM8zJ44exMmSDeIZwT\n",
       "IzjJFM1HXZMacX+Oeuk7/o8VSCrEYpOpqGpp+Cg5/UdqTBFeVuHE5ji8UDEl0mT62FPO/v12uxvn\n",
       "ZZJld3cRPRYCBvgC4NO9Zx59t9cfVOTf/Qs66v/t33aCid6uclpZHHQibABHF3k4mXOUnyiP9vtk\n",
       "ArdFdQcoHT+9BvOIXnGP/m+o4rkNWqTWkeICEQ6lEOjbBFm4TXMT1emE+RdM9q1OJDO7NNW9Bbin\n",
       "HqvIrpP8v/b8gC0y+qka6gWo+I1axHHcGb1qXMrBoQYy0a4M3WokdJI9Iu/faTB//Xh5HesFyA/3\n",
       "ymPBALMQKApt9os30ZRzFe5mwCE5csTPXlnLrQ6yDY3pUYFOoo5vFBAkSEcY7k1+4uL0wR9tqM4D\n",
       "F5Uzs8PxzCTHXPYptVAyK+Crz/LH2ah1en/+BShN9hxx928at8HyBXRQKhF8kiJsWcBUCcWzy1Rd\n",
       "lvD8B58GS74VqHQ1LQZlEmZ6WZLEQZvaoGahmNrvfyPo52KQ5DDCDMHCOfAKVq+/+FdUY3k2HpLC\n",
       "hr7fmbP91oPuCsU2Whr6acRQTWvF1KoZtlgonphlPV0IHH9dGResT/2LRvRJr5gNIYyAmk2e7Vff\n",
       "zL40z+Nkp+Lh141n+P2+4e3kZd8og89Ef17a/hxbmTBEAD7kb0UuP0/hKcS2qPKYkfcz4CGkGRWB\n",
       "6ggzeQy2RWulQ9iG1OajNjOtbIlR2FZFdi6DGuyiJ/xqNQPtMliHYL+FwVBe/lpTEDffgubvmOCY\n",
       "SRdtwckVz95DBbE+NkOtWvp+D3Li7FHFzRY/FtV1z6gWPEruui2FGd1Ww0tmuo48+L7dEnvlOfBP\n",
       "JrtotJUeetWi/H78SznJW64jC1WwO9R73vPgXPjzukM3B+serzLGo3/IvpRO5jeZV9tDseKULNRh\n",
       "fm9+wf5yorPIV0P3gDjGQn3RrYuuYm7ZaXgHengYqwZ8sjUT7H1eHnvzlOikQzth8DZGgs4hQgMz\n",
       "dnl1L964r7utLILAYPsLKrEzU+0KUc7GbX4YZo42LeIUi5PUHvNU+wqQts+m5DI93C1kmgCSQbil\n",
       "Kk5gwAify1m3E5fZ2Bseb2rWGvYeWSCd44o5X5e/genFo13imdgJqIM0Akw23iXtUO/OpIcnI17p\n",
       "z/sntRZruipzAFekDY/7nN9he82ydmIpEqimhAya1kCuIeC+zH/KJvtyYyXMaEuJmnBqQmXmcVlj\n",
       "pFfhWfk+hspNYY/rYnHL0miUnngT2eX5t6Nd44fc1kYTQDsL4ibmbHc9JDkyJx7ltkHsAJx620tk\n",
       "B/y69/5LscajmIPNluqHdAweiG7Dd6dYgn/detlJMVOhsSutjB4soQgYifeamzXujoba5E/i1+iO\n",
       "rxLnlFzjC/CcsQD2ZuYX0PpGargL9tYxWbyQ0BnfRPJJgYpg6vFcn+0MGMEk2ul39YnPv+OFpvFn\n",
       "a/X/ap1LbE8OM6vxx9XCwvbyklAklj+C/zRAhlOpJDee0o4nkNLWjOGifAepHkLVWCSGFfRL8cLs\n",
       "yqDnKRMYSjy1H3xGzrtWLLFCUltPz3os5gD2m6eAoxc92ZfXbI9o32YxylalLO9jbl+RQ6zJ46/3\n",
       "3+TUYoxn41wQl5p5ssUtY1qOv0d3pme4PB/rEmAgp3aNIVGO7eobE6GYRjfhEW7CQPo5iO/BJDb+\n",
       "TXxYFS9V08B7njO6Yi6eb+FxqwgKoeBKymeacQrI/Svyy33yM5kVZX+mVX1wgojfANHLJNLJ2eav\n",
       "UDSYkQCLmxs1Nqy7ffl4sZPLQKfeLwDhRiL1t5FBUaRRtg8My3isZDTrNH40Rs3qYnXdFQKx+N4D\n",
       "fH4fte9N07v5N1H3vP2ihOqwpfU+aM6vJR3rmT7DIJ5caC+HXTkdcz9WAxjaoQkVEsSjS/MIQtKX\n",
       "R34+moKh5wVk/p/GL51/zUUdV/6V2K7daP0xZFs26XAoEwtgdYxynroH/ZtYd2YFd13ouEUHTB2a\n",
       "NP4tlwJCnYRhtqE9eQarZRcawpA7LYSo1GPW17Ssgx4mxKoJJPbdw2zVbkXf/g4wFb0cOB0xkc3Q\n",
       "uUxE9hRQd4xQTUVjP/TdP2kzPQbd/LBzEurUCl1bHOLpOa/xcx6RL+ITQOzbYvyNxWffkz5RjAAA\n",
       "xm8U3zYCCkFyI/Xr7pAddcUYBa1QSrHDiQ3yUePnfz4lpB4RbinF6ZTnDJo5QzF7R7tbxjhxvnvV\n",
       "cKgvTF6RobZk1Z4cqk31UtR9FsC+XSP6vLzfL9wH+sabTtVHfInuvtZ30yl5I95FCy39dzn0SchN\n",
       "rAJCbiV+zeDn4uP2Oq9B281dRGW6rp4AGCF9Fvk59zc1eKfaqv1uWi+N2+afynsOfhIjFv4iAZ1F\n",
       "ivneILguUCjo09/KubElrOiumULFrDGVQeEaD4JLY8H3NJ345WfaOVLXgK4rgDpeMV84NzU/kaub\n",
       "07hZkLGdSFVYw8F83dtcFjHGBLE3rlUiUTeQug7kHRGqQDYRzO+3wkytpw4yjKdMOp04sv3Yy+/F\n",
       "1ruVaH5pSDN8cTTeavwQZ+2HrXJA24ixlOfiLX3SDM7MJLKU49k555+ozvtvVM1q4iP2PYf01rVw\n",
       "GXo7CFbXCRummv1/FOplSUozoqcEH+UPNjN6VRCVH6B+515SLxqwR+UlwdL4ELToXx/p2XbO2DBf\n",
       "GOyeXT0q6Mamq6576nbIpVrRyne//cwpZ5EUvyfUPguMtdWBeaILoe/lzRcz7UQlnjwm4jHfjAHZ\n",
       "ifYLWlK+mA+Pl4aeAR4Bt+T/N/URu2MEGEBH3/G3b4f5cr0GRUMBfbQAMNZBw45q5/KCPKcOkLkA\n",
       "47rZp4HHx6rqoL3JpbyIyi4GRVdVbzHU+65hOUuMLtlaBTAEsTVe9ljzoCftAnmrS6AYjR+N0IiL\n",
       "wMLYuiCUlUo1pM+iB1M1JBi0hPncACJIGlDEhwBXQ3uUOHD9Prh/6Y3N+sIx1bRwZn9GDHwN/qOR\n",
       "4aUFj0Hws76QOvNSDGWdzOsLWwLmBJSkHJ7UwE7uEiN1U5Ym0CE1gJ5s2xI1TFZgCjnnIVDEZfs0\n",
       "BLekNw5zqD91wOZRoukAiy/gexV8uRlXenpZ9DOCEHWf4cO0kVjTj3ESTv2zsvwUPGT+u3B0CCjk\n",
       "ib+X8nirG17PPSv3b21XaYSHtBUbxtGrorV2AqWMpQWQ4ih8YluTE0opGniz0csSmDYphBExxQtI\n",
       "ys23gEAiuspCaMkX9h4YmG6iU8RJ067kDNZT8nU8NbNawHgJubhL7mz7Trvg2eWeYwyeVamsIDTU\n",
       "N7IAY5ao5TLFrFdh5ZgazonHpAe4CP2M//1eGwJFcaZxiFva3hyavvwBhZAI0de3Whdpb9qsxk0I\n",
       "A0OSXugjjOyGZrZSq7l+lA17HxnySqY0soMjo/KccT2/Ew6bA9uiK0tfyeKcIhBQ3CJCnhSSMz7C\n",
       "rNBCRbBavAH4czJUPGz0nZLi0M0qpAU25jRUIYVsQTBqv4rwj2DpZ3dZnnZpupUbqd9Hzz02SJ/a\n",
       "nSTk9rytHLQqGYlEXsdHTfz1+RZlxO3RRnaQnJvF9sPF3uF2LvCc4w+s+8CwNERslbBVFGirhn0J\n",
       "SIOIB7oMbROtJrp7cUny9RrIhPA70jNd9gRElijcWJeXURAARQjimYlS6cgKVFKpd9R8J5gxopw7\n",
       "/vcEZyseGl3gK8pmSQpRnz6ZWJI30sGSjAGAQhDi4AiMgAOKEUzcIQGk231uJfLGFryVnFfu8fAD\n",
       "5UR480e0AKWl76MAx81+aR9Rt70XjM7k3DjZLS4HJCqbDfJ5TBnlLDppTiFDzsOgR1Wspkwcgj38\n",
       "DQYH6IGnYiieJEPjvTWYxYF8ueqk/LnCgFBxAi5VjDLyJvhDlzYk1/UhZtliu8IN0xZyEH+6JL0U\n",
       "139KAYbIE6TmVZvqKb61vm/VZmET0tdPe3frgMGYHc/s1bPCf7MqXLVKf9GNr23MF8jFnFk2x+4K\n",
       "t+1oFbFCrTN+dAkZjPaDJGPuNGXwupT2rbuMWl5On2EdJISq4cVkYPAAvDo2yC6ePXEW3631H+/8\n",
       "IDiVzEoQwRPthGozgztf/yY1Wmm/1fkWDve1aOEldiWOYbwYizmqeq+F+6sKN2WkyrgGqj88oIAj\n",
       "ov2QY7UjkKbVhl1MS5UZ1vrrpNKumvDQcedPd0/Qcm9aAR174VrCV5b1RSw/Vfn/Y3nfrFkG6FQn\n",
       "RuNH24KbkPv18CIdgwwGVFBMeGewjN1eX/+HKHngxqNTaeX75KMBHAqLr1KcM8VZofO48T6Vr8Vi\n",
       "gjz0yr3E9vl0KJT9FjznnzZuX1eIF0osrjlNiG9iOVRK2z9GAnQD99a5Hzwk60R4RdpJV+w/W+6Q\n",
       "QovUiaqiqtlIlXGI3GcEzRew7bE/n68uGYacyeSwyIkTicNElW0Qf4iFF6N1yuH2vUWvdLfI/Ugx\n",
       "BLIgLN8NWxDEoz5eDFuzK/oKS24Qm8Pwo6CgayWsaU+N2KHy4pOHRF3nSpe63hthWHy7W4zwPFZT\n",
       "Vfir+Z04topEISLAHAIxJdykd1U3qOUUokj+gN6iYR5oU84w1RyGpwM83AjbzZPdZxANW/KnIHNs\n",
       "ftMiEBgEXfXVyShKg8583RXHPMi4a62grUFLnG/3c4zeKECZGVJBq2OqjAd/E9WAW9chJlclZkaN\n",
       "B0jA0ZZ21W+HWvp36Y8eG2lOrMFOQo+ltvv2DP/rIjheweXAcWap5Frqg0Vz7RUkChGZT+ElKyLH\n",
       "d3XxoWWhojo0ovafFqn9vVzCYtlQWoWEvpC+qBuI8u9F2IFEGIYb5p4ZAPJuW/0VxyKw5hLKONCM\n",
       "rbko6XOY0qEOwQ7nz8t30ElRwpH9IUESfR2MFHpMz8WyAyUzpdk2hIPtM4svCUEHM+y6qKptQAMr\n",
       "oydiiq7sb2ROrMN5aZqnODJcVdCciLQCah19nLFs8R0Wdaie9gx4IHqMbN3MbU1z0p0mmGIcHLmm\n",
       "+CbOHsJvfHEmBMmOCK0F+VH50EYaz4ZJUi08RiFFHYtaGIzooiqpIk3v06TW5nmHZ8XM98lBjzlB\n",
       "Ms8vQRSOJbtoLBXyPhpD4kNMIa6JKLHHygJkPMF2+IUgoS6XKHvE2GbSGkAWlavRElTn+eyMUqWC\n",
       "B53JdxvgI+UANunUIykhB1p4Un+ySMgIMKA5B0qV7uXBkiE7ZcqGCqAKOy5LdQmj/hjxNaCg0XPn\n",
       "PKGnqP8jEdWdxWedS3wCogqcHfkQabNaw3sycS4r+92w+zS0jIkUBVpqt24ZJjtAqLoDmbsRgouU\n",
       "3eirWmTXBlth4B2hh/WCZk7TxUfIRixkXuSkRETIQVrd36/q4lJaT02tjImGEe3i0xy5MHGAAABq\n",
       "QQAAA4NBmiJsQ//+qZxpQ0AE7fIld96G977SG/9g8w+roqj0NQqZ2vDN1Dl8bz6RSpuls2tkk1mr\n",
       "J3w3Y7oY4AZ1q7Bu9OgQPFdL64Qje/fLd0kNIGUrDBCF3LJjWn4M3CU78eL/9+5Qd9yALw/Up9Hl\n",
       "59/jDRPz6xUpSQiWjhQ+9zFG18vhzd2w+qZkuSmIfO2FSBXl+NOL/HsHVpbwzhS8wBPf6IOtqr1E\n",
       "+2UWiFB1N/K055bHelOg5Kbk/mOkRGDNLOaIRwdzAH9Q9zj1jw+2+KeO3vRjdgfae2vXlcqtNiQK\n",
       "n/5G9tUAozP4uBIT8xpE31xhgAPz3YpLsLJ7k+ZohB/Pe+TLIhA5hcBZ1+YPuC5KDUF7ESfsgRRU\n",
       "ic19JMVHVwSNMI564aP4dZ5R1MojDpz0UzVvjBUoraz6Ct15uZOeEzZ9HFuBzPILgl/UEBSfDy7f\n",
       "xGigeRHlPN5sVWIWX3XGqjMnf6LuixgkNcR9A0Ll/LISU8+0FdsoHgEbUZKcagUzWLcLTne6ABZX\n",
       "KNYLQ2Tb3DWJwvw5t52km8eMohigAO1Mtrc5dXH/t4Vj9Y4e403+0kH3gpUR/zbaZL2mU1aTczsl\n",
       "Hin182+pqaeCNzHurKgSjspeB+dtaytBkXmaIBfcqxLvlTAzJKWUcpZ48/4UdgA0VvNnfginfc0c\n",
       "DJqBLTaHAhZ+vnX+a3anZq0O7SkG9amoKApvzCl5MqnX9PjoxXCxzfcBhWoEYtB67FfXK4HgsNS7\n",
       "FNcqQYME3M+oESfiUozVcSTuYsKTYFlOfAEpSu37qmcV8BwirqIyjTiRasV4NjFUk1WDashfin+X\n",
       "WJVHBYQoE8I2Lkujk8Q4cVup6D3jjamDJj/fo+7Aadg89VQIe0yGPQuux2G+c8BK4isa2SiFXf+l\n",
       "22rjYbWeZf5itQRj2p2DrYblxOczXlsLlbsuDYd49OTqmlDASR8vUtbBGvI9PtHvUODqNLtORob3\n",
       "o9VeRQYCIhEOH6O3YLt4uAFuj8Izsw8Q71XN21eLXTuBnXhswf97cEpOAV/vLJEFsw16asQN1CQy\n",
       "1Y01qWcDQwD862JYL6uSHQLIH47w6GcpU9iP65ouCijmRFEOD/fTVW9Lir7lc/7mM+4pnKWdIWJS\n",
       "FDVbKfh6BJcBTkAE/rShqGfUOzw3x1hyf+GmyK4aEX/9B/O8wcepOqdoQwBVKiQtwAAAAV4BnkF5\n",
       "Df8GrODS8OIANkja/nvkkt20kKfVeGlgh7tot5fyw8KvNG5rUNedJiRdNP8fiE1Z4d4wfsnxePHL\n",
       "/KRF5w38wMkAceqENfkGRj+tnxq2d8Xj+SHCI0BO15WKZC4iw1iapcueiQv7Vb3+QgTzuomBMfYx\n",
       "+C2NIqd5bbHhhpiN8kugr0tvqvrCMhIPlwVI6m2iM/6xDVmCNcQ2ghaTtnZ7OcF4wg++RePY+zuf\n",
       "LRvVaKVvrG5FSvu+bu4UEeu0+UBzVKuhNhgKD52PcSmMvBjrEVe1BAabUO4AAWKktdGf9t31405S\n",
       "ldvu/khCRJOscKO0cXuIiplEldgpVbNT9BLU7wxtoe6OxyEQ4q8F0U0ytRL/+a7FpKkf1oHlOy6A\n",
       "HNvd4ujs7VSmD68P3jz+/umNoOE0IGcbpquhfx2dhhPaWFHe3r2TsC9HAdyT7I7xEiklCVL2TMer\n",
       "0SKLgQAAAlJBmkM8IZMphD///qmcQlJf3aACILnFfHC0IUEwY5qtRCpIvXFTpdpvF9F8C/Dq7qF8\n",
       "HmmUdLETDHNVsxxq6rmOreryMB5/F9oA9+NXLHTJrkj9UYEFb+c58aGiJCFqeCfYnAXCsbtvziGN\n",
       "cn7/dbz/wpbwyFIwA6SMy7xJn+1wn3s7IbkbERdByAr0DdMzil/kJ9MZIhNPv5igZJ16eXqsnMgD\n",
       "111fLSP7SRDgyIzKVBG1jgcgIdJE7lygwyhVhlt4X50Gylfx6XK3guuhaoyG/L1vDou50SfbEkVP\n",
       "GHiDKZRi+lMUeB3B6ohe3+RKT6AGeRM1pT9Lu9/i2zAyaQjnS94Wl0Qe4JPz9M6zJ38gfd5yJY0i\n",
       "wGtQXwtLWZ0eNP/TUibw3/+Ss6UXhj7DjEhq75Ca6EW7F86RIp/qam05uR36PwPYrhH6VFe1B8Az\n",
       "fk7YQXrvxn5/reCKshIba7YpGIH6mabUyYDUn1L1WKd8QZeomlw07yFb6J3HUwrZ/mQzNkKRB0/n\n",
       "Asikf6ZyMKa2SBFRf2qW6ntDd1EjavDMiVY4raVko8q9bZkGDtsVn2SY6aQDXIcDseKmBKhKD/wd\n",
       "hf9UkCDaNdiUlji1q3DueRSZoeNk9cygPAWF5SmDXzWZwq3m8DxwnO2u4jkgiXW7TITLpnpip3il\n",
       "aBjxqw9AqMjemXIqVVkjzcX/vzh1ZRb6Xo7tK+oMOlZK4/FyLkdvMD/3kwjAgztTil14kVIUva7G\n",
       "3TTEnlCD9sO1FepEmucYwMJMJ3WAJk3YknRTGJzjF5wAAAI/QZpkSeEPJlMCCH/+qleFDMAA2V4t\n",
       "jwwq2NE3xMRc1dK1j9Q6YA0/BheSf/Qjts0E+63969IWSnXiG3eCmuN8lnYgpfPdvInyAf5edcBx\n",
       "2WIxNPd2GqTs7ozI6uqT/uZ0WMvzqs8FAHJVz8F2EQh0hxNiDg1uLgcEbXVHu2WYz23wEdIIoCeb\n",
       "/n20/aEvHfyBpqHkbU93Ha+xgngoc+doCEgqE9Ff0PBhK+owJy7WjnNLpJN/2eD5M9V97dcjJFKd\n",
       "Y5ffu3zdHEfjcVm886nC+OhwAH2kppuaZvawzfOtNEIWWRJehWBB0Zq41rPbE6HxyScUruubtxay\n",
       "yMIB8v4Q7BVNzzcSbjdk3lwFSM/kaNJRsZKkHWOLc7M63t/rPxkHZMPS6hTMjYEgsspYs19AY6Yd\n",
       "F/6WisOnO7jj1ej8Wu9aCGansyhtcfIK8X1DQxo0JrCf/8FY3R0u98LsENsJx2j0ipQl84+IWqHf\n",
       "gOG5Y1mVanxUbgOricy04p2M1It5094R87UDp2IOIyTSCYti2qT3jtr3bStEjo2L15vDmVoh+tql\n",
       "XVPMjmIBhP4Kw2xc7JXW4YawR7Zbhd5GTFUs0cHK/fpQk+Etsh9mt/hMb0jIefauiGlV6et0PZq9\n",
       "udGZHtN71KRNX8w/OktKFhtddIdDme7QVU5rUQe9+rPyUtWV+CY3mnZ2KLKejxA1KjPn6pWh26Vj\n",
       "td0QtFPTaSSHKlXLrqZ1Grgw4UIkhGSoM7QRxASfXQBGm6zGzGz7T80AAAIHQZqFSeEPJlMCCH/+\n",
       "qleItpQAQ5Hmb4fjmQSoRl36/rXg+OEnRDGchp6Rr4BNXrndymwC57FWDXoK/6BZ3/FHPdmy0hfn\n",
       "x5ik1+u0M6fXxGJDXVjMSPkMuJWzakBIQ6YdrFIGnf7JSeT01UQFr327mCVZmrwTp3diIaxZ+iwQ\n",
       "xDRNCf+fc9hHX+FWYBkM5LQAIJdYChNPACYjhmbxMTb4qNQ60j0gy3oXr58JYHJTSycSf+guj+ky\n",
       "CJZ3TsW4a3jsYj87RM7SDHsQaeUEnmZ8PRayLG7vUhOs5ijrxqS9CTI89od8FlzRIgTGrJKEBBdd\n",
       "Yfa98v77P3UtPAVyd/lZRvzesq/M0oRi1iOHanfisVBTTtpsRl535ZDqaeArJvnauds2hTLEpcT7\n",
       "Ouc2v1JBG/0OxKHuH1u3lbY8WBk6J41jPLTvHH2nibG41KGErVWZnilrA2qmZQzV7vEcM1WisiSS\n",
       "/WZeP5HfSqDMPNSYWO68v4jlSaE9z7s2xzLlfhVNSyiuFQuJcgOcUnH6dJ3tn7hRqbhoO6JKunEJ\n",
       "MfUAnUAY0N+k73VqQBZCH11j4Q77a+/nSG15Hmn/TsP4QTKLTiBmIGeiJkiVYhbp4ZIs3Lyd/qB+\n",
       "RT/KxE3Eni2QSge0g0/tnvTtlncyY9tJOHkXGDa3aoiVthISz4Li0MRo7cxZes5GcFDjAAACv0Ga\n",
       "p0nhDyZTBRE8EP/+qlfADbYABzl5zClitxDrf2Ti3FtpttvaI7ISYIjjo7/xpuZejYOq3XNZ8ORo\n",
       "c7gW91emsrzt75dzPweZLRaRWFsJy3ATXmKw7aMI0hzzW3pHBUpiHhcX+3KOG2/uHufOf5sgyTsH\n",
       "6WwKBBnP9kBDQ3RJYuh3JgTbdyAAu3CU7JordDPK9afthkxDXG8z3karPizk46gflurOM3QMiHnj\n",
       "OFBznbOrLaI/MOliN0pF4Vt6n5bLvVCZ0peoKKqUzqZOhJLYZeKokZ4snnbi8oFIIyji4tI0Mt9S\n",
       "iLfS/YSGTrnNCO3Glt00JltcpRHlofsDSwlwHizJwQNt33iuRAlcIDhXTQHrKsZNI7liK//Je/88\n",
       "+jE4xDPoD8poN5tZsG2Jnms5Oa4k7zoyzsYfocZqv8/VyTO23KuOyXCsKwcIg8SqV4zoNVhGX7r0\n",
       "aj5xyhZlmmPpS4u+uVmfpSlUeE7A4jZ7qJ3fZtCM6sCypGjU3r3dTODxAQNOiLdzUMVC5Ysl9eNT\n",
       "MjUilszglykUp0YCyu2ZSmU2fazA8YE6QXRF+ZUIFz6/pa6HHQiyc2RLpuZzwkijRp+IMzqaLQyJ\n",
       "dYP2WOR6wcpO26VnVB9pFYdPsp6yOgcoCxgGjUSaplv7mkkZt4T/X/588JJa904ka9zZU+PgOpAL\n",
       "H0wNid8kGp2Z9k6gFrebKU5DxMeF2jcO+gu4m1hL3BqG4JrABrlmutTcrsYjhVuAc5v65Vcji5ea\n",
       "GK8w6roTtI/hfvD/ex1kmrH2Lu7QgcoFCG4PLgudDoX/TXyyxksLO4ELGJB8kWFgViCa6h7jZrox\n",
       "JaErTCR6jRJgM0hS5dlDMaywIJ6q+RLMhrzgJz/ZEyeIYbbUvPOMKy9hNpHtbFAK0uxRQuGG0mZe\n",
       "ppeDZy0+N+/DXrukjzuxrc8AAAEKAZ7GakN/Bzp2+QAB2lyXcZruIPhSwIzt4izduJ/7mOcu3Dm2\n",
       "aTS5W89Li+XSzmhQNe35hTFXqoYJskV6UdPVUSQsXUBWK9vTOE8E4L9kO6f8we9DiFWCRcgWxZZj\n",
       "WUL3L/rLhVKyYBrOz2Wnn6yj6aqSZyitc3h33qkfAJDFIToCyBL2OTiI9FppEBHR23zclaQXP2Rb\n",
       "uEn+n/CF5QAAAwAAF7M0JTI0O8P81BR7mVj5a+5a4+S8PZzNW5ToADDQ7lbgMc+Xbo5c1jdl0pPl\n",
       "jQgx0yWJ/wvZ4r9/FdhUePTaMD5iszrY/iYv5+J7fQdehH+STvxkXO6znTymciJjacKYBh2MXSq7\n",
       "HTEAAAJAQZrISeEPJlMCCP/+tSvBbMAAFqkawzRzkPjDKTA5yiBDKcsRqCvr2FwlvBbHQZUmq5J9\n",
       "rA/vZhbvIB5lyRAoTRksX8teUIT8xHm0p9ZkZf/VhLfbVL5EjmgZgJ0Yd36V8B6UMhJ8KBLFrb9S\n",
       "7255hA8ugM3vI3X2tSmb+dXHHV72e992ctCX3Zaf0i6nGlsgHdhDyH0yWYeCRtQEBladc42SsCoj\n",
       "oQ0YaMiUx+0C69nszzSDJ/EWOcAzr11oWf3rgKdfoVwECJjzSNO5Z4YVPoSGCzluOcRTrSUcwhJ2\n",
       "bnXUjwwD6H5tdTv5/+LsZpfTomFIFGA1JHXoiCCQB7+uD1sTFI039Yty5U3uHAQQzlb/1fr5iAlO\n",
       "P0da6ZmFy7WwQFAgDxPJxA8+QZp9dULuseTYTpyzdgNffRFj3Y/LwLW2lZ4bK90IIPXYlrvcOFNn\n",
       "jCNR+LYp4itNPEMXKeMLCgbr+foS4h4ZXg73m7AcM+fvJ3SVn1Lh+VI6hh7qMZDU9pZaf5VNJsLd\n",
       "qPHdeRGhOfHzFtfSrra7CvtuBmyz60NyFrAj5mZlQREj1bFUtKsNoJfusvAMx8kCOtKkYmkhzoNW\n",
       "FWodkXIIp/bTE/iC6Vkepsi0ajXV8o3wUzechD9PePqliC3rYpexlGK0IaG/H7yJXF09v4LnZICI\n",
       "aEviuniFVk9lkel+PNcIdGPh+LLVvbKPIiHOzrEdF/l0OuXbuZmorJ+2vFgorapsL0dAfSxEqGkv\n",
       "SdRYpWX8x6fefiXgAAAEDkGa7EnhDyZTAgh//qpXftaLislgXtYESgAulFEARrnhBL7VBtD7KggY\n",
       "MkAb6jvnlws1xi5E4HBlm3XiUbSdjf47b6kwvvlshX5gHlXlmbz8iyb0az22rYEzWB6lBfFWfAAO\n",
       "9PAI9l21BIaTVXSyqvgXckbon6fhAeennXi60XODHnSNv//7Ru15CNVb0pytlqLDxuK1IErdPDI0\n",
       "FOly2qltos66Tuqe3YJ80KbdGJNsEQCWNna6/Kjprx8KhfeAZ2WcEBIG/G2v2qOxyrsJCymhsJ9T\n",
       "MnUbFEvj9NU2dmD3Br0o+18l20MiaKZ6dSc7xtVDalbUjAWRE+6ntdRAm+9A1c8e9ks3vCLs5MXE\n",
       "uhBM3KVWnXgAxoBRbH//67WCjbb1nJjWMw1WgJCjla7WnwiJ9TlVdKZIPAjVzzVMA/vZd1fxjhc1\n",
       "zH5AyEjTvPBEbJmU8f//35WmKirezISTUpXY+QDGFko6TrhHFEHX4fyiI2LmyE+3AWP0oFCsZC6a\n",
       "JMXP7mNv0Z9UpL+1H8EOxHGOGWNVCki2xGwbMqSCXzp7HBtiHZRltVEbYvV9qakts2gVIBdalJuS\n",
       "9ksyr0FayFrE1qIKPGNXKhvdh/XiF3fRMCVpBPiREsO8wvDQPpsLRS/Q+043b9kZsgAFE5GQwklG\n",
       "uQVCv1S6Dzcd6hFb18zmPdPsGM48t++h7WAh2NLYfw80BUXBeuWrli/2KsPl9t+aPRXKK/DP3kBn\n",
       "qhJkx/tQmVj6XzbKbLYOiKlkJgnqWvISczswiT8G3JRzGXSllVOONw7qF/eMfQDoNS6d9sQXSvCh\n",
       "zTZG4soziI8kzXiw1Bl6lc9s6tinTBGs/rtTe6AnX61s8I7VJOt18zHcPfIcmnGMJ7dtOHtYTB2b\n",
       "f6xN4BUGJaq9GWbGxMPn0mNYVnNlpQcD+et3VPvdEe5Tl2Cz5V4SspkU0dsvPzmvPPuNB7oNW+Xv\n",
       "zmgm5y+LwuU37UqA07AXWA5j7Kl9GtmrQHpjF9DiTrxK+0Gwd+IJKZqede/+YFAcQIiG4RYK5csu\n",
       "ATuoilU5ubHiFSTW0IjJbeY9sNnFD+WSa3ndIp9+DKwyR1NkyQS2QwxrevcPZBmRv40+8nBegTH4\n",
       "LjR6E5E0aaYCmaDXB1nLQHmfFGq5DVgoLD3zbUwI4TLIz5BJMM4MiE0ep/Nfmv9Vn9WYO3gtKHSe\n",
       "mtG3mO3x0F6z3/xw8zRde+FL8hoIsR7ZhsklLHW4Z1LjNGtrzQEQ5ua3dB9pQLGQ3Gib0UvH21vS\n",
       "vPE1hZRaV97tD+TnyGb2CN7bevnDhgQ76/3bC8aWAb6gM2S5IdDBrZrLpuDEZIopGXAf6b13RCzq\n",
       "XUg8ICyGW44XqnQA/1ovjv/xkosOn1qpzYADQAAAAYxBnwpFETw7/wUaZ06IzM0miqABr1NZLeWO\n",
       "KKDp9l023aSvaOoa/M8+7HuYbBzMUhkc6lz6+TcYFjzxWQiFdt57d6slCHMnC4wrSiXhaLVPAAgZ\n",
       "3e92OnC6KYak9deIkqJbM/9/9oyq+fiOFdOag2oSTwXm/iOrAjLDDB014VH9gPrysy6Hv6UzFd6c\n",
       "lYfW/nURL5JjPtVpTJ+9voxpTrP47VeGv3EKu4E2wdfu+wZN7sgkW/L0/q86wAKfm7QBYazwEBD3\n",
       "0Ceh1aJGvLlowUYQxuOyR7OGG/dvUDBwQKx5+PCD7trL3zGnBkjujavKSEBewHjpezACJK8x9T/j\n",
       "EShU0B9QzCmwq+iT+xkmYif+VnIvNbIz1WL7cl7ErvQeMscMkd4xyyp2PMY5qV3gVie9gTLwDG8n\n",
       "2hIFmckY6qyehksRCCDXvCo5RmV6XMGTjb2YU3rrwfA+Aay/Jb4Y+DIH865BUYaANXRD+YVrjseK\n",
       "aiTG6PElNACkyyNL3w7/we/3071Py9xBj/N6qQkAAADrAZ8pdEN/B0prRAAdcXynrcYNAyaGvB22\n",
       "gd7sDJIVuwOmMpPFUZL/dN9v/gXGj+SVw13LBRMyawGdiU4Qzjk3zwfLEY243UR6L/x934NKe1w6\n",
       "u784meWtv7AcKZXH5W5P6M7mChsYHig91IhwgO7JXrHDeYbn/DbCkEygiWH1AAADAAADACFAAABb\n",
       "gYKUCXCkw5n0FhBj/pb6CwgU+fWs0jlNy0DJxu+OBYI9PzmPddosAeuY133C94zjtKdrdicRIlaV\n",
       "bhlQWFm9OnVInCD8cChEWey4y3Xv9NBCk1c17EHXDMqgVAnod1RAgAAAAO8BnytqQ38GrSR6M268\n",
       "4gA1s4+10fVjykMvseBYWYaTC37uSdrT6RTgkdlGMjvGROWpwieInSSlwIuk0/PZH1Wm0wstGvYn\n",
       "YpsBQ1ZhxcwlP/BsGJVD5LvfXAa7SWwju80RDLrRwi61entQ4S/DB97k6hJ/7b3p5T/fUmUIwyqN\n",
       "4Pv4ajV1zyg4MRTTCqSPa66KqCCabUUhwljMBVGZZEJ5jUMk1GRuMPy6D5V/afkyC9z4CE85QGUA\n",
       "1+9IDhOBwfgHpTg1KyZQ7hTJbXza5XeSP+urK/0b7JO+Oy6zmT2cGvPXwIIXmstEFuqDNyVk4AAA\n",
       "AvpBmy9JqEFomUwIIf/+qleFDMAA/pFMs+7CDy6jfFzB3WtG1/i0wz81cmj7ffrjDHER1Ce1shng\n",
       "8Pt+gWu36pS7NTkxy90rrGTczsnpyCMM2zbaxZU9sNlo+HjH5FDCAmLI/2i2x685ACsq90/vauTm\n",
       "IDfc5bbRgH0Yr1rU7YgWbh2mswJWxMsB+S5zAuBwqOCoeJ0fXFd4PrZbWdxWOB9CVqV48MP0fRr8\n",
       "+d43bcjTV7h18w/WhlyAbmWk/BCeynN22Ry+G1MeKwDE4SbuxjgmaIiuu+zD07scKSbNJNOVRVdY\n",
       "ruL5LhlyE+2klBr0UVXTu+vt+z4ZeI3Leu6rNqoxquen1epKr9DIrsZgAB5ffufolbyVbHTfFRMk\n",
       "9mvVmGs9EmaTbaMRQiWhopI8BxndPD6m1L3y9ALzQov9RvtuzqEeBENlH2IXtU4gDdlJmKboOSd/\n",
       "Nhu6wFKq2rQJEBBF6l1slLcdHaKkBm1o/8+wV2O3jVN68yIw2Z/4Q3s0fonpBIZpvhEqE9COvbXE\n",
       "dKhquclGSXAMw2/omtkfAqE7u3kmbMkz5zYKoSxLOI3XwvyzrmnuvOUJJPqZH2E2bvR3y7HuLjT6\n",
       "74ibvxsUqlUK3hexkTxP1q1Jk8X6Qx0jqsH4aZ3TppU+0Ygqx5KMRSDyQCz5AV7dsLHGMJ7dtNIU\n",
       "jRcpeybC/5skiWpynaKA36K0IsqqEv68PpepHO3NRuWp+XqYtZJ8qrvtZTw4bV6/dc1UF4SDSBsf\n",
       "WAFXNUfcfLUCb48WGBgWKO0VleSsL5IasRO/gRFTG9mjMnBpp5ZniKrdk/EdjEwSoxiuvQji3g0p\n",
       "ZOGeFH092lWcpukSKUaVrwPvwwVy+Yp5Cb0Bsy6Ryvey6oP9h2qbkLO7Zx2f9FRzhRQjTYRwsMmM\n",
       "552tqXvWs4eV8A3toGGn1IzeeA1dZfRLm7JrgmOycHon7r2FiYIei/o0OnRt1SHctMbGons2IMUO\n",
       "dY51TCKj+wwXqOUYlhV3vaLnxqkMz/EAAADdQZ9NRREsN/8Gtd3JAAJ2sol4pJUTietvUZnYxHaW\n",
       "OQUlAF9p6TVy12ynLtV0IUj7gzh7YitxwQU4adN2UqtR85v22Z+rhWDcjmt45bMSP3DRvTY4f98y\n",
       "JKibI0nScL0pG/Pvc5TjHbs60uJkbILGXixqLD+2A66kTMpNr3SP/q67XVIdBAcTT4+AUapRpSAI\n",
       "7Qm31CkIqxqdCvaKdnplMiv4Evf6YCambC9me74fWdPxDi0m9HXe+tUgID2RwlCgdrgOQI61k6LT\n",
       "eQgxQbzX+J6R4MJEdOiFnvpu8v8AAAEJAZ9uakN/BrrbDMJAAhvy7qui618/kzEjjMVSzDvBAtVg\n",
       "GuL3Drtr3O6bVRJVOU17Ns9t3V3KTmV3qxkfiBIrFNgMJo4gx0e0sQ0NIfL5JogGIdhq4OUu6WT3\n",
       "foQh8Cj204QC3jSxjICzL7GdhGCy/lBmuxF1yaVGNttwPBYaTWiMsWKnkS6knE55mDGnbso0V/vE\n",
       "i6RLBOVYGUkOR6TaH003knLEsLwtmGc2BcEF8YgF6zUVDy8JpL1Ksg5v8VUcAvQnC/xULhxRnlBK\n",
       "GkT4WcxqxdoZm8fFjyopDu7cbnMmk4pS/gSVuKpcyinGlVlMvAGPymAAAEJBekdrR1BMbNAR4mTD\n",
       "CNHiwQAAAnBBm3BJqEFsmUwII//+tSvUCs48ABfX0o2qZbO0zRHPcMHv5nkdpLXo+Q6TSUX50r8c\n",
       "TEhGeNXPUwHZUgvlbGJs6nRbGy71cB2R+SXlJcaw4RmlYAj4E4+A3iQAACbmZnYuSotC1vaYNE8s\n",
       "lsnofx6X7dUzF9vV7uVHWc7al/e+8tE92pcXC3ZFtXv/soY6Kkr4dICpr5WQczEd+IaF0APGrnIa\n",
       "8eGikA6F62WWL1xnF0gI3R1fxK/luOlevfnX74Zco1HRqpWBTGw3yCsIe9guN8Hn3kWnkR84jtaT\n",
       "a3gVnJojm/yQupvdA7mgS+BaJQ+qnvIpg4R1c593sC55TNBKfEmgTeASdX++JQv8y96FTlfYD3t+\n",
       "kR5cK/3tXcY6FVcuHwDuP6jHttwnlnH3cR8VxRghFKc0vD1AiDrM29MgbYj+6naN0/30sERixxmH\n",
       "FLAa2UB15fofNYX74ZPU+Li83JC5UWJKjoTvmO3ZcRAazSkOl3CKFByngrNK37M5yT+qW3LhStE7\n",
       "oXbqpNoTqT4qPofiv6/h1g36YdtbGSx+AgtQP++v+9ztmDkYo/oQyRMsV7RiGdk2GDrUHnAPtk0V\n",
       "zuHikAV17HNr3mscfF6JwbS4lImjP2PdHvH23YQKttY2G63nUSYLPq8lyKTjcDPZO4OgH7AWNKlE\n",
       "+is4ndICHtdBnRBsuE/ys0znh42PVw/vST2ZHI1+45lmuLCqPq1V1Z2SCFX8zyAzgQ83c/PbNX7/\n",
       "3jpFflqvgfrn+1w6qWvhcgHKxUJ7KdtYuYatE/JFVVRypGdCtxaF9H/LuMC0Vtq8zIahNI2nueCo\n",
       "ngCTjGAAAANWQZuUSeEKUmUwIIf//qpX10TxuMl4mBGAE1nXJUY+ylZgYRVNcpiWchML7YjpkrGK\n",
       "oj05Nlv1qoqWHAcj5w0LJyyIhp2tZt6yo+D40qkIbN6AEManbWkyM/tzCLXQ5adh6omOxf56mSmt\n",
       "qIg9Q3W1ERxdBZllectStBW/sDU+xhgF1V3x4U9jAeqDtYBIHhB3OHX5LN3vXI57rdywzrScBp2I\n",
       "oSq2dQVNr6lAZi9cS84wDcfc5TJviavZX/hl3cp6JUSXPJcctP0WPYnh7wrrdKOJePBHKGYA5hT7\n",
       "vu8BE3adQTdd8E3x2og+yVPtdOhcqws3Nf3GObaiNVOp+1pyGP6oHnb2tvrTSxdlw8rb1tXj++T3\n",
       "XmS3AvO3mwptNODBjAP27UkFGJreYJ7LFlQe9rrxdFri4AxKCy9yiVyTt8zkJnW6VpQz+KNVRrLc\n",
       "XI1HxG1+fk7cu7zmCFt6kEp+BRX6I583CtRFN9wm2K3/GD/nhs6QDco2z0Q0uDaZTtGxqmr8e6zG\n",
       "3KtF93PvIkuCIWKBt7KJnoROvUVHA0YnMB62WERVcqoaxV4o736djnA7ZbNJsLqOEoXo/U9PbatV\n",
       "dGLc6ht7D1HSshbst3qfKUMiLr4wF+GUqU6ctXP7snhBdmvBT6jHkMPdSHdk/Nq/O0kDt3nRMwlc\n",
       "8zt4cmrBKjajkc+AtkD5vhrVnEko2Xq9q6nwJEyVMK8WKFnkpQYX0d+GQgat1vf9zyLPbmCBMwCB\n",
       "Rxy1VFJwOSQPCrtcF37vvjfakqVrP+9t8tn31Nvr7R71YKtR3qjNQFBn2GPEOTlMwOks6o4r6Llw\n",
       "k1AE0CA8yLfNn5C9YO0SlEv20JfJYh7j2JH9zWZ3b5H+E2wUBecc/cGlOxMEpWN2XgzNe4oAldXc\n",
       "qWRQeErDQho8QwO6p57KV52ylxzjpK9dSpsLK6Ln/UyK9v/U3lKT5AD6xxnMKsI6qkz4NOvip7K6\n",
       "UPVSeNDTA8j3dCbmpAqcW2fSpP1jxduaGOlS+kWFerfGDLTjdh8erofKwwnEydBw2gULv66T3ASE\n",
       "t2lTzijdGfOMelUEy8/em6D/IVsvxuih8JaFhfU3W2nCsPwz4HJxWu/aFyWmjIkGYgxtAuIhC333\n",
       "Mboy1q8gozwAAAGFQZ+yRTRMO/8FiI6VPQAP6B6N+nDpcglmmKC70EF3hMSxJDwHN//xIX6mT2AK\n",
       "jCQ8ZZL26b9uLkM2mi5R4aEcG8Wo2sD2f00KD0QuQtkHQsm/xPEHX7DxiGSFVb4ayOetPjyCe1Qt\n",
       "IBnnSMYB2TB9nEqVYIPSVef3v3uSaoudujrmtF352UCpLCBockh5I+npx+VbjSczUYVTz4E/I8nm\n",
       "MmWmj5frd2FHXHTiAiaw+S5z3LOc3RX+uGHqGD+k0B+rVkURnBJ95wlE4n+9dt6t1oQIRkRS0Kuk\n",
       "954JowCtV2XoiOAe2rM0+ArDAPUl5c+Y8TNYVnITFaFc8wPvXOV8UV/HiW0IfiI5bJ4lMj22D4Rh\n",
       "gcPMlrULavZsI9hsnWyyH7iMwIO5IeYS/qiiQDnyfxU30SpnNnz+Buvf5Gv7rCOdZnAeUA0fKnkF\n",
       "P+VlnzUsk4hhDoOA5AH6nuG8y4m2ySCZNllwKJPNUvL7AU+HMcxrU7NC9akDBlQcxfFPL1FWe76d\n",
       "G9EAAADqAZ/RdEN/BqzhppdUKtAAIgjLMr6iYfnQmMisbbosYExt32JYupn3r3lFolFqt7RB4gbJ\n",
       "z2w8JHdQi81euo+e+ytMOrxtblUqAbx6qVGPODCirL+oIgSItQ+4qHcaXY066rMv5bg7xuJFysM8\n",
       "EM5nP7dRfnN792NU5DkjXpXVpR2k+yzt7kJ/WgZj5C7thxosZspNjvMHPS2bNj5rcQ+m3GTmS7m1\n",
       "QhMiKuCO/wRhCYN7MFaylLF3mBO8Ndk3ccqZb56p8AFqdhpDa4sCnrG2pyzVzrm+F/+qlXKeJN+t\n",
       "O8f7l8Cf/MuPY8k4AAAA9wGf02pDfwal2925IJRAAhurNbP/d6K7sELrgnopqoISMt3PSNB4zH9G\n",
       "Kd2bHKDSJvE1hsLoXxc8xvnpzzrI6Jv3LPiyxppj2DwTulD+75DIxB6EbhJN+n7XhyzrI1WkJQrZ\n",
       "UVzVa4h1hPRfUkIlQHJtNdhHtFndbrPOgDz5dvhhupJWitZbH0a6ztMQhPPmEZlzUmKSBOG+qvRf\n",
       "lrwch0k+U19UhG5HWUV4wunSEvFLxhYF2w986b9seUhYCiOh0lmVszOOeDt2lX9d8HO1aNdv/z1s\n",
       "zkR1AhzMt2wFsm9fh1BcBNpMcxZrzhKeQTjWt9fNBA+Xf4cAAAKWQZvWSahBaJlMFPD//qmcW+xg\n",
       "BLV2V54RR3ed0z6fZJlbRdDJXINDtUuHoDXHSSspRUyoc4P4Np6tN/jWsg05TVQ91MvPdyighJnO\n",
       "3+AMaV3kzELAv6tfAgtujS7UE7f3qewGBE0HSdH1O2wIln3cTi7/F4Q19RZFVYQ5e3xyzvOhwPRX\n",
       "sO9oXeK6rx2ZvWEtIc30KlrTxm0XiwC88pqYoW0aDbXI3gHet/wIs0+gOyBvylDgfftf325b9bPV\n",
       "vTBTUsGLjO1MhfIBLt8x3HPyBHhQ1J7jLgnKXe1WCdmqe0xD7+CdKMf8Xm0prFL//HIZYoeVghC3\n",
       "YMp953SoCfpOTCB+8qv3wWQqR9Av3SpcpYvmBLCzNn7PUfD5JguHDk/MEEW6dwWmcxBq/7ZA6g3i\n",
       "W7+dqhnM3D/8+wlGQoAQOORoIxAL4x0ncMsnCFAHUee6ie3IomOc5WAc4NWxuRhSLU1IbxzRdubW\n",
       "gEkZ1/af4/LeY8ueKMkBgAIxZ7krTyXYHnycJ7PL255M77ZjJ5hfj0+dQVscvRN3NM3ABWn3OqV9\n",
       "LYnHZqvjdpSKRz62EavwJsRbH2kwLTnmiKJF7jtnPVxBMzFWbfUher1OUkJE/6Z4b0IAIjFGXN9R\n",
       "m4mj5ykEIXSvxD93purA++71W5q04uJPFqLDMfexIZcdS3mjQffs6g7s+4yOVPGgskzgtBlMhPI+\n",
       "wVrrQ00cxca1qQ5a+2qf/OqVzuTUAIAyTCVjKkY0bYWusJSbhnq3qa3/h18v+x7aCmNPPZPYAuEc\n",
       "wufFjgwPiFNK3tmM6KsWpQJKRvyKsaUSqU/3b8WnUWGMR+0dFgADxi0tGj6B5/a6YzaSRYOTwApE\n",
       "gIMmeQPdI5hO1tvI/jcFMlEAAAE6AZ/1akN/BqzgjjhxABskbYFJoUSy0skMEj6qLb7u2jGO/xIO\n",
       "sZE0d6S67Ve7gh+GKVF/r1+R32gwnKQtXzRpHS89M9wtZ+nzTMQbj8+53YHp+rAzer6ZFz7QZjKt\n",
       "zqNznyj0NirS9ilX944GvafjPonv3U51GEvaFlbzSLQm6jcu5q5GDWUH4DWqFPnbqiHyZ+4vj2Zy\n",
       "ZZhS0WponE55GTAmEk3Sv8X9PNYSX9JaWhRXFmBdfwnaL9WhqiOg6g2jjyJHfyWXaURgEhj6NOX/\n",
       "O7SwuQr4BKBNNXkFVP5ztNfvgdQhX+kJZLNtO6EORmN8e1chLODxwz6D9aDEpPRzYXneTwaIeriH\n",
       "sbBfjAiWcf9wjI3pOWNvt2dSeDBFYmgLqxvd1xgnvsuBP6Car+f8C4yiHZBJ4B/4ScAAAAIJQZv3\n",
       "SeEKUmUwIIf//qpXhQzAAP6QHIHRV3QRw5dT9bFD7Jpvq3xij3A2J2LwjzDEV/EXVNYYG2Aks0Mr\n",
       "aNPld8Spw2Rg2QRy5ZX2n0L/Wec5GWvX+p+RU3beSySkgcZqeLbCMMU6OrgqYT7GIjREyuLTHAbW\n",
       "af3VN8sXVlhMYYfBtv+hA2BDsVrIT2LYz4eaWWbrQHyf9z4wgO5vDCmSIH0t2D8BoiTYVjZ8OUgV\n",
       "Zjo9NRM8hLKCln8myt+6xxSJRc41whraVUyaXQmExf+uwcemVlrJtGcDg4l6vDGcPY3kdEl48XFe\n",
       "8FSZSu25mBT2+REAS1Prt/xjKP/fe3lwkmn/3RfMw9wIeY1qVp1/H2vbdneH9EBTFa3h54Qu0ZG7\n",
       "CxfnTKjNL4Vh+PuXQJEHR0DX9YrRIsAdroz1RujKerkTgacxP/wj1xzE+eHtUNjkcVmqR/JE/jzo\n",
       "4cZ2yC243lTyGuc0HLZHMqOPDGUVfoNAY6Ev2PnZPvdVV9W9LNe8kh0h4UFCSkENfmKdJy41/N60\n",
       "F/gDAOpRFVE7nJQrVW3hRI4fIxwdgM6BKxKDWR9IUZc3lAiH0Ybmn9w3nh7lqpuoacpYh3nhxFGL\n",
       "RPIfCL98D4LLuMT+lg2B5zTsMtc/JygeYlqMJTNncoFJ8iwG7gSXRMbAn6wNASk5WIArcVGR4j07\n",
       "GSE54IEAAAI+QZoZSeEOiZTBTRMP//6pnFvsYAP6DR1N18cAwF0yqiRctCA6pt86xcWstnhY6IkG\n",
       "QJ3fmyBODpA2wDIdRSWURNuujgpIdDqTWMldbmZnkQ7S+pZ6ZyOklfUWjmbJsQKtMyfWMDkOD3bF\n",
       "oEXUfP2KfoFS+0g+fSL6iktMOwvkmAD4SMt2ujI1BzrxSm2nC5tAE5yzaHTTwi6dk3PKyhftVD9Q\n",
       "ZmqSfQ2pJiufe/OkbJNdk1QLEOAjTwHiNcdnIdZsnuFNW0dF7umfmiDoYqPRshB9IPakUZbUBPLE\n",
       "cdxRCRBepzHskBj4jGpsNK41zrDVqD04eaWOe6RceWQXy/Cd8iGfq3pHOfd5N9aYXBuMdED+0/KJ\n",
       "BhIQNnlmew0UfKVlbvuH+Jubq7novJKFkE7g1i58minJ+r7UFrn76xmLgy946oyub0EZ5b44g7Vx\n",
       "+BRB7MntCsMNYL5eWdrF1Ptv9yD5Ez1j+jBo6tu9DIhq3NYsOoTXfFn+NikL53zoTgPWbXNVo5jn\n",
       "/UC9mytFp7xzbUhrifBbbOBgpWW4TnqvvTYvhCNUZE4TvtCjqAwu4m5PBZPr5boBTELWmiUHYRvS\n",
       "K7J8xN2qXC9eEvn8zuJbWiLyIwtb7709+7L0GwSHQ7Q34hf1F5wB80ssVSf3y8C/wBHZ4bxSdNQD\n",
       "7lo+5/jHXPlW7VOgou2h1WWNJ5pdwid6YBKl7Rjzho7STWda2cTxuELkU9EeacsiLi+C6ujR1JGT\n",
       "2/Qrqgi2UV/bgtzYiQAAASMBnjhqQ38HQ1bwAhT3mcu0ouhJqZ18UqACZA4cKgXaQ/dwJFxrT1c3\n",
       "Rj/HW3pwWWFG0isEbm1bFDIFVIP+1zMqjK1tfHscLRB1Kv65PbS4D6Esg4ahIbsXgT4f9XA8KBoW\n",
       "vdUCMGfKUHTyUtU/emSPVwYJmb/f/8PRcs1+m3PTI3XfNKz+P/WVAPc/PZOSLwAFa5+yU8Qux/DY\n",
       "WBdriLYnJpv4ryzq+mFm/NvgLuDYQHAlmDogSr7QUEFPKznF6e3A8Nd/Y/jEv+nWp/9PJHAAl1pP\n",
       "OnHz9p68FMUWAu6+4ETaSQKUE/k2wx2XQRD+7Aep3B7bPWhJmck7ftFyX0+ezRf9PNCVtBSxqYwk\n",
       "vUuVEPa5QTWtvwapX5m/fkdVLiR6cVAAAAIxQZo7SeEPJlMFPD///qmcZwI0AEQScjCxoyTL/NVZ\n",
       "V16VjpNtjv7QsiOOjv+0/VRRFtcKxGxtskfum32NKjSPlGcNrTRAidzVFSAemCVvoA8uStl8YF3Y\n",
       "zF2J8rHkAmoZ0BJ7Ddhsm7IyuZhHuX+OWrwYK0xNlldg96zHD+4/rtxnOtNipMMeouABSyuVWkfZ\n",
       "6yWzVNPTc1RJnZqnD814o8wkdnT9kKoV7s3LlNj7yRfMmmh3Hud25zJ9bC9ML2YvKjNnoIJ/zvHj\n",
       "cVA9s/cwvm9m3MZz8AUMAeeG9SXyG5x2MmiIOY9ji24jtZ2uB7SmKV0m1MiS/8kzcBTrRXCWY3D+\n",
       "ob+10g4SWxNYiV7ETRbgOs7mmHRp+1bnIJNM+T419s2shJF1mljeuKB1roUjDH+pwfQtCWLGNAh0\n",
       "e84aGs2gXM+D485s0I+3IcOyrwmjAsUgO62cNYXTLRO70Lsl4uu1da+96ZdFIkgeTF2pJaNj8j0a\n",
       "xi0yySJfPfHtBHDs7FUyZ3dj0f/wQY/682u+l3UQyCggfuGQH33Yeop/56dz3dGrmjGbHOVPwNjB\n",
       "30dALxnMfTaNUjtrcoQdrIYkcZCmrCAHm4nVVCEThVVM+02qQqD4ZZ/7P6FxQD6s35S9dC1CCtas\n",
       "IF7E8mQPH1fV1T4ey8EqiGjF2AS3SYzEv/b/c5iBQ+7FOb6rVLBBx+GoLGqos8nV4+09C8/QrA09\n",
       "E4OFcph2wGKGDK06vK4n0qbVAAAA/AGeWmpDfwdx0QAhTW0vTIOLK/Ny3mlIVZM5QRt9rxCIuJMi\n",
       "MYWuaM1zwMvQvZIW8r7iwSfkGFswThBDfXXa1fGDurnuU2M5WJHCjFUYvANI2HYS0gQebbb7x/7V\n",
       "4gfPH2lo3ofVMQ0+B4WK50omguIxQ7zOdjafpqZG3UPF09KiHJDBpafSCmNafKdTGcFxYqJ4cDN1\n",
       "JAmfmkGvEiLkW/Zy2eCvvoRl3YVVh4L3UBcqc6Q62HEhGuR/MLSznDe+WD9BPgYj/WBeuarn8mzu\n",
       "lBvQ+P+U77SkJv453atom6u43HW1IcLEllppTq25jTYAe3+e09aAj5O1+LSZOAAAAXJBml1J4Q8m\n",
       "UwU8N//+p488u8gAEQe758yUvncuo/FJRRjF/f4mh8QpngYocBEhrGPREbD8FXPq3oKAXlEjG7oK\n",
       "38s6LnnHoSGFDX4Pe84hnMZY22ZoE8OrWvwMsKZl2bgXn8RkDDp065NsxEGgYMdmmSFYCJoLRsVg\n",
       "+2pjyCgS1WN2ub5m631mCl6BNOib2JNJ60RMD641fS8j6PK2fKgF6XKHVZajB327KJx/x1WHxYNY\n",
       "jvB/GBqst4AxNdbwUVFOr5H+XGs2vSpPa6DIJu0s8GPyID78Q32MIJWO+kEOR3LQSyfyiMgh0Jjl\n",
       "hoG8DJE4BVKFvkdv+i1rKZcphCe7cZ9jogbO0NpUxePtnXYxgNZjBKIoP1Z434hGku1Cu0/cq5v9\n",
       "TWy//GSrzvYfo7Bb8FEBQeyGqkb/q5E8oAAAAwAsk5wVoM3wBSczk+CX8poa7T8B32yvOzZCaI0Z\n",
       "BbEV6c9ZMelsjQaSKjjRzGko2wmhAAABBQGefGpDfwcaZsCQAIY9W1ovi+2zqblb26ZkTUYgaSi5\n",
       "SC5tcavPJ5fmHLMcvAc18puEZ/SfXdFa0jtUjwoi6ivQPLNYvSZ1A0lmu+hAhd3gfX/GGqIgGD8k\n",
       "SjdgmexWDpdCnSiQ3QOfj4kWNMHsC+i9ebQz3itBcQjHCiIiVwScZobrI7GxsUOy2y3sAAADAItM\n",
       "M244QMjNxrNy+LnB2VnFLZIEXbTMnHFQ5nnjbVZeccUmDCWMO4uzKt+mfeJ5NT2rFkQPQ1aHyYKV\n",
       "DP73V5WaDpFP5cq5mP29LqjS0iZkpkCtko/CFrnYWEYe6h/0VNrDXgXvfR3ovUX6E+ilWaXMXT6a\n",
       "bwAABH5tb292AAAAbG12aGQAAAAAAAAAAAAAAAAAAAPoAAALuAABAAABAAAAAAAAAAAAAAAAAQAA\n",
       "AAAAAAAAAAAAAAAAAAEAAAAAAAAAAAAAAAAAAEAAAAAAAAAAAAAAAAAAAAAAAAAAAAAAAAAAAAAA\n",
       "AAACAAADqHRyYWsAAABcdGtoZAAAAAMAAAAAAAAAAAAAAAEAAAAAAAALuAAAAAAAAAAAAAAAAAAA\n",
       "AAAAAQAAAAAAAAAAAAAAAAAAAAEAAAAAAAAAAAAAAAAAAEAAAAABsAAAASAAAAAAACRlZHRzAAAA\n",
       "HGVsc3QAAAAAAAAAAQAAC7gAAAgAAAEAAAAAAyBtZGlhAAAAIG1kaGQAAAAAAAAAAAAAAAAAACgA\n",
       "AAB4AFXEAAAAAAAtaGRscgAAAAAAAAAAdmlkZQAAAAAAAAAAAAAAAFZpZGVvSGFuZGxlcgAAAALL\n",
       "bWluZgAAABR2bWhkAAAAAQAAAAAAAAAAAAAAJGRpbmYAAAAcZHJlZgAAAAAAAAABAAAADHVybCAA\n",
       "AAABAAACi3N0YmwAAACzc3RzZAAAAAAAAAABAAAAo2F2YzEAAAAAAAAAAQAAAAAAAAAAAAAAAAAA\n",
       "AAABsAEgAEgAAABIAAAAAAAAAAEAAAAAAAAAAAAAAAAAAAAAAAAAAAAAAAAAAAAAAAAAAAAY//8A\n",
       "AAAxYXZjQwFkABX/4QAYZ2QAFazZQbCWhAAAAwAEAAADAFA8WLZYAQAGaOvjyyLAAAAAHHV1aWRr\n",
       "aEDyXyRPxbo5pRvPAyPzAAAAAAAAABhzdHRzAAAAAAAAAAEAAAAeAAAEAAAAABRzdHNzAAAAAAAA\n",
       "AAEAAAABAAAA6GN0dHMAAAAAAAAAGwAAAAEAAAgAAAAAAQAADAAAAAABAAAEAAAAAAMAAAgAAAAA\n",
       "AQAADAAAAAABAAAEAAAAAAEAAAgAAAAAAQAAFAAAAAABAAAIAAAAAAEAAAAAAAAAAQAABAAAAAAB\n",
       "AAAQAAAAAAIAAAQAAAAAAQAACAAAAAABAAAUAAAAAAEAAAgAAAAAAQAAAAAAAAABAAAEAAAAAAEA\n",
       "AAwAAAAAAQAABAAAAAABAAAIAAAAAAEAAAwAAAAAAQAABAAAAAABAAAMAAAAAAEAAAQAAAAAAQAA\n",
       "DAAAAAABAAAEAAAAABxzdHNjAAAAAAAAAAEAAAABAAAAHgAAAAEAAACMc3RzegAAAAAAAAAAAAAA\n",
       "HgAAE98AAAOHAAABYgAAAlYAAAJDAAACCwAAAsMAAAEOAAACRAAABBIAAAGQAAAA7wAAAPMAAAL+\n",
       "AAAA4QAAAQ0AAAJ0AAADWgAAAYkAAADuAAAA+wAAApoAAAE+AAACDQAAAkIAAAEnAAACNQAAAQAA\n",
       "AAF2AAABCQAAABRzdGNvAAAAAAAAAAEAAAAsAAAAYnVkdGEAAABabWV0YQAAAAAAAAAhaGRscgAA\n",
       "AAAAAAAAbWRpcmFwcGwAAAAAAAAAAAAAAAAtaWxzdAAAACWpdG9vAAAAHWRhdGEAAAABAAAAAExh\n",
       "dmY1OC4yMC4xMDA=\n",
       "\">\n",
       "  Your browser does not support the video tag.\n",
       "</video>"
      ],
      "text/plain": [
       "<IPython.core.display.HTML object>"
      ]
     },
     "execution_count": 39,
     "metadata": {},
     "output_type": "execute_result"
    }
   ],
   "source": [
    "# Create an animation of the traffic density.\n",
    "anim = animation.FuncAnimation(fig, update_plot,\n",
    "                               frames=nt, fargs=(rho_hist,),\n",
    "                               interval=100)\n",
    "\n",
    "# Display the video.\n",
    "HTML(anim.to_html5_video())"
   ]
  },
  {
   "cell_type": "code",
   "execution_count": 49,
   "metadata": {},
   "outputs": [],
   "source": [
    "# Applying the Lax-Friedrichs scheme.\n",
    "def Lax_friedrichs(rho0, nt, dt, dx, bc_value, *args):\n",
    "    \"\"\"\n",
    "    Computes the traffic density on the road \n",
    "    at a certain time given the initial traffic density.\n",
    "    \n",
    "    Parameters\n",
    "    ----------\n",
    "    rho0 : numpy.ndarray\n",
    "        The initial car density along the road\n",
    "        as a 1D array of floats.\n",
    "    nt : integer\n",
    "        The number of time steps to compute.\n",
    "    dt : float\n",
    "        The time-step size to integrate.\n",
    "    dx : float\n",
    "        The distance between two consecutive locations.\n",
    "    bc_value : float\n",
    "        The constant density at the first station.\n",
    "    args : list or tuple\n",
    "        Positional arguments to be passed to the flux function.\n",
    "    \n",
    "    Returns\n",
    "    -------\n",
    "    rho_hist : list of numpy.ndarray objects\n",
    "        The history of the car density along the road.\n",
    "    \"\"\"\n",
    "    rho_hist = [rho0.copy()]\n",
    "    rho = rho0.copy()\n",
    "    for n in range(nt):\n",
    "        # Compute the flux.\n",
    "        F = flux(rho, *args)\n",
    "        # Advance in time.\n",
    "        rho[1:-1] = (0.5 * (rho[2:] + rho[:-2]) - \n",
    "                    dt / (2.0 * dx) * (F[2:] - F[:-2]))\n",
    "        # Set the left boundary condition.\n",
    "        rho[0] = bc_value\n",
    "        # Record the time-step solution.\n",
    "        rho_hist.append(rho.copy())\n",
    "    return rho_hist"
   ]
  },
  {
   "cell_type": "code",
   "execution_count": 50,
   "metadata": {},
   "outputs": [],
   "source": [
    "# Set the time-step size based on CFL limit.\n",
    "sigma = 1.0\n",
    "dt = sigma * dx / u_max # time-step size\n",
    "\n",
    "# Compute the traffic density at all time steps.\n",
    "rho_hist = Lax_friedrichs(rho0, nt, dt, dx, rho0[0], u_max, A_val, B_val)"
   ]
  },
  {
   "cell_type": "code",
   "execution_count": 51,
   "metadata": {},
   "outputs": [],
   "source": [
    "def update_plot(n, rho_hist):\n",
    "    \"\"\"\n",
    "    Update the line y-data of the Matplotlib figure.\n",
    "    \n",
    "    Parameters\n",
    "    ----------\n",
    "    n : integer\n",
    "        The time-step index.\n",
    "    rho_hist : list of numpy.ndarray objects\n",
    "        The history of the numerical solution.\n",
    "    \"\"\"\n",
    "    fig.suptitle('Time step {:0>2}'.format(n))\n",
    "    line.set_ydata(rho_hist[n])"
   ]
  },
  {
   "cell_type": "code",
   "execution_count": 52,
   "metadata": {},
   "outputs": [
    {
     "data": {
      "text/html": [
       "<video width=\"432\" height=\"288\" controls autoplay loop>\n",
       "  <source type=\"video/mp4\" src=\"data:video/mp4;base64,AAAAHGZ0eXBNNFYgAAACAGlzb21pc28yYXZjMQAAAAhmcmVlAABQ/m1kYXQAAAKgBgX//5zcRem9\n",
       "5tlIt5Ys2CDZI+7veDI2NCAtIGNvcmUgMTUyIC0gSC4yNjQvTVBFRy00IEFWQyBjb2RlYyAtIENv\n",
       "cHlsZWZ0IDIwMDMtMjAxNyAtIGh0dHA6Ly93d3cudmlkZW9sYW4ub3JnL3gyNjQuaHRtbCAtIG9w\n",
       "dGlvbnM6IGNhYmFjPTEgcmVmPTMgZGVibG9jaz0xOjA6MCBhbmFseXNlPTB4MzoweDExMyBtZT1o\n",
       "ZXggc3VibWU9NyBwc3k9MSBwc3lfcmQ9MS4wMDowLjAwIG1peGVkX3JlZj0xIG1lX3JhbmdlPTE2\n",
       "IGNocm9tYV9tZT0xIHRyZWxsaXM9MSA4eDhkY3Q9MSBjcW09MCBkZWFkem9uZT0yMSwxMSBmYXN0\n",
       "X3Bza2lwPTEgY2hyb21hX3FwX29mZnNldD0tMiB0aHJlYWRzPTYgbG9va2FoZWFkX3RocmVhZHM9\n",
       "MSBzbGljZWRfdGhyZWFkcz0wIG5yPTAgZGVjaW1hdGU9MSBpbnRlcmxhY2VkPTAgYmx1cmF5X2Nv\n",
       "bXBhdD0wIGNvbnN0cmFpbmVkX2ludHJhPTAgYmZyYW1lcz0zIGJfcHlyYW1pZD0yIGJfYWRhcHQ9\n",
       "MSBiX2JpYXM9MCBkaXJlY3Q9MSB3ZWlnaHRiPTEgb3Blbl9nb3A9MCB3ZWlnaHRwPTIga2V5aW50\n",
       "PTI1MCBrZXlpbnRfbWluPTEwIHNjZW5lY3V0PTQwIGludHJhX3JlZnJlc2g9MCByY19sb29rYWhl\n",
       "YWQ9NDAgcmM9Y3JmIG1idHJlZT0xIGNyZj0yMy4wIHFjb21wPTAuNjAgcXBtaW49MCBxcG1heD02\n",
       "OSBxcHN0ZXA9NCBpcF9yYXRpbz0xLjQwIGFxPTE6MS4wMACAAAAROWWIhAAQ//73gb8yy18iuslx\n",
       "+ed9LKzPPORdft/nuP8wCgiJLprSIZ0kCrNAtypVaue8ZCmM4WXp2VB9R5Gy0sccY95yXD5p3Fha\n",
       "O/mH92r0AKVrRM9fkv9jf0ekOFxMAQt6UgLPNLlZUbcH8UhzVulW2lJlXX8hnJnTlkHMli4SSYHh\n",
       "bnhz2F5ch1pgF7ZTLtEKsw+Ys+AO5ZiIBLaJuGxoDkW9pQJEjl7lKAhZFB7CHt+hachbOIEJ1Ibu\n",
       "tCqigyj2Bpzt3b7hUjGp4u90jgYmhZqG+o23mYRrFYUQ63FM3bz4OwzOptpXya+8IF17535J1X0e\n",
       "Ebm4O7mDMLHXbXCKv04oSxsA4eZuamfrcYjrA7V+6c/k6Dces6MPe4F89fwN+7GD86qIwziiGJIK\n",
       "hN8LQiazSB0zcW3tM4V9fGaz9pqwPaK8Y++Zqgx48F9ggsFvxcbnwTn3q+JwlazsX5v8NN4k3une\n",
       "+OZdTxpYc/Xs9mAaaFEl5FWNZcstQpcGr+B8rKGjYpUJGpvAmNnEKlgkDGGM8zJ44exMmSDeIZwT\n",
       "IzjJFM1HXZMacX+Oeuk7/o8VSCrEYpOpqGpp+Cg5/UdqTBFeVuHE5ji8UDEl0mT62FPO/v12uxvn\n",
       "ZZJld3cRPRYCBvgC4NO9Zx59t9cfVOTf/Qs66v/t33aCid6uclpZHHQibABHF3k4mXOUnyiP9vtk\n",
       "ArdFdQcoHT+9BvOIXnGP/m+o4rkNWqTWkeICEQ6lEOjbBFm4TXMT1emE+RdM9q1OJDO7NNW9Bbin\n",
       "HqvIrpP8v/b8gC0y+qka6gWo+I1axHHcGb1qXMrBoQYy0a4M3WokdJI9Iu/faTB//Xh5HesFyA/3\n",
       "ymPBALMQKApt9os30ZRzFe5mwCE5csTPXlnLrQ6yDY3pUYFOoo5vFBAkSEcY7k1+4uL0wR9tqM4D\n",
       "F5Uzs8PxzCTHXPYptVAyK+Crz/LH2ah1en/+BShN9hxx928at8HyBXRQKhF8kiJsWcBUCcWzy1Rd\n",
       "lvD8B58GS74VqHQ1LQZlEmZ6WZLEQZvaoGahmNrvfyPo52KRF7KWP38bvGkowcXCy4K6oxvJsPSW\n",
       "FDX2/M2f7jQfcFYpstDX004igmteLqVQzbLBRPTDKeroQOP66Mi9Yn/sWjeiTXzAaQxkBNhIJNng\n",
       "s3ycMziapT8XDrxrP8ft9w9vIy75RB56I/r21/Di3MmCIAH3I3opcfp/CU4itUeUxI+5nwENIMis\n",
       "D1BBm8hlsitdKh7ENqc1GbGda2Q2jsKyK7F0GNdlET/jUagfaZLEOwX8LgqC9/LSmIG+/Bc3fMcE\n",
       "wki7bg5Irn7yGC2IcbIdatfT8HuXF2KOLmix+Larrn1AseJXddFsKM7qthpbNdRx58X26JPfKc+C\n",
       "eTXbRaSo89atF+P34lnOSt1xFlqtgd6j3vefAufHndIZuD9Y9XmWNRv+RfSidzG8yr7aHY8UoWai\n",
       "+y6hfg/zlRWeQrofvAHGMhPujWxdcxN2y0vAO9PAxVgz5ZGon2Na8PPfnKdFIhnbD4GyNBZxChAY\n",
       "krPLqX7RxX3dW2QWAwfYWVWJmp8YUo52M2vwwzRxsW8QpFyeoPealbKJAhirHoA68XBhLn+FPFtB\n",
       "BWgAwzm5YB9c0sArKchG+uJHm0bQaPuaO/F+6g5AW6EKKiDbxkcgiycbBedX62VNCyXP3kioFk0k\n",
       "dI7zXiIOhwGG7FIF7savmoAf2vBFJQfwI7U2+QBe8hKSsWUTEORGF2tIq8Kxhj9lE30L132WNxKO\n",
       "JXzpryEyZi32cLvmIFWLqRClRJqBU4kYhNvmGMENkawmfHwxCtpJlE+ozL7vKW+RptfNTUEt5gPv\n",
       "3V+Qt6npu8dZrDezJCz8s/enMz+YDZ+GzGeLEnnQqrlxlJGjLkvURjolCzYQHj0lcjehJqDwN09w\n",
       "g0LRq005+og555/yZ1aBCWzGz1SCK9itiv/TK+aXpma5WB7F9g+6alfjyHEs2dWAV148hYPHya5E\n",
       "+8l0YmKivLl0eGRNg0daEqsaRPOppXx2C+T3dKYoq1fOoeRyl1BGmPIWqq4kaq0pkiNiXprIFll7\n",
       "qvH1zo5QgPBZj+1idsS2n5yUmhFrOlEWYdpll+JUil2iWaFlDlrqj3QyrcQFRrek484Bxic8O7yg\n",
       "BVTlewGbHgkJ/Nt/MECXFtiZJkRxCckAagba3GYzCDTZx1t4ORRNOYx4HWb7f1FZyZ1SY7viF1lD\n",
       "oiSM7QSCaS/7mBOG4n4p4qzYClt/5iCfYWjPy75XwI38ZeLeZuAKhasvga1fQzeJMuEjhOM9G7dk\n",
       "1d3JV0+g64zyFkJCRWRPZqzWsgSOzy1MDP1+JJxKcCxTxYvRbRqLAvrFqgwiJqpIgDnXMPUs7vTz\n",
       "jyXwPL/yNWVVcipVWuw+Ia7f3dGIX6WccWbufCN6VNrAECPQaSIVM9K5D/fHGnZGqNNYILtbi1L/\n",
       "sZFgjga4CjXpo7RrfIzpVVRzUWjX5AFUpwSptYf+I1h5bTqPHnW//LXD04aWcvZ6oN5V0fyundmo\n",
       "2adOJB6LHlHYKGEs95RqMXorS77Ke1AYRF6qgNf4u6afNiMrYIda22mQUbPcyEK99Vp/FZ61LSci\n",
       "/saie8Qm1gsFas8Ehfl81Wv2/GwvHBUUti7lpCGzbesCzNG8fWgx41AKrMwYUBcwDgEtSV+3PV2q\n",
       "Rrfgt+UAACuVsdXjAqFwZN1n5TY7aaAf2m7qPuqG8yTikqFtOveESKwv/9WdN9X2ksG/DncOR5Dx\n",
       "gSL4yOfyxoR0592ktJciqeoWu9AkSKGqOmvgl8FDEqJuDDRLCwJAfBHSKeKER3Nx9nwy9uyDIX3z\n",
       "Sw/LkT97Yac4AbG/X+b7mTl1Knr8+Nwq9LHrdNZFi3QTa/D8JJuaZeIzfvUh0imCggALFVLVzLql\n",
       "5rlPq7iPUMbyAVJVsjfnqnug4hk4LQNOuvYL0Vmcr2y5oQx+prbGW+SR9ehUhRrpnXwN6SF5jDAi\n",
       "FKKH0AO6pVHh7qDyI6J0iYnqeU/hK28GqYnEcwiC2BhfZzEe1k9lWga0MYEefBJdD+2ewR3hPIzn\n",
       "6VqZn6OTkH5mt9lWh+Fn9bQtjRrzV+CDP2v0mn4194rEH4+JKhN9B6VnwYDhqwVtwR96EcxRJDd6\n",
       "PdUnoNYGg7SXU7Jqp1yLMkPRniKUcPpbSrzauVsEK9V4UdkjdcCJkOCV/aFsOsbqyPhl+XNxJwn0\n",
       "wzI7rCHOG/RKeXnTMXJP67Js/IEyFvIjJ+ZNxLh5rGGPUmOgc0l+4XU/O4+f52Ty667pWb/Ksi5n\n",
       "2dCLVq6xUnTJ/3Ez7jrOJ4try7GjF84IA4gbWHn+b+ojdsYLvqrc2vKkKIBalUKyzGFxGLTGCXFu\n",
       "mfWRLygjynDo96AOO62aeBx8eq6rFfk0t5EZRcDIquqt5lKCfNwnKXGF2ytApgC3k78+/QfcKIJD\n",
       "ZJ0SzJLWYXC+RVIqF1AWCSzdlbB1whtzfnO9NT/KGUIALvKi/YYn5qgxuIPT3km+DK/nr3O6LAaa\n",
       "zU8DkNbZAyjEvQySwMkUanWAWrGMm6XWlhtsgLln9Up+LStFAvI2crM3j1bah1f4ceszzt1CleVu\n",
       "1uQNeemZ+yRjsaG+ZtALDgue7PDIvavtbKOX84+7mgR5mqZAhtSXUKjB70xoLIwbp+YB3xCPsD2H\n",
       "omVUK9gWEkPGSc/3jM1iQrVDFd7osISOk5U4jmyssCdrR+N1gQAGa7HOShC6d58n596vgWq9OpHM\n",
       "SdL2kstRuPeYpSEzgyZk/CFKe8Z4nQdYs/eHs3/pJCozuxXiwSt8u/F7Gq+LLtIQOv13W1GM3lTP\n",
       "dorYlTx/hieyP8LH3CaOT5+iiHLbvNkNFqV3upWnb/piZSnbchyI7pdNbiYNJNr2O6t+6qR4zBg5\n",
       "Z2KDMdABP+08mPdvW87Ut+0USxn6G+Ct/noDqDT6bTJFiGLUKHddKgRTIyenn08k9AHmnq1fKoF4\n",
       "pzeDlSCAeryKJkNzsh8DiHDrEglxkr1VmyT15hhBy0qyIs+VslPRurRGtFJf0X9Dc/t/gIYAq4I3\n",
       "1Yrxq69JXThKszeKjPt6SN1047ihVmiTKqHWsXN8FUwoWAs8eU9QGS6rH8uLkqQAEqHuKaviFnwR\n",
       "dU7Mq22/PqCpGoo+OIS7/6F6x9FyVIZZHjHgg4vcVp7cxjjo4xp+WoqA9RsOneA2JewSPusCtvPC\n",
       "qlvoaFSw/FoBjrgGVGWi2OLNhNHTWJatWJjjbSIrzDmS46MEBds15sfS4RkNMcBhB7D/7uhwWTH9\n",
       "M7Cvj4Plc95XieEQJKgM0doKAMJTyG1DHphxZY9j+241Ticn3TNqAgSxEKcQoedhzcId5nl/eKHk\n",
       "stCJx4t+cqKJ4kQOS3m0bJ+8BDUB1KwEGy4iI186cn8WLm++iTkHdU9wn6h+rCweKx6NRZDD2pt5\n",
       "9m2SswepfbnnQLivK+7B7FPmCO948CdhfdEaJLGAcp6TDZsQo3OEY19o7iy7lRkSbLXMO6Qrd3Tx\n",
       "bIyJyShTRKvifn2J8MrhsL88cjmGM97Hrof2swx9Z5tE02x0Jg2TQwtgQC13eHRtkFvFdowAMGXk\n",
       "cgGQwp325ntYWxj+bolplbyzFM4P+E9DokqWemXFkfxAoCjtzLRtt3jJUp3E0PGWrQ9KPDjr3FYW\n",
       "UoxNK4JWOHqAWIc/xz9M+Bd2Z7lHJJDBQvtTUOBZvemWfaP6sYg3Y5KAc+JFYp0n5eZ+wXU96S5v\n",
       "tkUXC9WDtpn+UDQ02rB9+qg+FR5CRydMm+0c8Y9fgDAHMIWlPvRfxhPiQ3LIZc58okoQHyNpC4+A\n",
       "8GK+rOtla5JxAbRMV8WUG3qEKP0vJfseUClTUCz7p8ZvFxyaoIQ8RpFIt/C6frXI+eGPgVlQATVK\n",
       "v2H4Znv9kllBqCVhcP9+SrjEbjHhvhihwaUUr3ipnNRE7ngswZRB3TmBTsQm0NYaD8OJcrLFn85t\n",
       "U8M7kvYr7MOx2jiO8SSZSVD9B26X98f/TWzjgtfdWB68m5Is2rGlPjdiiS/cG6CqrMJU5TvOPCRg\n",
       "UDLRo8ArCHmJNDLM0LU1VXK72LWlvNDXcPMx6q65jbEAWWVHrIPr98rdcyQOpuOgv3+QhG6Gs9jN\n",
       "RANW/KnIHNsfpTm6XR0tasqbt/ryJJA8PiByjbif62grUFLm+CPmh+94Ca8KZ2aWM6Tpf19SeRQs\n",
       "SjXZ2R1JdcIwNGWdvo0u9lv3w78PFLjvzhSKqO2jwSv/RZyrOmbLP2QE56eMAK/vdCJ351C8paJ1\n",
       "j+rRUMZaE0f8jila/swYt06adfnFzppAFqyOYILULCX0hfWI3EeXei7ECiDEMN803NALE3Lf7loV\n",
       "FScwllHGhGVv0W754OfytDskS1r/80KmeR/i6o/5giT6O4V46w9twmFI5TOnkb177yPlBjTyK/B2\n",
       "o/TdDtC3WWjOiBDBElNc3r6EQcuODLtsJtwoPE/40BxxEbWFTUdVttdxEtKNQnSoryiF1ek9JdQy\n",
       "rvSOEwYKddR9QpfVX2IAbmi/xRSaQKNd2z7hEhQYvNSgTpc5lyVCxzTSfvqTAWiY/SrzFwiqa0Zr\n",
       "GeZ5V3NKucsDVNadG2BMfLqLbw/KIizJZSKonOhB2nBD/26TBLQiwpBoW7O6Lh8+nhqOMBH+beoU\n",
       "B5HtIod4egp9UPb9M+9yNFEiWvt5WWARnmEml6UttDu8fPxWnwrHVsqO1MRSFnZcMbfkMI3jcWdn\n",
       "NBa4gXwvIGOYb9Gve4i+seIWD2S/TMRZwp6rZfk4lxX97th9mlpGmV7CrTVbtwyTHXRdXQHM3YjB\n",
       "RcpZivDbmSocKG+1Fdd5DrBMydbz2bWUDGnNOGcFMJCvAThuxEhfnBP8+lFbaWFrIcv5Gn5TMVne\n",
       "ACPhAAADXUGaImxBD/6qV4sZgAG1XnJUrlHd77SG/9g8w+sX+tUNQqZ2vDN1Dl8b62c+GHtwkek2\n",
       "1u4GK1++v0McIzz8Cg3epZPEOOl9dLHbfvlu6O7mwVVN4+uDZHXZ7ruaAwKKDz7u/cyopiAyOm66\n",
       "zqMs+/xhiBbYJdMKmSnSaRNRMlbwxaDWXDeH1TMlyUxD52wqQK3xJamf49g6tLgmC0L7W0Ej6m46\n",
       "TcKRjGmPPyWDfyuuvVrvvJexkj5Jyjk9ipzFPOuAbFbYJB8TCF9Cy2eLEO4WEuP2AkFiqTvX0far\n",
       "9BAOsEBTd6d0pQbVudeO/hnornstHDY+6p+4WefeBPSmCJXseqxbI7oAB3nU6U5kqgBWfPjWhMmf\n",
       "nZ+Xb3t46bVpP9rbrDCxf/9qrmtIysw44QyCh91WAKAEOnomisirDtrQ81ch/vq8FMfJ/fVKNzQz\n",
       "R+PapW32YggvyysfigG3zJnWdCKUvJktvnpy++PbLMQyCrUllhGig9t7nqUrgHGpBkLzwPscOjHe\n",
       "cH2W7h+qDAeb5KwK008qCAxoHIBr+KIM42rkpq57BjNXPZ9dkv99yA4IWnFfgcp7SBklDUfL40no\n",
       "vwZteAT1OIkVBsOauO/Zeou8pDjHjBKWflgWt3mHCrTz/lDUs7kwS99AupzBCGqfage6eaWBOVCW\n",
       "zmQN5S7IfYpMiq3EYam+S7JquFyb6bu34zqLQyWwEqLP/7Iq+WGslRcwzx04FW7NMRVkSJ39TNO1\n",
       "PXo2egoI6pzx3KeLfYD6FnvVAj930u537f9OWiD9lDnfy+DUPM2MuskBTrDqrtJtnyT59kRYc0j7\n",
       "8/LJ90KK3NkRNARDQinWCcZ0OLUixL7EOub8EY67/sCWANq3beSDNhE5SXqi0C2N/Dzj5RzB3+KH\n",
       "S0ZB0H2xCC8gveaaOv5Zh69AdsuoDnieBfjntvA+/8IV0NGaFSzwzVcZzwF1qB1IxMJSTnJySje4\n",
       "/92c8mpRMWLhQ0wGqstJiyFV1tF2CyqOV3X1Lj0DJbACrH4Rt//htY7Ql4QpDyIMbVKtPGuukr+M\n",
       "3vvIctAeX3hRaIgXx0oKdgDafgX+xrUQJZyFnzz9yI0ICvFz11jxjHGQaecNoUl+p5jhRHrcGKYW\n",
       "4hbAjZjoASvDvcsSggAAAXgBnkF5Df8GrODS8OIANkja/nvkkt20kKfVeGlgh7tot5fyw8KvNG5r\n",
       "UNedJiRdNP8fiE1Z4d4wfsnxePHL/KRF5w38wMkAceqENfkGRj+tnxq2d8Xj+SHCI0CWXv04Fyhs\n",
       "b2V+iMPO0G5Px98+GM8iwh7BPw4NiOF0xHdPM7AXJbiTn9g9WnftDxE7X/i2aqHwk5GSPUsV43L4\n",
       "qPFdvnii6Oj1qMShvk5MFFvZdGiX66GLh2HzxDtGlOTyrcElot4J1Hw55kuhGYIlRyWcq0lxSNBR\n",
       "7xCQ0Nxho5wnL70N6OVh1SBdgMUAX3V8Ed09WYwFrnHMuq0Qxr72CBl/SBglky7DkBiJg/1qvpjd\n",
       "ebDnRYPQDo+TDesquip90wWm5bowPqpJrEBP65hESzSy5+OIhHjyRjw8RDxJEvUSNu9s0ARRzcSn\n",
       "8AQuYLb2/C1LdJdNiQf5CxmeqGGcRdE3qC6I1Djsfv867vrZajzeal6r3vT8MPEnuOOBAAADDUGa\n",
       "RDwhkymEEP/+qleItpQARB85SstO+/optt0jGnjNTWthiq5UqWjcweThgsCdLSNV4t9t939/PH1/\n",
       "oPHnOiB0aITZc+W/Vd4e6uSExm7542NNUnd5c+oo1qrEjXPhD746OkYCgTpzhBjJW7ZQ2HyR9iUK\n",
       "F2+2Y6FIJZJNtVi/YU3C2qs665h1Sta1zjnBM8KooYgk9wPDS017qxuifpg8HFZ13lmGU6aXFlso\n",
       "vEqA5wGGzV6ethKFdNdw77LwrR3qi5O4GfCtafTX6W+c+CQ3TZjdEFIBVOCzXrTJvZWZZv5oGF9J\n",
       "fjmPqvckDo/9ggh7F9nMGPWanYhKn92zsx57U3fyr8xr0yINqj4YPkNT5TruLZyp7tOA2xD2ww8A\n",
       "+l2QxvYJsoFtjSaLIphoyI5AFhEBIogZ7RCRGc5V5JiIwo1l6ZmwhhTGPQC/D9JWj5xXvJNHKz+W\n",
       "eZGAnlmOqTm6nyBKOuiBWEQREr7AKBTyu1anE7BKsfL5basIAf/GCwXy1UPkZKsD62grcrDCyf/E\n",
       "GlAu4opNjh2n9usFyYk0pc9L4wRe4YcY1LN7zvCUDd0dvLcPESwl6ihQnlX5jAfvoJ+bnLHC9THR\n",
       "SfN0paHq2cRBOQlFqbrVUKasNFNkZJv8VNi5vsSiCux0xsu/A/+zQzdcG1Bi7a4GIA2Enx/aPVvC\n",
       "XgPIJwfz7wuw7HiWadmnm38o6AZBgFLabUFZvTYo0D/OcxhwgPnke1Dg8k5mE6uAD3Eg4oZS1Xn1\n",
       "UzEydx4BLMNgmMQWfFccHjFG8JVaajyHXE4jptcfcj7qucOMb0c+LnPzOQNn6+/vu/yoGPAXCdD+\n",
       "r7bQ/8ytaLqcUK/GNwNKQPCfZNrS5y75El5Rrh77iztmIp0mUh/9fRBoy/j88iz6b2TYw20P1LsU\n",
       "Bkl6Pk1+0HDpgAYggEJoMoqLZKIDX27F+KGKYozQx8DbP0P66oR8Iwcb/QqtV8AI9oGAvw0j1C2k\n",
       "h6RcCCBPeeMTAwO/DfHvQX6R2vJCAlfyEtnJ/Zx/iT5bscT++8AAAAFQAZ5jakN/B0fIQACIPQUB\n",
       "uEHSFlpEOCGM4TKC8kJbT/riDm03UWtTLmwJ7Ql3SN+Vl1uu8muTRRcYLDPBfZyLfHP5Crs5/fup\n",
       "SC/7VpEJCJkuxwu/srbGuTQgNtbDiAHAzcXBiUSPQIm2QnyKyOUOTO/3FAUT+nSwrehRWkMjWG24\n",
       "FE3v4HpVuEBAO50cZBxq2kL30HMSW7J7D9Yc1XzZI9KWEQscbqbR4JGGuWgJF+hj89efdazzzvT8\n",
       "UYwPigQdA2mnj9S40WUi/79FHm96q70AAAMAAH2YAGQFgVmMjL2il2KlTadSNYMvi/nck/bablDy\n",
       "huPF6MHYP9AL2FPeLOeIOfiVQk7LjBdEVqqNQKIaoedeY2ubwxY9Aaz91fz+uo5qvtE/XJlVTFMf\n",
       "RKbd0Dxg2Ipryh4VrG4BCdXiRHPVn+dRjtsGWF4PhThNGhn3AAADNUGaZ0nhDyZTAgh//qpXiLaU\n",
       "ADtEa8uSb6t93zLDoakTglDcosJ0M0GW/8f0C9U2NbOtakJCCZ7uThytrxO/Y78k3gbkzeoq48cE\n",
       "Mz+QE6OHenwycwhZBSYLzbyQHKIZpK8QO+5UkDfII8k+lO8zxWO2VPuTK4YFBlD1/xtTCNchcKNx\n",
       "eeBpqTu1c7IIoeuA8E8ETSi60VjGLJRB33hXPyPGKHrvS2pUxtNH0VhsEbnYfEERJ/sv7BKNZ9c0\n",
       "97xLQUP5W0F688TtbL/RAdY/EB5Z8XM0/PuVXfzEu3JXJfdUiHgjHlsP7soty0hUvbhnwysGchIQ\n",
       "y9MHhlCnOtzZhnKYkme/ySmfszN5VXj7xEG5CwfHL8hJvzggFPp+6kbZ+usUuLqXP5nOGFFScdqw\n",
       "ppluCj5g4RTpgzrI72nVgJD2CRmTtxIHvq5s9p2vMcteAjRCEmmCo8f+SRPDm4VqzK8t/S2qWDLz\n",
       "vRUFiMjWhqQjGpHWlG5sBfEmrDpAjG7+EO2eOUuqxNU/QgsH+jOMpEP2KJhez3jQWZPUVBeuvhAw\n",
       "tvNXaYMP9HG5rhPG1H3xRhjWKvfkIsKHkPQSxkMwTC3kwau9DNE0v/Se8na45V9KnDi56BmE3T4Q\n",
       "zWv5uAeVqxxLxiDcaZ8rmP8Jk6oNJ2ZXJHavn+SZomqrL3lm/eyFco5k5STNjRE5rsa84m3IiJ3o\n",
       "izYA5KFaWsLHOoBH+QWVBanzUnYrys1LbJfBYo/b/+RwH/f/cyTnpnPcpzMWnxuVhr0kQicoAChA\n",
       "BIfz88xO3GhbQ707NoXFmpK2akt6HUjG4XEPvW5ooGG+X5GY8yNxt79yxblDY/L2K/PY9tbqgbc4\n",
       "SC7IDUzqhbDjqHfh6DjQVcziDB1BhP/YxljBb9pi2cQB408VoKKkjcAXQU4tsZHlZSp76IkRFvK8\n",
       "ZtYq2LPrproyc/tDDVYyDsSkDxqjRWpI4H9T9jGnB6x/JW1rmdl7dawdOoE+BwKen63rZpGbpury\n",
       "rATsGiAThdsL69Rh4CtMaCWXQLUAAOIuWyfEefrbyM85BG2hP9ttrw3qZlvp645AkkRaNB6oCvig\n",
       "Wi9ztaThAAABZEGehUURPDf/BvxGE8AJq95adz1BMDlsGZvQaSB4b81rxnBLbAkfOCKI0tAYeutz\n",
       "/P/kJorVTa9vKAswBJl23lPQWZIpI7I9l9cTuiz4KdGd2qwk9iUhLbO5vIwie9DnmL+gCqDbX9Dm\n",
       "+KpXig2DyotEnaNddzUexyR8gsFXezq7U5G3m8qqm5h4tereM5Bq74VtTQgb7DtNbL6MgcZYBJBm\n",
       "YfJEWr96a4+FOAdkAuM7hYVS4ssramhtgyxZiPOrh5iOIHZTSN5jR/VnSBzdAdbZlRECRaXycSb+\n",
       "9/5xuEwl9+s2F3fWYzHbt5d3moGHiqarjhXgTgHvwINH4oT4Vp09fJy5vmM45ayf2yfUv+B40mEL\n",
       "W0Ch46tj7mPN1k3yQTF84K94vfxFu6NNv5oM1a49OCXYM/48NU3ktbmdBfWAGH9PqYb9roP+jzu2\n",
       "wAgTbgW7ZyMrwvu01AcdBJDckS/vctGBAAABdAGepmpDfwc6dvkAAdpchLms3cpfAwIh9KQ9SfwX\n",
       "OeFLswYm+npQG89Li+h/dVW8pz7iMViql7Ke9xtVlJjgdM+4xgLhsNuZ5oIyUCmlgommPtz3v+6Z\n",
       "DSPCeTFSukOQyQx9SkjxNV+4uvASCfg9/dEFmFE6BC/jSlgb2U/89znwWRjEe6OZnUvluiXlIptp\n",
       "oD+/JlW2wqmCHsWZQQj2nGD4rw3oySCEskGcyUC6Pu0pJnJ/GYPhvrs4vY0rKAJLN9N1PNJoWihZ\n",
       "EpV7KdRUT5SFQ6sSpe4YNEJ0XIbAAGI5wjz0IT/2sGt1uhppQkZjRjWBIPOy9+kYhXwM1vbEl3GN\n",
       "DacxIb9IMgojwKbUrFoGpIOFPxChpH/uDHLFAjYIontuY9dgAAB4MoEonGKR7+T0yl8PQa0PdGms\n",
       "Shb7z4Ie3BZtZNPLIdLEl666VunPzN+S5zBd3bKB7T8hf0IL7hTyPGd95UvocQCvuLmVSxsyfIwb\n",
       "8QAAAnxBmqhJqEFomUwIIf/+qlfHWKoAC+vnv4ujGVok72ybQnUKrTVwq/iZHy4B928dRkKNzgK5\n",
       "udu+oCBzA3EKp+7tcQOOkZSXTb7aKEBomkQKb6bvrBsssGNf1CGwkafkwam1yJz/GvJRF4J6B9St\n",
       "HWA/xIkFDcPyAqDSU3q0RDCVt3Da8R9Fey4waVyzOU+5bZ3UCyFdDAiEu3tT2Sv2jSh7hXalfsiS\n",
       "d6g0YDJ/3bR7W4EI/YgNeyYOvwhgjSfXSGQ3L/hKwuiabSVY9JoZOmn6c6qIZc1Sl+xgsM3l0/+n\n",
       "UZbOiIa3kdLC3uPJiJWEhNUN4XbB0y5hh0SzS6HaCMG4H6/7vstrjGCbq/SK50EpHCgOWUoVGYey\n",
       "cFddctgfVSzzIFhemU6pzdNPGCF8O86VCCZKDKEgToWT7U0Na1i44mDmwHz6qu/5cE+a0Mi933KH\n",
       "JrWD0shL+cSPnAxzV6Yrhoi3pFe1tQ0wUOJ4thItfUF/4SzzoCZhUz2bpGxSSeHffr9c019YT460\n",
       "tjS5QdAeDBl9nqdMZvy3xVmZ1UgOWKu4ynpHkhDcNgr3au29mg0PxlxNIIzyXfY3U63uJPQgI8P0\n",
       "ZTLvYmjjhqILvEFthe34iOi/notXFzbuMZ/R4lMsBlNgi2dFeKyE95PGtFerawrtLzI14Ca1xQCt\n",
       "f5s7TWieGEoeeliDAUlEb7n9IxdXvXE/a7qZcpqhxUXsf0vI0+997nq2zWD2CZQsBTtoa9b5QW6N\n",
       "i1d1Jtkwm+GA/9G8hlhnKmxem1mY1HR57JUli4lB/OtysGHlaYJTu+kldF+DkZtvY5wk7Tq71/4/\n",
       "EwQks6yxW+HkXCL128gAAALfQZrKSeEKUmUwURLBD/6qV36sW4+cE/gETWQAJptBAEa54QS+zhEZ\n",
       "aXXph3ukUHiehOGCIOKTg75N5UFfuN3xFSvHU0RAwdzUmzamljJHeT1iiHQ1oTqyfWkbiwJ1PV/P\n",
       "nS5G/gq2nUUQ2T4in/OU5OIqdTV0m8eyopi2+T4PlOsAC8gURI//4eqyGF2xbAx3BD1YYZRYpuqF\n",
       "Dyuk3W7ABqEQhhWx1GAVT1nyNy7Be3AtdEwvvy/u90Roulu4wj2nwSObu/eKAShx1yM+7K0Lhl3e\n",
       "iZ4AE4ACAtkY7DhqdRQQXBrOtNYXf1HIe0U9m59ZYeDwaPYntC8iGwYL7MZFJ2eGYkf7qjU2HNyq\n",
       "kYY/eKs4reUYOAUIv9if1N+dlfYdJbFQdCh+1l2xTMBXRpVj6fa5fialF6JIpEXGyvSxHNlNm97g\n",
       "B5qhM39XSSbg5dtPxp/mIjYjn9lpf4/lUzHbo3BTUzkvFjU54IXN5I0ImPEj9AwCdBL1/3GDNQux\n",
       "2KQQa+hwrfw+/7n0+d7576PiAtii/WwwHr7i6JQm7bQ2TclD/8qeJXx3/GBwFvKf2qM5FDlc4YhQ\n",
       "HDpdqicLt+HX/ru6TOsksvaca4qaVlK7O3nZoCI4cIf3D/41uSFCe6TZeNqFQHP7CTdO2L242se8\n",
       "RP0x5bQ8KczApf9XnuMYRdBQLw0wqZF4aJMx+EYetiADbPgE/RvweGMxuTa9CAmOhyVOmjV528Yl\n",
       "bfxh0MC0LAWysi68LDKIUu6vr5+bLmCTQl1xn45OD97qs+ewPjftubwMyyle5uHjF/CsxVeSkwEA\n",
       "rSs8PCdDAUiKOHpGoWHHqhZCD2a8FyofZxiJy+BGEMkQLvAae0xgUhJMzI2ssGk/1fZZFjOFqEnp\n",
       "r6D9dXwhb9pPnYv14w3fA4/RQUfeKc392grEIiDEHxqOoFIeM5wBOMugro/J63578f9HrXfH/y6g\n",
       "OIFt5cAW9LpIWGKAAAABQwGe6WpDfwdH4aIADrtZl+06rHy9l7wKy41vgbj9bG4dngl/F0yXFtSq\n",
       "J0UnCAC7kXHZKJwcnGJsWL9AgAmM7Wfz+ZX8lrSvP69K5140EQA3XunG9Xj3ZI5oSTqf4YYZrJ0p\n",
       "HwS1oOU1+tLYmCNPHADkXMIBboviKEV8OvktSm0aqk6Mp4fq1uMW5CsNzAKdG12XbQ16UuZ83dMC\n",
       "UhwIYJrYpI81q7L15mmYmct0u1/y7QJXqBFPNapjhdhAsX/U40YjchbbjPhpTpbNf7SILjXvrzII\n",
       "vi8Mhr7Zl5sP25+XaA0Y3jIbIaYFqc0Gdvdq4mNiuikgqDrEJTvoM2fU14+qLagqnSqbs+LbfcRc\n",
       "KHDjvq81JQtpNbB6n9JGqpekMYqirwsxK0HtMBeSEIiVvwfeT5x1rh049lKVURsRcC5UE+u5AAAC\n",
       "pkGa7EnhDomUwUTBD/6qV3z9iIMh3dvLAAFslY2QW8afhXbtcN5ndJF7dObg8pXrOJMaHWqhqOiN\n",
       "Z/IFoDVQOLRPGgsNUprNNZBZIHM3As/qvhvLk04TWDTZdnheh7rYBO/2KudpRM3I/pUgOqbd9TY8\n",
       "qEGgRemUbOz6J2+uuDiIw8UZyTLj0WlbwIvE1HKCT13maAPS3vNoiRwnOLLTLgK4G+QnDAcsU4Wu\n",
       "bD6AJuHSxL7eMs44Qb2Dr9C58wDKoekBDzyI4EdmBNle73E6ZuiAgamjuIkonJ2jsNno1fTn1NZa\n",
       "CSFsVJw2TT/oSyndeIF5Wz4lpLZDjiC0eNzC1+HOO9U0BnjhM3q+I/vNqs6HIQpzG6PUMGTsVVYF\n",
       "oaDsiKZPbcCyLG4YGL4BJt5gJKpvZEm9zMfu0rzc+9AkRryejJVdEpexQpc2O1t3PgNpNMXUdOcj\n",
       "pH2xcLDorrYMaYODjslc5Lncm//a5IIod3mWRO/U0EutUbKDkrYT4ZVLUN9iHaGkzRRDvcUpX7AI\n",
       "5AZJI1M6aNJli6/D5cUDoFAe3vFG2vOi1FXc3quLdZeXcY6yoJ2manADffbjVinn0bUoOr8jfUao\n",
       "gRA4/6DChgfxJHeiZaVV74F2C+rHgHHEfKOhCYbrPZsY2+Ojzp+T/fuqIAskRn75kc9icZnE0B+8\n",
       "BvQodpHCWdiHPT1MGP81kyVLrh6f00niVMV1uD5YBGkLO2PJlZASpee4okM6A3GeloBVaFnPKzHt\n",
       "j20GWzgUZ0VTuxyk6FhckQQOmeQYuvWLwabAhR1pSwFa/wFyrFzl8PMy9odLxC8WScHkFdCtH9zv\n",
       "mS4P/9RZpZEzkM61mFqp90JPL1XoteaYlZlnJTtqln3sdlNnCg6T22amIpkUJ0CXURbQgAAAAWAB\n",
       "nwtqQ38GrOCvmYdocQAa2cfa6PmhmmwMAC+0AdJKaJJWmEk7WIsWEUSfniu/DNcSzrLBoFgaLCdk\n",
       "sOJxMZrtawsx62u/sJ7d8WMSmyx6y9MTJHdN42xIf9x9XE92j5f9nU43GCva8pUDBxgwM4hojqvN\n",
       "1aVmQqL0xTG+EQSIttkOUBVfo0ybBawo51Pe6vWipYpEiA/SHma8PMSVbTiQMQBGbXV8olVd0cjG\n",
       "OmlWP+Xq2FLUjVB2Zse9N8jcmhCS2RmDzbFIX7DFv8fr4kMTC2n4GE977vFvRA2Ygh7AT9qdLQGG\n",
       "mlQz6yWP0GDIzYGBkBc8nUbd9BPZAj6OAlx5WeuiwlPNKEX7NiZZiOI1uLmrhwZyFKLJ53t6BEPX\n",
       "7eV001IDS/VX8ief+Ae6Z1R6RJs2Cc0qjRgqZ4DE7XDAd7rkKEv6e98eDRepIXAbhP+SSQ2BjYNG\n",
       "xzj6nDQJ6GbAAAACz0GbDUnhDyZTAgj//rUrv/xtYdAAAmqFEzJcFpcCq2cuvh94QiecBg3HVpTY\n",
       "BXB+38vJh0GN0fcMoG2MQNONDG51o0BilAeFmIKierbuyncfFN3KVvdKaNSbPbh0wk+YC1yZv4YN\n",
       "0jXuoazqaa60d8wInCEiKeI1Oj9/CRlzYQEoo/TXwSsuTcWJau4J2zdnN21oI9F0gfdODkm3d9yO\n",
       "u15JrUxkWx5VJ4bY8D47OHOEkdhoQb0EaMkQt901W+IuFiAL31mF3slfkwTMaLkXQWITdRUl37N9\n",
       "vV4/33Afd54pgY0w/TNONdPBkxtzNVOA75ofPyAyoT+UZmM9RZ6uhGl5Ptdbf3MamhWqE/RyJhYI\n",
       "DV+hs7WABDPfBkU3lEOTHl0YQKe5FmDpL1g2utgzH5i0qhC4ZYnYRN8lRId/s1jAW2MRQhOUCC/m\n",
       "ysFk/heQQ/pHBVF/TB+QgkBjuwZvlAbRzUvSkAzHEHqhRbeEHiftCcutEqPvr18xppYU0vnnud80\n",
       "bkAgMSsOZR4QERnzws7Yka4Kws5MgDNUHPDEtDEgcWGVz6R8WGaMlL0ghG6CHV6cT3/BK7f+j+rj\n",
       "szvKasUmmYyhK82FL6DGwGBr+mj/sqje41hPbQUqObUrHri/uOYqNZi8gzPGnX+t45hEoAz1Kn12\n",
       "M50GwlXQeBpYVSGzqT+VnBNUe+kSkZalbSKInMxD7RdcfnRgjW/IJOOlqhTIh4BWHUh+nhwQtiwS\n",
       "FmRYdHCofxYrx61mUI+UiWXYdLkOGgS+jBxmNzQFs9PWnmmEQNKDhcdGrIDPBfkrnvp61BfUFeof\n",
       "dgU5aALcQ/0rZxGrBActHWyAOhKPTZMF+nSTDKK2aqWvifM4eUfEyeosKjKPj++kh4IMvAMgTaDF\n",
       "81QWE+PCSEOOWXyd1TBGPK7BqwdaxkVK+Q3PqZKieX/RIW68bc4/4eQ4uFU/E+d7AAADHEGbMUnh\n",
       "DyZTAgh//qpXiLaUAE7TIhvQaq0V/Fwym+lXZgtqcNs6UW0rGD8G6/8aek7FYU93c3ldHuXY9k5o\n",
       "WH+dRMGcL8RIy9rpAzxcWU+L8yb2AV/V3h3dtUdJO09EM/3FuRuIKmtBvcUP3M4ma/nOUetrsgR3\n",
       "THjdILZfcBqnnc1QRS7ddW7CXMQSBPYZ99enGOKc8cZa/TDfyaDTOb9jvfdyT858a5rgMcPIlXmN\n",
       "1ai254rvVXkA3kvjd/G4+nHPjjxfAdIErWY/GkSbfUeLumaRj5zLX9O8Qi7UImpurVILOLZhAerh\n",
       "zjm0KtJ1R/U0dFTw4+ZqHbHMFamQ3LXXlMnhh8oxJocvQkQ/h98WRb6tijnuzwrROPEvXsDg8jwH\n",
       "MgeHBgS+xTZ8P2Yry6idJuEUZ0ulyveqwFOcI1+gF/xTXYpp9mkw4HIsNAukioL0zCP+aYOJzMVO\n",
       "XI63npedN43ZOBzD5bt3jgPuOIJqZvO9tZCN1OeeEsywXHGvp0kAaMNULYCzcgl+r4HIgaTtLj/M\n",
       "poPKthxm4bROl9LLVQBWx53CR5cC3pDI/5JbNv8p5kX+tQLulx+SGF1bSba0pYc5n3Gh1oTqxuaO\n",
       "HT1XjxQhh8VxeBA/a/1VdcVVmzwDeDV/j+TKSkIZnc/NvXbp/O7vhE2GxKHW9PYFgNTlVe383nts\n",
       "V8NYmt2x91Fr5cHuUph6nFyr1uy2NV2wPYkJt0NfkjzjRfFMhudm+3wLUwWJ5tH3YpPcxCFmJSn9\n",
       "q/u7Q0n2XqOLZQUmhk8wHuggjQ7FKJbj91um5KvnJmElvQVj2d+XwBGMjCXoFPfvbGR6H6EpciNz\n",
       "H5RaGsph7CNiOtBbmsytBaWXN92F2e064CEvk7omlJbhpnfJD4HhRP3J1pYCIbb7+cNZBbv646xx\n",
       "HIsldJNRPbM93JxwsoDLiEZO8nluAR6O17klpVMZmEltz7PpMidYTVX+gePEHIYAg5zkB5/SlZG2\n",
       "mF1NMRXx3ZgisJBVh7MbFxmS84SzCSkCJA94dfHuFi7v6/uLQpW4cmWTaSPs/6rtZaMAAAHSQZ9P\n",
       "RRE8O/8FhVUi8AD+XWjcPBl73ty3we+1faWAQVzB+NLCEHU6IjSZQlAodWRQow+Y+6qkvScrO+wg\n",
       "j//yY+ko7i7l5SjLXN5UGBHeyhfjoNuP77ZDgRfx0Bms077lS4tJSeS9P0ZByiSZUBrvs1aRzl1q\n",
       "mbcEBL0j1jPE/gFgKR+u/jSXbSf9I+BDHmPmUB3HIAKI9A4lI9ztW9suI2N45D1RhThbHBllSfio\n",
       "a2l3SMHMm2NmY/UWL+nfdu+K3LwVoa/xKLUyi7tlyRXsKV3n6eU1D1B8I7WEOnfDkucj29EV/1tW\n",
       "+/Vcyi6cDs9S8Tcq0cTfJlpOn94Nb//61s7rFkQEHQ6n8x8pqV2FyWNazfgbGKgtLevLpfyWwkXU\n",
       "BkrpB2lcGjanLtl7y+tsxbSA0MtH8IGAYG4ZmzslRupAXR7hs8Kl6jCtVFMOUW8RKwfcWxRShNVS\n",
       "mQUWe0iLxskvzJ4VcwmNAAAS6Rfa76RkKlIEBmGbKnKVc7yL8qbJYZRXYsKYXBtDZSfRsxZkFJ+X\n",
       "YD2CnNRm5m3WEYaBJPm70ONFckWjWZUMZC4LbGiiurymcO1kV/z3TKm3q0FrASW/y2dNnfCNibxd\n",
       "Ifx4Be/LOQAAAWkBn250Q38HOBtVLcQAbJG2jXQoILLc7FebSwd2W3a1xolFy9w5pa9ztZ6rbEXG\n",
       "ESuwhVRlYyBTdfabEKKggD6LjBF4CMjaXXXLt/kPKc9nvEm6vvWJGeYPMmcJM/iW3gXsiyx7jK2q\n",
       "rwFCRg+WTHOJCAUEfqDpu1facOdBYq6FssnqeTwe3eaePr4bZ6zmmMsB8UHPC+6/j74xZY4uXsvl\n",
       "uBj1403RWKULndpMecZMxzJxCLukdDPH/nwqH8cOCAt+8XYTP+x9v7GZM/cV+N88AZmgYDmUFN5q\n",
       "QfTPO/5glAp3XEP63XET1YEo3IfplRaWM/N6qGnnAn8AoKYyTlYGHHGww+p3N5nc13+Gglx53Iqk\n",
       "pK/yOXD5G8i2hLUUIth2p/bqEdlMLETwGYa36wqswJ5MbrC/GAPO6Mgp6ke6Y8DM/sVfFeXfWHI/\n",
       "/MSThyumJhdx0C2Hfz6fWuwqYwZGR91Xa1HYLdy2AAABcwGfcGpDfwaw04q8AIU95bXk7bg0ThVj\n",
       "/kyxI7KLjhgJ368ZJHp2cazRcFMz1zRBdU/09t6B3f5QqV4oW1EYOe/a9rsN+/rYJQLlzmbHj4I1\n",
       "rSsmuVSwiEwnVClbcxWG3oGUmZ63TqZDW7ZJoCz98O7GXSf6j9PE72Mn2hYxpJCIDWCeLMa73ag4\n",
       "DcjE3E1xoLBTe/V8ZgmNemKwKeA0hABd5jEND55YBm40G1Dbzhe65yLfacEnmaHFzSK/LMhFAR2N\n",
       "l1NjsSIq7dEAM7EqQXc6G9EIMY9/X7vjjl57i7PEcLHRFIfKpbZdH8t9Cley1hMtCSi/QOu2ydXL\n",
       "vwXdX2OyLfuJOC/mslL6Y1Tr4NU7ldtr+ZhDZZCcDxGsHxYur4mfnxNyhu6c5FZKaWrgD1CiaFgA\n",
       "AES1oJrIM+qBqGkQ/h3OSyxzY5VJy2VID9qvt9q75bHiM14ayre8D1sezgATHcaNjK21+A4zmWk/\n",
       "WcKt4CWgAAACc0Gbc0moQWiZTBTwQ//+qleZmlLKABo0x1uGnb48iTiGDZD/28+K7AtP+jhAheqP\n",
       "o+73BqNjdPBKIJttfx6nBFpQU/fPKGwuKu2QBta91B64qwFyOQB3x6yKYARCvdGPoSceVsKnncdN\n",
       "QyEViMhI7jQOT/iblZIWsOFB5vXqD6/VHfsEfqw5q2+2mPr4eY2xODwd5e3MJdW8pgjF5o0SiOJ/\n",
       "6xTHq0C45WQDWBcfZYqxvA4WFWUBBsnvcfUbY84dhQqXMicDrDMzGnmwmt7c8VJ1E4okP98BXjMq\n",
       "rcNZTwgDGsKBtI7vxJ8pKKHSPz8JjvKwmaEw4om2q+3F95E8k8APMaxq3FJpTvmRAb6AgpmwwvEb\n",
       "3vb9w31J7ShZ1mXU2ZQFAUrQA7FUOH1L4v6n9v84J1GwUNAyLdCTXdXigUqHccdSFEBia0hBx6xe\n",
       "i+jJ7OMPeAa9zuzX4s2od4xputOeQdDAnT45DezSL2o4qMvM+lLJwVgSgKc1+NI5aLfXvMZigXAv\n",
       "HlKXXlGoAIDG+bC19rrs7EYdIHjmSkvhVZrf/spucPgSmqqzNs1klcAa5oxOZhORDUleIzZuonCI\n",
       "JXN90gSPicbWUf0EmeFpIRXIPah4PJB8oe0VEEXlU4RSUxV/GkTiO3HrS+Ss782u05hlnhCTRFie\n",
       "wHb6BDI6yYEOTuhGFdSEVveL0yv9elES+NDEkvAR9j/4N3E1lIb6IsfhrjTqZ2IJUfF5hwUbnqc/\n",
       "p8CP507KNRbXh/O9ykzHlRV/0pX3ilzzmdK25xhhtZwBR4xHMIdNq7ql2wSnI08L60SgqyWWdF4L\n",
       "0jbgSpselAgQoQAAAU8Bn5JqQ38GrR16c+OzcQAa/EBZZ0MJzZYTQgP6O/XdABavPLvkWANFuAFl\n",
       "ZIy+3MVs+b/zIUQqcf/iajBRYYtmd2g52gIeOu9Fv49H3JTNO9zMShgi4azSb/8UfWm4cpXUcy03\n",
       "uQDSiTqwoG/9dbFmmqsXGa48pXGBfYzz68rXt+zg4bxb/OSu5HHwxrwp/TyKXh4I3EOP2vSoim+n\n",
       "V5VQKj1TZL/mPaVIx7I9es5D/8dssnhX03UVBpjGE6mgMY3C1etEycPLVcE3eFfkMtUKpBa5LX9g\n",
       "1zCXY8/Dx2qS0msXVFJu4Hq83Joxkr46Pe5nOReyARKk4P8c+02bL0YP/CiYmfkwC5JgS51LuVRY\n",
       "xiWRV76Wugx9R7fxnEa0vY0YQn82L4at8ROG70h1VjSsrUbYWPovU/Ws3FLa7iKdtfLPS4N6XW4E\n",
       "/CPleFlbSAAAAx1Bm5RJ4QpSZTAgh//+qlfXRPG4yXiYEYAQqdclDZjAIZHrhiVrLULIjKaKsxTE\n",
       "keiPVkik3WrwzCuWYnepNBrXr18FQhw6LzF7aPdYZTWyKXLQyg1TSAlRtG2IkM7XWRg/+KEj4tPA\n",
       "XtSeluJwhVWxW/8f4SLcafHYlqjN5HYcaAYilS4xxcVvbUQA+ZGJfdDsAH2xKNQlPxpG0uvbx4s4\n",
       "e2ScrNgTttQmKD1WsuaLOvMEU/RVmSVkuqDUUxJUPbst0AeYSaFxzkfrd8V5R4WeFq8B0MDh7QFw\n",
       "UqO6UhlysrQLr9hQfNU3uJk11A82OqbD+UYAt1XDrmRTJbFyyFTtHwYtd9yWu/DKcScZ9d+19+cw\n",
       "k1QWlAocT1oQSWPZlBCUQA9/kKs13eoEv7M548+yG/Zw8muD8uSuWCoAjvTFCvETqERZ8RZ/bpuR\n",
       "ao0B9aqDjsS4PusogXsiw0De5LpV0aRY36ejt6vYwRt/GX9JPZSMkYGIiAKyHDoO8Yr6fPXBZasp\n",
       "qbO3ijQFDkvnTrcqe/sxkuYjYvm5Z6knWdkcx4XV9Lpqea1sJyhhE8zzA+nnGXGsNQeQjfeGL9K9\n",
       "UAu6JyM5nkNBnKztQ1wE1XKkky29LHlkrpTUsfbeRpgmlc0b0iKsehSLIE/FkOeb47mA+5AyyY4M\n",
       "91E3X1jKaj0I6gWlU4PpasiKfP0+Z5mKT0tmMOvKcG6c3tzoMOma33tJiZpP/7BDugVLl/OyRVU4\n",
       "M3SuqqaNUyq86iVJ+MIZX87FMv2KUMnk7b6K1UAHEUvzVxwVriyMLey+kcBHWVJoNG+EwaIEwK8c\n",
       "V3H1Jj6ZogLKY+elxeBAmD8ALBESFPbL5KEQcq6iWpOPvYi35IEy4jo2kMjgXmH/KKu9AB102h32\n",
       "CnKEp+kQN4fBmgg7UUJQDUTYrqs0G/9B8H8D2fhI0Y9e1bxVtfpWuImNVx03Cj3DHhF3Cnol3Ff6\n",
       "wGG9i5gN+/rjdAP2IlgnCBVmG6VHz3kybiwM2yI9laxV+PSBXXJi1CpeTULiBqfp3teAWUZrQMzK\n",
       "84WN8YdmgBsxgAAAAvhBm7dJ4Q6JlMCH//6pnFvsYANquwJd+VSTPoSKjnmzwDxyi9LUxctgd8LX\n",
       "sBFBAotUkSW9bxorboDQecJAex/YjKQ/lZYANsQWmQZtp5rHtH+BLWqJR4gtrhewDaWHhKwZa7MG\n",
       "Xr6gczqf5aBxBp8R+ibwTItAT3/3OFhUMUl08riP9qZAiFqn3SrNSCnZdRaYyZSKzIZ7rbW2U3kl\n",
       "L7TGkO8zTi+9KpewmehB8inNWapdiifKEEn/DS+RUjuAdFpOvuctkrN/FzQr3kXgUqwUvGdSVTs2\n",
       "0QVIu2rDpDBfM4/aHMmvBReujW5Cc1igwThQDiKbZTonnWgLWCeuXiBTT/n/uUmoaal0Z37LRH+b\n",
       "WIlRGplZI2/+x8ye69FstKvU7xcz5dNb8plEPDEEioWbbyghon4tX55awq89+JH32/rmA5PY3X/X\n",
       "+ab9Udv+rajTC87Qx6v4zDxouHWPJrPVkHtkZtEMvpmye9KvXOAHsvjXt3hHkahmHuUvwLb8Jrz3\n",
       "zhk7ywjiOswfB2NinsVSmXe3x/2aCjCZUEWMRDtbDPzWBU6ENCRWL+5M2q3lAediFMVuBTb2F4Bv\n",
       "/lNPZSjVnUESZYcBojzLyBaWORLJdEW/gyfrftfZ6tymShxWo5G9mG6UCnHmgaZbl2AtpbDOCD1I\n",
       "PqAVAxEEZs3pwtcakhVrIOGoGerulB0IV7hPWkTbFbSwlags7821j9Nt1GXPs143/9Sb173PGZzt\n",
       "/V0VgfYsMehfA2QgwXnrnPg8IuM13tZeFZzOUDVoXeKvHB3chsFtPzyF//V1bgnynji8shldDjT/\n",
       "5+1Iwn/EYQi/ARaB1kH1TdhZvT6XeibICZRddYX+bJcAQqqoArwDNFnRoMno3ETN19VcOekc05xk\n",
       "V51hVurQQZCUV2BuABdH4f/+LJaF8Srs1Kt46QXznU/WyEk/fOVsq4aoBcTyCkjhMvcw2gFYLm0w\n",
       "Am8LkvBrtBlAL+1gFxh7IItqFHOCMmbUqxXsv84lmfzrAAAB0UGf1UURPDf/By8CWQAbVZldb/uU\n",
       "8fL9MqW/aXSePAQ0+JRm64hMHXYggYIZ2o8DEHw4weiUcEb/s1SSa6E31xrsbts5A52CMSvBUHDx\n",
       "icyLx44K03jcm2aeXF7chhdoiQ+a+gTeSB+2nSl4ZeXmomfDqOcKY5tbH5nCQEsVTuxJmY0tdwyu\n",
       "QRYGDSMv2PndfSdcutrsGZgC3uz0+wnPAX3wxVozxVTmdr6Rn5iCAUf9hRDi/l+8Qn2SJsCmKQ9T\n",
       "yQW678gD+BLweYAPu0Ctz8rgUsMWl2WKPV8Y68UmA0+B1XMBx9YyGeNR5M/P8+TITfCIK6a06IXt\n",
       "y4pvKT+GosZuwSqevosoXyVtoUWXTW6AT4FrELtyiF1aE+PpMnDe8BytB4mANc0sofckp8yhe+hg\n",
       "PbW+PRmPrPu9VWTiG9nqi7Kagjq6TdymaOI4QA8ZxZFocw7rPh9na6dXSW0/6X0GgZE3Q+rwFBJ1\n",
       "tD85i+OQwrI4LWJPcYWVU+/9zdz7z4xN79r7WYWGd4jE/B30tilwrMCklcQQD7SlX7bwwe7Oi/wN\n",
       "O+4+nNmodyR60KP8U2dk9dqkUBTkwylGI+jJ266eFWqhcdrVMkpp4d+jaZgGpAAAAU0Bn/ZqQ38H\n",
       "Q1bwAhT0F5Z7aFenR04ygy4E8tQmTtxFBSb9Akkrvg1Eka63gIP6PWGzks57aliox0bMq9s6KY0K\n",
       "Mp+BRYDxByCk2kVxaWaD4XHCt/SthDdUPhxSkMbxwx/a1PfyZQsjMUuqxbbhe0CRx4i9AsAedn4Y\n",
       "AAwNPr+3kLrVLjX3rYI9V5kNU9pYKFV6OqIxXi4giXCsmVr9xAiQwqeKd7guUY1nRWCX7J0xOgGk\n",
       "GFBpH1Qa5HfIYo96EvUyZYeupUQh/SMo8FdqjV7wg1ogd0BLGC3Wdi2uxqriw9rahUY2L5I4ErCS\n",
       "yKGNizOlCdvHetmZQyJpowZZ1EITS3zi9rxzkif5AgkY1IPhJS1CrTDyGeyBTzz6iaq64nwfFA0e\n",
       "ySc/QOf0CD60wEp1sDzZTFQV9m6lCkDW6c9DfwkUt0S9Boilmd4QcvkAAAJkQZv4SahBaJlMCH//\n",
       "/qmcZEMYAP6Q+X41bd6xn0yLxlS8/7dzfIQKF6pw3cuwG03eb98eYnfInkphnpnjABtIPY/s7ny7\n",
       "TbHfUkn9P1RVRQLOmO1UxM+QCEvwQGtsqPnhetECl7fiQ3IlVU6vyGWPM2dofoKYB2EHYeiGQBEq\n",
       "17tZOPv/XV3bIHMPEPa7z6GYXHKoV9vbylw5onx9uviCJ3e1SBJ29N21ngWdAw266TN1pB+c2FzB\n",
       "FwXflN5DaBE9nNEwC4z0uxzk/CTvfXrrJqeySTHdgABfSOKrnZlGjr2iH6TvSv9L69S08MzOl+N7\n",
       "rv0huHaO8wc7GtnPwYgSH/cUmqJUwqFSZDSAPrT+LtD2SI/O3daUf2IKsFmU9mAfQhiCiJM6B2xR\n",
       "H1BmRNCHhtZjxvC92yd0gHRJuYFwWVesnznrOAITn4zlciqpIBVGFkpY70ii9P2Z+rmbSWRwFv2g\n",
       "/ZBz+719ELabpBgI1cEhx7KWeKYqmkY/72nEe4ghg05gd5jOCQ3vAkjAdtsRHLZpoA/Srb6W+Zh7\n",
       "wgv1KkYgk/lXlqCWi0fYI4KZzQ+94REN3NJEn1COSPB2VEUsljwrfXHB5znuNiqLai7ew6xQNvNL\n",
       "5C0SRnOcJCnIluaN/+JJ6Kdwu+w+FCgB/zpHbkNstcpq3jJvT6KNVMeVOWf6EGPf/o0TIZXCrm2+\n",
       "iYlfgfysCy0Us4BkkTNN6lEY0IXf7EGe1zy9KOizb3eMUcn/gr8J+U7AZX7Y9lWzdOFyLerUUo9+\n",
       "/8cjVKLb+P1jw3jJ6KCjyJyLPIYN3h9S8kA0UUl5AAACekGaGUnhClJlMCCH//6qV4i2lABO2/RA\n",
       "PolPn6J1oFMA6kx1ykkCPeXuaibSChqFqORJiWaNlYNegr/oF6tptPEG9Fp7aM/sMnLBtMspORD4\n",
       "5dspuVtrTjHjH5FQQAeocPI+Qi4pqH0zbEc9Hmgb7WGLDfAzMnVDGLsgmvpdywEBhxqVPW7JFtPZ\n",
       "q1pP7o0qaLO/ZGkpFrSD936xV8UF+CcIygcoAFlkIC/RUa8D+j++sXmmlVucIOYwqulyJySoYdUl\n",
       "8J83QvBj6+GrsZicshnSBo4eS2YvYhLAEjaeXakSp8wHyeUjShy/TKYGvkUYQmNtlVDpCBVwCZFQ\n",
       "kLFOD0ANwvSxrXQax5/taZ7/euSavPwm4VBn62FH0SmX8yb5DkIPHjFxl5I8v9eAr8dd4971x0oI\n",
       "eCeAFKruqR+/jJzH4TERit+Nlt/ehByFoFn1ocKVQ0ca7FXt/+pjAoMqUhgArQlBoX4EXCKFhrLL\n",
       "MWaMtTtF2Oz1AmVxqQVkvvs2wDgOjIUOcQJehpwYpmSaySBqS+p/FSVhB7qmpSa/KfUqyLknFPIV\n",
       "liwzWVkIdTro4cSdlHt1jI/JEXowWWKolqIKDkKNL5v5FdN+Qc+/Gkrx+4kLeZMtwKcjrqmQpvx+\n",
       "IGv5t+4Rq2RhOtgr4epInigi8QP9myJVaEAISlJ7ZTdBA1p4SyvmSbdde8L9LldPvMkZ0otEvmlX\n",
       "yKyWQm3jFNRjzjnPCi4bjV5SbKvNy5ztFh4JVWqD87TcJoKmLDme05UWQSfBEMuMssO9cl86mxI8\n",
       "aBiOn/4U57uscW68Jsc3BQFTLRDqiP+1zW6mSMGoaF/C4ulrVj+xImgAAAImQZo8SeEOiZTAh3/+\n",
       "qZw/a9Tx0ADagF0x+7dy7aoELDtH8gq0j1lZP1Bl9SVl637WHDwziNUkke1Td1Grx0yc/TswHK2K\n",
       "qWXqvTjvir/PXy8HzIKDI/KOpQMkWho8JpLeOq+925jpDelW9Fm1WZW5lEDrFjrL56JPSCDDaCLN\n",
       "NTKcx53LIlqnGn7dwjClPNabnxmdx46cqyooTnoifQ6FkdCB8+LrOuwc1se2t7+MZSmtZaUBTZA+\n",
       "RiEdw0rqLHd0yiFel2j5QXlKNeYWNGvp7+v/hM0yZySQITkxmU6bfZpjCM5Bw9MyAEi3GFtfDaKl\n",
       "MUqOdC2YmEwz9RULIR6/Vi6GVyN9WG70WzJY1mtL0T+QEc/S45kh2zufrf2aKQNUhr68FLFkeLuE\n",
       "asCug9eH5pvjQ93dQeVqRjslDfMBVTGtwo7AUpAQNmGABNKn94knbDeL4i3rNFGsXq+/f7XaEprD\n",
       "QFbtPkLNwPprIq3+bc2HWubefG9/FUCQZYOdak+eDsKZ65OH9f7uyQJX/s0b1ntLvfWO0uCs9dc+\n",
       "PhROlseFqNG5eYMkk9aiUtleSs8F9rUZj5ivf2pvzOk8TOdtzBaXrtYlRBBQlTVvsyaVlXOAveNd\n",
       "e58wLtxslan0LU/w/pkRYnCS+E/I9ySp2XyASWwySDSO4mH8kzBsNuOU+PG7RZJsGawc/hqb4h0v\n",
       "ffQZSlx+n774daLxb/17ici7GX31mXcKkQAAAXNBnlpFETw3/wck5criADZC9KkE0dGT4tfqfc43\n",
       "9DVsS6XQn+J2QSGRJwjNxvmp8SWft+vPX1GNMCnUBVG+1F4cbIbrEDrl6X5PKFv0IC8fjMz5PtsC\n",
       "yszMf9r6TlCu/9LUcWP79oRpolokQAZvpPf3vv9vqXSv8ePqNAHBq7arNewBLd1cwoVpRDjz1JCT\n",
       "hDb4TDZ0mHnGLTA234FcoF6ELryhUk5xf8yPHUqnVxp+eBrQ7NogzY0zW/x83JXkudJZFxKqOkTg\n",
       "Q1TkfD2cTkv8dA6Q0eiIugTvoU7ZANF3ylveiqmNeWxRKsjLprUJOzisuIJW5r7NFvSy0Bq/2w2C\n",
       "fHgMzasxi3aTOVpGGkQHkomM5J8hCcJGMnAyuK87rrun78YMO74G0xzUkx72/sgfbla8qO07yMgQ\n",
       "MYoSgssxpchUiRdK9A4T6UJMffzH6rdyj07u76fBCWJv88mR+kIDYKTHau12Iy4zbFCjWvpl80oL\n",
       "4AAAATEBnntqQ38HSzwiAEKe81F/3njFLB2ndy487+8CScxBASS2tKKi4N0D6zG57Fuv+f/Pfk5x\n",
       "FFbzwZr+uv+FbPukJ4VeYygeRdueg3cqUGH2O3njA8GjQWuFxp7Qx9UsmIeJ3wfCf6zOieFkqPrE\n",
       "5z7lU3gcwtmapgxcuL7tKFhqO59fncrRFND1lJmU9FyZnzyUcIMJXC699AI1q0eHcJ6ExyXitpln\n",
       "ty5HiGsUXpxgxulBa2dZTuueKmg9r9X+967g0mtOkW2xstJh3Rhw46Xp/Q2053/njZ2+nsZWeooJ\n",
       "PNcUQ+SiuqDzDk7979YjeMCFXQGE6DbPoIatuSd+K49PjIvV1Q1MKIhbaBWZpQo4CdlTVhkh7CbU\n",
       "gnd8mXp+tMAAAJ1F2IxXlSiX/sBSOyjZgQAAAYhBmn1JqEFomUwIb//+p45M5DgBB9ddVb5nAPz5\n",
       "0NePkvrsBkMDqTq118VkmieSci8J0uQr3gkE6xGaHZ95ozYla4YBuoeqQ+aBZPAOrDpK57xA7oFu\n",
       "R8Caowsq5KBpIgyyy/2dmvO+lkD27Zfw7C+vx3zKQ85B1maReUq9iYPxD7U+HP2WIJFexlofsKEy\n",
       "f7A1gDcPY0gs4mGYalbrtjAu82d16kX8iDeJwfXHvQF6mZMzA04DFmmiT7RQOp4b7LR0jflOFdd4\n",
       "pKZ4VJwf/3Bf5ru4R3GiXEX29DHu/I7JK/CmrY0Q9rRCGh8ImjBbQvdk4KiVKTD0JSjtalmqiCCQ\n",
       "he9SLMK/oWSMhcaYa60Fu8kyxcrnkkRM7jfAA5iz/Fw/44Wy/UISOC7zZHonM8mEo2zxZZ/HVRJf\n",
       "BpUZFyHefzhNJkxZ27uurdz3sBksXfkOY9aiES+gsGM/kM0lXpyk8iaDSeAAAIiBZA7UAFUrpovt\n",
       "sVO3CM9CWqG1IPnCn92QW4HRw8bxiQAABHZtb292AAAAbG12aGQAAAAAAAAAAAAAAAAAAAPoAAAL\n",
       "uAABAAABAAAAAAAAAAAAAAAAAQAAAAAAAAAAAAAAAAAAAAEAAAAAAAAAAAAAAAAAAEAAAAAAAAAA\n",
       "AAAAAAAAAAAAAAAAAAAAAAAAAAAAAAACAAADoHRyYWsAAABcdGtoZAAAAAMAAAAAAAAAAAAAAAEA\n",
       "AAAAAAALuAAAAAAAAAAAAAAAAAAAAAAAAQAAAAAAAAAAAAAAAAAAAAEAAAAAAAAAAAAAAAAAAEAA\n",
       "AAABsAAAASAAAAAAACRlZHRzAAAAHGVsc3QAAAAAAAAAAQAAC7gAAAgAAAEAAAAAAxhtZGlhAAAA\n",
       "IG1kaGQAAAAAAAAAAAAAAAAAACgAAAB4AFXEAAAAAAAtaGRscgAAAAAAAAAAdmlkZQAAAAAAAAAA\n",
       "AAAAAFZpZGVvSGFuZGxlcgAAAALDbWluZgAAABR2bWhkAAAAAQAAAAAAAAAAAAAAJGRpbmYAAAAc\n",
       "ZHJlZgAAAAAAAAABAAAADHVybCAAAAABAAACg3N0YmwAAACzc3RzZAAAAAAAAAABAAAAo2F2YzEA\n",
       "AAAAAAAAAQAAAAAAAAAAAAAAAAAAAAABsAEgAEgAAABIAAAAAAAAAAEAAAAAAAAAAAAAAAAAAAAA\n",
       "AAAAAAAAAAAAAAAAAAAAAAAY//8AAAAxYXZjQwFkABX/4QAYZ2QAFazZQbCWhAAAAwAEAAADAFA8\n",
       "WLZYAQAGaOvjyyLAAAAAHHV1aWRraEDyXyRPxbo5pRvPAyPzAAAAAAAAABhzdHRzAAAAAAAAAAEA\n",
       "AAAeAAAEAAAAABRzdHNzAAAAAAAAAAEAAAABAAAA4GN0dHMAAAAAAAAAGgAAAAEAAAgAAAAAAQAA\n",
       "DAAAAAABAAAEAAAAAAEAAAwAAAAAAQAABAAAAAABAAAQAAAAAAIAAAQAAAAAAQAACAAAAAABAAAM\n",
       "AAAAAAEAAAQAAAAAAQAADAAAAAABAAAEAAAAAAEAAAgAAAAAAQAAFAAAAAABAAAIAAAAAAEAAAAA\n",
       "AAAAAQAABAAAAAABAAAMAAAAAAEAAAQAAAAAAQAACAAAAAABAAAQAAAAAAIAAAQAAAAAAgAACAAA\n",
       "AAABAAAQAAAAAAIAAAQAAAAAAQAACAAAAAAcc3RzYwAAAAAAAAABAAAAAQAAAB4AAAABAAAAjHN0\n",
       "c3oAAAAAAAAAAAAAAB4AABPhAAADYQAAAXwAAAMRAAABVAAAAzkAAAFoAAABeAAAAoAAAALjAAAB\n",
       "RwAAAqoAAAFkAAAC0wAAAyAAAAHWAAABbQAAAXcAAAJ3AAABUwAAAyEAAAL8AAAB1QAAAVEAAAJo\n",
       "AAACfgAAAioAAAF3AAABNQAAAYwAAAAUc3RjbwAAAAAAAAABAAAALAAAAGJ1ZHRhAAAAWm1ldGEA\n",
       "AAAAAAAAIWhkbHIAAAAAAAAAAG1kaXJhcHBsAAAAAAAAAAAAAAAALWlsc3QAAAAlqXRvbwAAAB1k\n",
       "YXRhAAAAAQAAAABMYXZmNTguMjAuMTAw\n",
       "\">\n",
       "  Your browser does not support the video tag.\n",
       "</video>"
      ],
      "text/plain": [
       "<IPython.core.display.HTML object>"
      ]
     },
     "execution_count": 52,
     "metadata": {},
     "output_type": "execute_result"
    }
   ],
   "source": [
    "# Create an animation of the traffic density.\n",
    "anim = animation.FuncAnimation(fig, update_plot,\n",
    "                               frames=nt, fargs=(rho_hist,),\n",
    "                               interval=100)\n",
    "\n",
    "# Display the video.\n",
    "HTML(anim.to_html5_video())"
   ]
  },
  {
   "cell_type": "code",
   "execution_count": null,
   "metadata": {},
   "outputs": [],
   "source": []
  }
 ],
 "metadata": {
  "kernelspec": {
   "display_name": "Python 3",
   "language": "python",
   "name": "python3"
  },
  "language_info": {
   "codemirror_mode": {
    "name": "ipython",
    "version": 3
   },
   "file_extension": ".py",
   "mimetype": "text/x-python",
   "name": "python",
   "nbconvert_exporter": "python",
   "pygments_lexer": "ipython3",
   "version": "3.7.3"
  }
 },
 "nbformat": 4,
 "nbformat_minor": 2
}
