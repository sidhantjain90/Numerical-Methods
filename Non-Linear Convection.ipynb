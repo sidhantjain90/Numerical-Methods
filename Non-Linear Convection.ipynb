{
 "cells": [
  {
   "cell_type": "code",
   "execution_count": 2,
   "metadata": {},
   "outputs": [],
   "source": [
    "import numpy as np"
   ]
  },
  {
   "cell_type": "code",
   "execution_count": 3,
   "metadata": {},
   "outputs": [],
   "source": [
    "import matplotlib.pyplot as plt"
   ]
  },
  {
   "cell_type": "code",
   "execution_count": 4,
   "metadata": {},
   "outputs": [],
   "source": [
    "%matplotlib inline"
   ]
  },
  {
   "cell_type": "code",
   "execution_count": 5,
   "metadata": {},
   "outputs": [],
   "source": [
    "# Set the parameters.\n",
    "nx = 41 # number of spatial discrete points\n",
    "L = 2.0 # length of the 1D domain\n",
    "dx = L / (nx - 1) # spatial grid size\n",
    "nt = 10 # number of time steps\n",
    "dt = 0.02 # time step size\n",
    "\n",
    "x = np.linspace(0.0, L, num=nx)\n",
    "u0 = np.ones(nx)\n",
    "mask = np.where(np.logical_and(x >= 0.5, x <= 1.0))\n",
    "u0[mask] = 2.0"
   ]
  },
  {
   "cell_type": "code",
   "execution_count": 6,
   "metadata": {},
   "outputs": [
    {
     "data": {
      "text/plain": [
       "(0.0, 2.5)"
      ]
     },
     "execution_count": 6,
     "metadata": {},
     "output_type": "execute_result"
    },
    {
     "data": {
      "image/png": "[encoded data removed]",
      "text/plain": [
       "<Figure size 288x288 with 1 Axes>"
      ]
     },
     "metadata": {
      "needs_background": "light"
     },
     "output_type": "display_data"
    }
   ],
   "source": [
    "# Plot the initial conditions.\n",
    "plt.figure(figsize=(4.0, 4.0))\n",
    "plt.title('Initial Conditions')\n",
    "plt.xlabel('x')\n",
    "plt.ylabel('u')\n",
    "plt.grid()\n",
    "plt.plot(x, u0, color='C0', linestyle='--', linewidth=2)\n",
    "plt.xlim(0.0, L)\n",
    "plt.ylim(0.0, 2.5)"
   ]
  },
  {
   "cell_type": "code",
   "execution_count": 7,
   "metadata": {},
   "outputs": [],
   "source": [
    "# Compute the solution using Euler's method and array slicing.\n",
    "u = u0.copy()\n",
    "for n in range(1, nt):\n",
    "    u[1:] = u[1:] - dt / dx * u[1:] * (u[1:] - u[:-1])"
   ]
  },
  {
   "cell_type": "code",
   "execution_count": 13,
   "metadata": {},
   "outputs": [
    {
     "data": {
      "image/png": "[encoded data removed]",
      "text/plain": [
       "<Figure size 288x288 with 1 Axes>"
      ]
     },
     "metadata": {
      "needs_background": "light"
     },
     "output_type": "display_data"
    }
   ],
   "source": [
    "# Plot the solution after nt time steps\n",
    "# along with the initial conditions.\n",
    "plt.figure(figsize=(4.0, 4.0))\n",
    "plt.xlabel('x')\n",
    "plt.ylabel('u')\n",
    "plt.grid()\n",
    "plt.plot(x, u0, label='Initial',\n",
    "         color='C0', linestyle='--', linewidth=2)\n",
    "plt.plot(x, u, label='nt = {}'.format(nt),\n",
    "         color='C1', linestyle='-', linewidth=2)\n",
    "plt.legend()\n",
    "plt.xlim(0.0, L)\n",
    "plt.ylim(0.0, 2.5);"
   ]
  },
  {
   "cell_type": "code",
   "execution_count": null,
   "metadata": {},
   "outputs": [],
   "source": []
  }
 ],
 "metadata": {
  "kernelspec": {
   "display_name": "Python 3",
   "language": "python",
   "name": "python3"
  },
  "language_info": {
   "codemirror_mode": {
    "name": "ipython",
    "version": 3
   },
   "file_extension": ".py",
   "mimetype": "text/x-python",
   "name": "python",
   "nbconvert_exporter": "python",
   "pygments_lexer": "ipython3",
   "version": "3.7.3"
  }
 },
 "nbformat": 4,
 "nbformat_minor": 2
}
